{
 "cells": [
  {
   "cell_type": "markdown",
   "metadata": {
    "heading_collapsed": true
   },
   "source": [
    "### Setup"
   ]
  },
  {
   "cell_type": "code",
   "execution_count": 1,
   "metadata": {
    "hidden": true
   },
   "outputs": [],
   "source": [
    "import sys\n",
    "import pyspark.sql.functions as F\n",
    "from graphframes import GraphFrame\n",
    "from graphframes.examples import Graphs"
   ]
  },
  {
   "cell_type": "code",
   "execution_count": 2,
   "metadata": {
    "hidden": true
   },
   "outputs": [
    {
     "name": "stdout",
     "output_type": "stream",
     "text": [
      "3.6.8 (default, Aug  2 2019, 17:42:44) \n",
      "[GCC 4.8.5 20150623 (Red Hat 4.8.5-28)]\n"
     ]
    }
   ],
   "source": [
    "print(sys.version)"
   ]
  },
  {
   "cell_type": "code",
   "execution_count": 3,
   "metadata": {
    "hidden": true
   },
   "outputs": [
    {
     "data": {
      "text/html": [
       "\n",
       "            <div>\n",
       "                <p><b>SparkSession - hive</b></p>\n",
       "                \n",
       "        <div>\n",
       "            <p><b>SparkContext</b></p>\n",
       "\n",
       "            <p><a href=\"http://ip-10-252-188-232.ec2.internal:4040\">Spark UI</a></p>\n",
       "\n",
       "            <dl>\n",
       "              <dt>Version</dt>\n",
       "                <dd><code>v2.4.3</code></dd>\n",
       "              <dt>Master</dt>\n",
       "                <dd><code>yarn</code></dd>\n",
       "              <dt>AppName</dt>\n",
       "                <dd><code>PySparkShell</code></dd>\n",
       "            </dl>\n",
       "        </div>\n",
       "        \n",
       "            </div>\n",
       "        "
      ],
      "text/plain": [
       "<pyspark.sql.session.SparkSession at 0x7f54801570f0>"
      ]
     },
     "execution_count": 3,
     "metadata": {},
     "output_type": "execute_result"
    }
   ],
   "source": [
    "spark"
   ]
  },
  {
   "cell_type": "code",
   "execution_count": 4,
   "metadata": {
    "hidden": true
   },
   "outputs": [],
   "source": [
    "# Set the checkpoint directory\n",
    "sc.setCheckpointDir('/tmp')"
   ]
  },
  {
   "cell_type": "markdown",
   "metadata": {
    "heading_collapsed": true
   },
   "source": [
    "### Data Import and Cleaning"
   ]
  },
  {
   "cell_type": "markdown",
   "metadata": {
    "hidden": true
   },
   "source": [
    "The data analyzed here contains flight information for all domestic flights from 1987-2012. The raw data contains both airline and airport codes, and so additional lookup tables are imported to make results human-readable"
   ]
  },
  {
   "cell_type": "code",
   "execution_count": 5,
   "metadata": {
    "hidden": true
   },
   "outputs": [],
   "source": [
    "# Read in airline codes mapping\n",
    "airline_codes = spark.read.csv('s3://jornaya-ds-us-east-1-sandbox/csnyder/acname.csv', header=True) \\\n",
    "    .selectExpr('carrier_name', 'IATA as UNIQUE_CARRIER')\n",
    "# Read in airport codes mapping\n",
    "airport_codes = spark.read.csv('s3://jornaya-ds-us-east-1-sandbox/csnyder/airport_codes.csv', header=True)"
   ]
  },
  {
   "cell_type": "code",
   "execution_count": 6,
   "metadata": {
    "hidden": true
   },
   "outputs": [],
   "source": [
    "# Read in the airline linkage data, select only subset of columns, join airline codes\n",
    "air = spark.read.parquet('s3://jornaya-ds-us-east-1-sandbox/csnyder/graph_analytics_at_scale_parquet') \\\n",
    "    .select('YEAR', 'UNIQUE_CARRIER', 'FL_NUM', 'ORIGIN', 'ORIGIN_STATE_ABR', 'DEST', 'DEST_STATE_ABR',\n",
    "            'CANCELLED', 'CARRIER_DELAY', 'WEATHER_DELAY') \\\n",
    "    .join(F.broadcast(airline_codes), on='UNIQUE_CARRIER', how='inner')"
   ]
  },
  {
   "cell_type": "code",
   "execution_count": 7,
   "metadata": {
    "hidden": true
   },
   "outputs": [],
   "source": [
    "# delays are in minutes and are null when there is no delay. Fill nulls as 0.\n",
    "air = air.na.fill({'CARRIER_DELAY': 0, 'WEATHER_DELAY': 0})"
   ]
  },
  {
   "cell_type": "code",
   "execution_count": 8,
   "metadata": {
    "hidden": true
   },
   "outputs": [
    {
     "data": {
      "text/plain": [
       "147370411"
      ]
     },
     "execution_count": 8,
     "metadata": {},
     "output_type": "execute_result"
    }
   ],
   "source": [
    "air.count()"
   ]
  },
  {
   "cell_type": "code",
   "execution_count": 9,
   "metadata": {
    "hidden": true
   },
   "outputs": [
    {
     "name": "stdout",
     "output_type": "stream",
     "text": [
      "+--------------+----+------+------+----------------+----+--------------+---------+-------------+-------------+--------------------+\n",
      "|UNIQUE_CARRIER|YEAR|FL_NUM|ORIGIN|ORIGIN_STATE_ABR|DEST|DEST_STATE_ABR|CANCELLED|CARRIER_DELAY|WEATHER_DELAY|        carrier_name|\n",
      "+--------------+----+------+------+----------------+----+--------------+---------+-------------+-------------+--------------------+\n",
      "|            CO|1989|  1059|   IAH|              TX| MCI|            MO|     0.00|            0|            0|Continental Airli...|\n",
      "|            DL|1989|   224|   DFW|              TX| EWR|            NJ|     0.00|            0|            0| Delta Air Lines Inc|\n",
      "|            NW|1989|   944|   MEM|              TN| MIA|            FL|     0.00|            0|            0|Northwest Airline...|\n",
      "|            AA|1989|  1255|   IND|              IN| BNA|            TN|     0.00|            0|            0|American Airlines...|\n",
      "|            DL|1989|   611|   ATL|              GA| TPA|            FL|     0.00|            0|            0| Delta Air Lines Inc|\n",
      "+--------------+----+------+------+----------------+----+--------------+---------+-------------+-------------+--------------------+\n",
      "only showing top 5 rows\n",
      "\n"
     ]
    }
   ],
   "source": [
    "air.show(5)"
   ]
  },
  {
   "cell_type": "markdown",
   "metadata": {
    "hidden": true
   },
   "source": [
    "#### Quick Summaries"
   ]
  },
  {
   "cell_type": "markdown",
   "metadata": {
    "hidden": true
   },
   "source": [
    "Carriers with the most flights..."
   ]
  },
  {
   "cell_type": "code",
   "execution_count": 10,
   "metadata": {
    "hidden": true
   },
   "outputs": [
    {
     "name": "stdout",
     "output_type": "stream",
     "text": [
      "+--------------+---------------------+--------+\n",
      "|UNIQUE_CARRIER|carrier_name         |count   |\n",
      "+--------------+---------------------+--------+\n",
      "|WN            |Southwest Airlines Co|20529039|\n",
      "|DL            |Delta Air Lines Inc  |19168060|\n",
      "|AA            |American Airlines Inc|17140606|\n",
      "|US            |Piedmont Airlines Inc|15709733|\n",
      "|US            |US Airways Inc       |15709733|\n",
      "+--------------+---------------------+--------+\n",
      "only showing top 5 rows\n",
      "\n"
     ]
    }
   ],
   "source": [
    "air \\\n",
    "    .groupBy('UNIQUE_CARRIER','carrier_name') \\\n",
    "    .count() \\\n",
    "    .orderBy(F.desc('count')) \\\n",
    "    .show(5, truncate=False)"
   ]
  },
  {
   "cell_type": "markdown",
   "metadata": {
    "hidden": true
   },
   "source": [
    "Carriers with the least amount of flights..."
   ]
  },
  {
   "cell_type": "code",
   "execution_count": 11,
   "metadata": {
    "hidden": true
   },
   "outputs": [
    {
     "name": "stdout",
     "output_type": "stream",
     "text": [
      "+--------------+----------------------------------+------+\n",
      "|UNIQUE_CARRIER|carrier_name                      |count |\n",
      "+--------------+----------------------------------+------+\n",
      "|VX            |Virgin America Inc                |54742 |\n",
      "|PS            |Ukraine International Airlines    |83617 |\n",
      "|KH            |Aeko Kula Inc. DBA Aloha Air Cargo|154381|\n",
      "|HA            |Hawaiian Airlines Inc             |555683|\n",
      "|F9            |Frontier Airlines Inc             |670653|\n",
      "+--------------+----------------------------------+------+\n",
      "only showing top 5 rows\n",
      "\n"
     ]
    }
   ],
   "source": [
    "air \\\n",
    "    .groupBy('UNIQUE_CARRIER', 'carrier_name') \\\n",
    "    .count() \\\n",
    "    .orderBy('count') \\\n",
    "    .show(5, truncate=False)"
   ]
  },
  {
   "cell_type": "markdown",
   "metadata": {
    "hidden": true
   },
   "source": [
    "Carriers who had the highest flight delays (in total minutes) in 2012..."
   ]
  },
  {
   "cell_type": "code",
   "execution_count": 12,
   "metadata": {
    "hidden": true
   },
   "outputs": [
    {
     "name": "stdout",
     "output_type": "stream",
     "text": [
      "+-------------------------------+---------------------+----------+------------------+------------------+\n",
      "|carrier_name                   |total_minutes_delayed|flight_cnt|avg_delay         |std_delay         |\n",
      "+-------------------------------+---------------------+----------+------------------+------------------+\n",
      "|American Airlines Inc          |2140405.0            |525220    |4.075254179201097 |25.38504632379856 |\n",
      "|Hawaiian Airlines Inc          |158544.0             |74109     |2.1393353034044447|24.449497095797234|\n",
      "|Atlantic Southeast Airlines Inc|3441656.0            |740855    |4.645519028689825 |23.542207249896517|\n",
      "|Delta Air Lines Inc            |1965386.0            |726879    |2.7038695573816276|21.81374694498361 |\n",
      "|United Airlines Inc            |2117628.0            |531245    |3.9861608109252793|20.40891087487564 |\n",
      "|Frontier Airlines Inc          |217305.0             |79255     |2.7418459403192226|16.569690679160402|\n",
      "|Mesa Airlines Inc              |314822.0             |133976    |2.349838777094405 |15.853477036310654|\n",
      "|Alaska Airlines Inc            |280863.0             |147569    |1.9032655910116623|15.350793085154136|\n",
      "|SkyWest  Airlines              |1360820.0            |617756    |2.2028438412577134|14.807537086157815|\n",
      "|Southwest Airlines Co          |2598575.0            |1140535   |2.278382513469556 |13.45312415104364 |\n",
      "+-------------------------------+---------------------+----------+------------------+------------------+\n",
      "only showing top 10 rows\n",
      "\n"
     ]
    }
   ],
   "source": [
    "air \\\n",
    "    .filter('year = 2012') \\\n",
    "    .groupBy('carrier_name') \\\n",
    "    .agg(\n",
    "        F.sum('CARRIER_DELAY').alias('total_minutes_delayed'),\n",
    "        F.count('*').alias('flight_cnt'),\n",
    "        F.avg(F.col('CARRIER_DELAY')).alias('avg_delay'),\n",
    "        F.stddev(F.col('CARRIER_DELAY')).alias('std_delay')\n",
    "    ) \\\n",
    "    .orderBy(F.desc('std_delay')) \\\n",
    "    .show(10, truncate=False)"
   ]
  },
  {
   "cell_type": "markdown",
   "metadata": {},
   "source": [
    "### Creating the GraphFrame Object"
   ]
  },
  {
   "cell_type": "code",
   "execution_count": 13,
   "metadata": {},
   "outputs": [],
   "source": [
    "# Edges\n",
    "e = air.selectExpr('ORIGIN as src', 'DEST as dst', 'UNIQUE_CARRIER as carrier', 'YEAR as year') \\\n",
    "    .filter('src is not null') \\\n",
    "    .filter('dst is not null')\n",
    "# Vertices\n",
    "v0 = e.selectExpr('src as id').union(e.selectExpr('dst as id')).distinct()\n",
    "v = v0.join(F.broadcast(airport_codes), v0.id==airport_codes.airport_code, how='inner')"
   ]
  },
  {
   "cell_type": "code",
   "execution_count": 14,
   "metadata": {},
   "outputs": [
    {
     "name": "stdout",
     "output_type": "stream",
     "text": [
      "== Physical Plan ==\n",
      "*(2) Project [ORIGIN#34 AS src#300, DEST#36 AS dst#301, UNIQUE_CARRIER#32 AS carrier#302, YEAR#31 AS year#303]\n",
      "+- *(2) BroadcastHashJoin [UNIQUE_CARRIER#32], [UNIQUE_CARRIER#14], Inner, BuildRight\n",
      "   :- *(2) Project [YEAR#31, UNIQUE_CARRIER#32, ORIGIN#34, DEST#36]\n",
      "   :  +- *(2) Filter ((isnotnull(ORIGIN#34) && isnotnull(DEST#36)) && isnotnull(UNIQUE_CARRIER#32))\n",
      "   :     +- *(2) FileScan parquet [YEAR#31,UNIQUE_CARRIER#32,ORIGIN#34,DEST#36] Batched: true, Format: Parquet, Location: InMemoryFileIndex[s3://jornaya-ds-us-east-1-sandbox/csnyder/graph_analytics_at_scale_parquet], PartitionFilters: [], PushedFilters: [IsNotNull(ORIGIN), IsNotNull(DEST), IsNotNull(UNIQUE_CARRIER)], ReadSchema: struct<YEAR:string,UNIQUE_CARRIER:string,ORIGIN:string,DEST:string>\n",
      "   +- BroadcastExchange HashedRelationBroadcastMode(List(input[0, string, true]))\n",
      "      +- *(1) Project [IATA#11 AS UNIQUE_CARRIER#14]\n",
      "         +- *(1) Filter isnotnull(IATA#11)\n",
      "            +- *(1) FileScan csv [IATA#11] Batched: false, Format: CSV, Location: InMemoryFileIndex[s3://jornaya-ds-us-east-1-sandbox/csnyder/acname.csv], PartitionFilters: [], PushedFilters: [IsNotNull(IATA)], ReadSchema: struct<IATA:string>\n"
     ]
    }
   ],
   "source": [
    "e.explain()"
   ]
  },
  {
   "cell_type": "markdown",
   "metadata": {},
   "source": [
    "Checkpointing the data speeds up subsequent queries by caching the data to disk and also by truncating the query plan"
   ]
  },
  {
   "cell_type": "code",
   "execution_count": 15,
   "metadata": {},
   "outputs": [],
   "source": [
    "e = e.checkpoint()\n",
    "v = v.checkpoint()"
   ]
  },
  {
   "cell_type": "code",
   "execution_count": 16,
   "metadata": {},
   "outputs": [
    {
     "name": "stdout",
     "output_type": "stream",
     "text": [
      "== Physical Plan ==\n",
      "Scan ExistingRDD[src#300,dst#301,carrier#302,year#303]\n"
     ]
    }
   ],
   "source": [
    "e.explain()"
   ]
  },
  {
   "cell_type": "code",
   "execution_count": 17,
   "metadata": {},
   "outputs": [],
   "source": [
    "# Create the Graphframe object\n",
    "g = GraphFrame(v, e)"
   ]
  },
  {
   "cell_type": "code",
   "execution_count": 18,
   "metadata": {},
   "outputs": [
    {
     "name": "stdout",
     "output_type": "stream",
     "text": [
      "+---+--------------------+------------+\n",
      "| id|        airport_name|airport_code|\n",
      "+---+--------------------+------------+\n",
      "|BUR|             Burbank|         BUR|\n",
      "|EUG|              Eugene|         EUG|\n",
      "|PVD|Providence - T.F....|         PVD|\n",
      "|DCA|Washington Nation...|         DCA|\n",
      "|EVV|          Evansville|         EVV|\n",
      "+---+--------------------+------------+\n",
      "only showing top 5 rows\n",
      "\n"
     ]
    }
   ],
   "source": [
    "g.vertices.show(5)"
   ]
  },
  {
   "cell_type": "code",
   "execution_count": 19,
   "metadata": {},
   "outputs": [
    {
     "name": "stdout",
     "output_type": "stream",
     "text": [
      "+---+---+-------+----+\n",
      "|src|dst|carrier|year|\n",
      "+---+---+-------+----+\n",
      "|IAH|MCI|     CO|1989|\n",
      "|DFW|EWR|     DL|1989|\n",
      "|MEM|MIA|     NW|1989|\n",
      "|IND|BNA|     AA|1989|\n",
      "|ATL|TPA|     DL|1989|\n",
      "+---+---+-------+----+\n",
      "only showing top 5 rows\n",
      "\n"
     ]
    }
   ],
   "source": [
    "g.edges.show(5)"
   ]
  },
  {
   "cell_type": "markdown",
   "metadata": {
    "heading_collapsed": true
   },
   "source": [
    "### InDegrees/OutDegrees"
   ]
  },
  {
   "cell_type": "code",
   "execution_count": 20,
   "metadata": {
    "hidden": true
   },
   "outputs": [
    {
     "name": "stdout",
     "output_type": "stream",
     "text": [
      "+--------------------------------------------+---+--------+\n",
      "|airport_name                                |id |inDegree|\n",
      "+--------------------------------------------+---+--------+\n",
      "|Atlanta Hartsfield International Airport    |ATL|7728136 |\n",
      "|Chicago O'Hare International Airport Airport|ORD|6908830 |\n",
      "|Dallas/Fort Worth International Airport     |DFW|5812248 |\n",
      "|Charlotte/Douglas International Airport     |CLT|5150264 |\n",
      "|Los Angeles International Airport           |LAX|4693998 |\n",
      "+--------------------------------------------+---+--------+\n",
      "only showing top 5 rows\n",
      "\n",
      "CPU times: user 5.44 ms, sys: 0 ns, total: 5.44 ms\n",
      "Wall time: 8.39 s\n"
     ]
    }
   ],
   "source": [
    "%%time\n",
    "g.inDegrees \\\n",
    "    .join(F.broadcast(airport_codes), g.inDegrees.id==airport_codes.airport_code, how='inner') \\\n",
    "    .select('airport_name', 'id', 'inDegree') \\\n",
    "    .orderBy(F.desc('inDegree')) \\\n",
    "    .show(5, truncate=False)"
   ]
  },
  {
   "cell_type": "code",
   "execution_count": 21,
   "metadata": {
    "hidden": true
   },
   "outputs": [
    {
     "name": "stdout",
     "output_type": "stream",
     "text": [
      "+---------------------------------+---+--------+\n",
      "|airport_name                     |id |inDegree|\n",
      "+---------------------------------+---+--------+\n",
      "|Western Nebraska Regional Airport|BFF|3       |\n",
      "|Four Corners Regional Airport    |FMN|5       |\n",
      "|Clarksburg                       |CKB|6       |\n",
      "|Cheyenne                         |CYS|12      |\n",
      "|Pueblo                           |PUB|14      |\n",
      "+---------------------------------+---+--------+\n",
      "only showing top 5 rows\n",
      "\n",
      "CPU times: user 5.5 ms, sys: 0 ns, total: 5.5 ms\n",
      "Wall time: 5.87 s\n"
     ]
    }
   ],
   "source": [
    "%%time\n",
    "g.inDegrees \\\n",
    "    .join(F.broadcast(airport_codes), g.inDegrees.id==airport_codes.airport_code, how='inner') \\\n",
    "    .select('airport_name', 'id', 'inDegree') \\\n",
    "    .orderBy('inDegree') \\\n",
    "    .show(5, truncate=False)"
   ]
  },
  {
   "cell_type": "code",
   "execution_count": 22,
   "metadata": {
    "hidden": true
   },
   "outputs": [
    {
     "name": "stdout",
     "output_type": "stream",
     "text": [
      "+--------------------------------------------+---+---------+\n",
      "|airport_name                                |id |outDegree|\n",
      "+--------------------------------------------+---+---------+\n",
      "|Atlanta Hartsfield International Airport    |ATL|7735252  |\n",
      "|Chicago O'Hare International Airport Airport|ORD|6868280  |\n",
      "|Dallas/Fort Worth International Airport     |DFW|5778054  |\n",
      "|Charlotte/Douglas International Airport     |CLT|5139550  |\n",
      "|Los Angeles International Airport           |LAX|4696246  |\n",
      "+--------------------------------------------+---+---------+\n",
      "only showing top 5 rows\n",
      "\n",
      "CPU times: user 5.19 ms, sys: 1.16 ms, total: 6.35 ms\n",
      "Wall time: 7.51 s\n"
     ]
    }
   ],
   "source": [
    "%%time\n",
    "g.outDegrees \\\n",
    "    .join(F.broadcast(airport_codes), g.outDegrees.id==airport_codes.airport_code, how='inner') \\\n",
    "    .select('airport_name', 'id', 'outDegree') \\\n",
    "    .orderBy(F.desc('outDegree')) \\\n",
    "    .show(5, truncate=False)"
   ]
  },
  {
   "cell_type": "code",
   "execution_count": 23,
   "metadata": {
    "hidden": true
   },
   "outputs": [
    {
     "name": "stdout",
     "output_type": "stream",
     "text": [
      "+---------------------------------+---+---------+\n",
      "|airport_name                     |id |outDegree|\n",
      "+---------------------------------+---+---------+\n",
      "|Western Nebraska Regional Airport|BFF|1        |\n",
      "|Cheyenne                         |CYS|2        |\n",
      "|Four Corners Regional Airport    |FMN|3        |\n",
      "|Pueblo                           |PUB|5        |\n",
      "|Clarksburg                       |CKB|8        |\n",
      "+---------------------------------+---+---------+\n",
      "only showing top 5 rows\n",
      "\n",
      "CPU times: user 5.37 ms, sys: 285 µs, total: 5.65 ms\n",
      "Wall time: 7.17 s\n"
     ]
    }
   ],
   "source": [
    "%%time\n",
    "g.outDegrees \\\n",
    "    .join(F.broadcast(airport_codes), g.outDegrees.id==airport_codes.airport_code, how='inner') \\\n",
    "    .select('airport_name', 'id', 'outDegree') \\\n",
    "    .orderBy('outDegree') \\\n",
    "    .show(5, truncate=False)"
   ]
  },
  {
   "cell_type": "markdown",
   "metadata": {
    "heading_collapsed": true
   },
   "source": [
    "### SubGraphs"
   ]
  },
  {
   "cell_type": "markdown",
   "metadata": {
    "hidden": true
   },
   "source": [
    "Let's take a look at only American Airlines data."
   ]
  },
  {
   "cell_type": "code",
   "execution_count": 24,
   "metadata": {
    "hidden": true
   },
   "outputs": [],
   "source": [
    "gAA = g.filterEdges(\"carrier = 'AA'\")"
   ]
  },
  {
   "cell_type": "markdown",
   "metadata": {
    "hidden": true
   },
   "source": [
    "What are the most common airports that American Airlines flights fly into?"
   ]
  },
  {
   "cell_type": "code",
   "execution_count": 25,
   "metadata": {
    "hidden": true
   },
   "outputs": [
    {
     "name": "stdout",
     "output_type": "stream",
     "text": [
      "+--------------------------------------------+---+--------+--------------------+\n",
      "|airport_name                                |id |inDegree|pct                 |\n",
      "+--------------------------------------------+---+--------+--------------------+\n",
      "|Dallas/Fort Worth International Airport     |DFW|3964518 |0.23744946473042466 |\n",
      "|Chicago O'Hare International Airport Airport|ORD|2323124 |0.1391403823371222  |\n",
      "|Miami International Airport                 |MIA|865459  |0.05183550088462925 |\n",
      "|Los Angeles International Airport           |LAX|680257  |0.04074307659320111 |\n",
      "|New York La Guardia Airport                 |LGA|442156  |0.026482337960716952|\n",
      "+--------------------------------------------+---+--------+--------------------+\n",
      "only showing top 5 rows\n",
      "\n",
      "CPU times: user 12.5 ms, sys: 963 µs, total: 13.5 ms\n",
      "Wall time: 12.6 s\n"
     ]
    }
   ],
   "source": [
    "%%time\n",
    "gAA_inD_all = gAA.inDegrees \\\n",
    "    .join(F.broadcast(airport_codes), gAA.inDegrees.id==airport_codes.airport_code, how='inner') \\\n",
    "    .select('airport_name', 'id', 'inDegree')\n",
    "\n",
    "inflightsum = gAA_inD_all.groupBy().sum('InDegree').collect()[0][0]\n",
    "\n",
    "gAA_inD_all.withColumn('pct', F.col('inDegree') / inflightsum) \\\n",
    "    .orderBy(F.desc('inDegree')) \\\n",
    "    .show(5, truncate=False)"
   ]
  },
  {
   "cell_type": "markdown",
   "metadata": {
    "hidden": true
   },
   "source": [
    "What are the most common airports that American Airlines flights fly into in 2012?"
   ]
  },
  {
   "cell_type": "code",
   "execution_count": 26,
   "metadata": {
    "hidden": true
   },
   "outputs": [
    {
     "name": "stdout",
     "output_type": "stream",
     "text": [
      "+--------------------------------------------+---+--------+-------------------+\n",
      "|airport_name                                |id |inDegree|pct                |\n",
      "+--------------------------------------------+---+--------+-------------------+\n",
      "|Dallas/Fort Worth International Airport     |DFW|152936  |0.2967654552404903 |\n",
      "|Chicago O'Hare International Airport Airport|ORD|50360   |0.09772132346805913|\n",
      "|Miami International Airport                 |MIA|46032   |0.0893230333971743 |\n",
      "|Los Angeles International Airport           |LAX|29833   |0.05788959974230755|\n",
      "|New York La Guardia Airport                 |LGA|15672   |0.03041081376869386|\n",
      "+--------------------------------------------+---+--------+-------------------+\n",
      "only showing top 5 rows\n",
      "\n",
      "CPU times: user 14.5 ms, sys: 1.38 ms, total: 15.9 ms\n",
      "Wall time: 14.9 s\n"
     ]
    }
   ],
   "source": [
    "%%time\n",
    "gAA_2012 = gAA.filterEdges(\"year = '2012'\")\n",
    "\n",
    "gAA_inD_2012 = gAA_2012.inDegrees \\\n",
    "    .join(F.broadcast(airport_codes), gAA_2012.inDegrees.id==airport_codes.airport_code, how='inner') \\\n",
    "    .select('airport_name', 'id', 'inDegree')\n",
    "\n",
    "inflightsum_2012 = gAA_inD_2012.groupBy().sum('InDegree').collect()[0][0]\n",
    "\n",
    "gAA_inD_2012.withColumn('pct', F.col('inDegree') / inflightsum_2012) \\\n",
    "    .orderBy(F.desc('inDegree')) \\\n",
    "    .show(5, truncate=False)"
   ]
  },
  {
   "cell_type": "markdown",
   "metadata": {
    "heading_collapsed": true
   },
   "source": [
    "### Algorithm Tour"
   ]
  },
  {
   "cell_type": "markdown",
   "metadata": {
    "heading_collapsed": true,
    "hidden": true
   },
   "source": [
    "#### Breadth-First Search (BFS)"
   ]
  },
  {
   "cell_type": "code",
   "execution_count": 27,
   "metadata": {
    "hidden": true
   },
   "outputs": [
    {
     "name": "stdout",
     "output_type": "stream",
     "text": [
      "CPU times: user 13.5 ms, sys: 0 ns, total: 13.5 ms\n",
      "Wall time: 1min 11s\n"
     ]
    }
   ],
   "source": [
    "%%time\n",
    "g_bfs = g.filterEdges('year = 2012') \\\n",
    "    .bfs('id=\"PHL\"', 'id=\"HNL\"', maxPathLength=2)\n",
    "g_bfs = g_bfs.checkpoint()"
   ]
  },
  {
   "cell_type": "code",
   "execution_count": 76,
   "metadata": {
    "hidden": true
   },
   "outputs": [],
   "source": [
    "g_bfsd = g_bfs.distinct()\n",
    "g_bfsd = g_bfsd.checkpoint()"
   ]
  },
  {
   "cell_type": "code",
   "execution_count": 77,
   "metadata": {
    "hidden": true
   },
   "outputs": [
    {
     "name": "stdout",
     "output_type": "stream",
     "text": [
      "+------------------------+--------------------+--------------------+------------------------------------------+\n",
      "|from                    |e0                  |e1                  |to                                        |\n",
      "+------------------------+--------------------+--------------------+------------------------------------------+\n",
      "|[PHL, Philadelphia, PHL]|[PHL, ORD, AA, 2012]|[ORD, HNL, UA, 2012]|[HNL, Honolulu International Airport, HNL]|\n",
      "|[PHL, Philadelphia, PHL]|[PHL, ORD, US, 2012]|[ORD, HNL, AA, 2012]|[HNL, Honolulu International Airport, HNL]|\n",
      "|[PHL, Philadelphia, PHL]|[PHL, LAX, DL, 2012]|[LAX, HNL, AA, 2012]|[HNL, Honolulu International Airport, HNL]|\n",
      "|[PHL, Philadelphia, PHL]|[PHL, PHX, WN, 2012]|[PHX, HNL, US, 2012]|[HNL, Honolulu International Airport, HNL]|\n",
      "|[PHL, Philadelphia, PHL]|[PHL, DEN, WN, 2012]|[DEN, HNL, UA, 2012]|[HNL, Honolulu International Airport, HNL]|\n",
      "|[PHL, Philadelphia, PHL]|[PHL, DFW, US, 2012]|[DFW, HNL, AA, 2012]|[HNL, Honolulu International Airport, HNL]|\n",
      "|[PHL, Philadelphia, PHL]|[PHL, LAX, UA, 2012]|[LAX, HNL, DL, 2012]|[HNL, Honolulu International Airport, HNL]|\n",
      "|[PHL, Philadelphia, PHL]|[PHL, SAN, US, 2012]|[SAN, HNL, AS, 2012]|[HNL, Honolulu International Airport, HNL]|\n",
      "|[PHL, Philadelphia, PHL]|[PHL, IAH, US, 2012]|[IAH, HNL, UA, 2012]|[HNL, Honolulu International Airport, HNL]|\n",
      "|[PHL, Philadelphia, PHL]|[PHL, ORD, US, 2012]|[ORD, HNL, UA, 2012]|[HNL, Honolulu International Airport, HNL]|\n",
      "+------------------------+--------------------+--------------------+------------------------------------------+\n",
      "only showing top 10 rows\n",
      "\n"
     ]
    }
   ],
   "source": [
    "g_bfsd.drop('v1').show(10,truncate=False)"
   ]
  },
  {
   "cell_type": "code",
   "execution_count": 86,
   "metadata": {
    "hidden": true
   },
   "outputs": [
    {
     "name": "stdout",
     "output_type": "stream",
     "text": [
      "+------------------------+--------------------+--------------------+------------------------------------------+\n",
      "|from                    |e0                  |e1                  |to                                        |\n",
      "+------------------------+--------------------+--------------------+------------------------------------------+\n",
      "|[PHL, Philadelphia, PHL]|[PHL, DFW, AA, 2012]|[DFW, HNL, AA, 2012]|[HNL, Honolulu International Airport, HNL]|\n",
      "|[PHL, Philadelphia, PHL]|[PHL, ORD, AA, 2012]|[ORD, HNL, AA, 2012]|[HNL, Honolulu International Airport, HNL]|\n",
      "+------------------------+--------------------+--------------------+------------------------------------------+\n",
      "\n"
     ]
    }
   ],
   "source": [
    "g_bfsd.drop('v1') \\\n",
    "    .filter(g_bfsd.e0['carrier'] == 'AA') \\\n",
    "    .filter(g_bfsd.e1['carrier'] == 'AA') \\\n",
    "    .show(10,truncate=False)"
   ]
  },
  {
   "cell_type": "code",
   "execution_count": 79,
   "metadata": {
    "hidden": true
   },
   "outputs": [
    {
     "data": {
      "text/plain": [
       "66"
      ]
     },
     "execution_count": 79,
     "metadata": {},
     "output_type": "execute_result"
    }
   ],
   "source": [
    "g_bfsd.count()"
   ]
  },
  {
   "cell_type": "markdown",
   "metadata": {
    "heading_collapsed": true,
    "hidden": true
   },
   "source": [
    "#### Connected Components"
   ]
  },
  {
   "cell_type": "markdown",
   "metadata": {
    "hidden": true
   },
   "source": [
    "Let's run connected components on the entire dataset and see what happens."
   ]
  },
  {
   "cell_type": "code",
   "execution_count": 30,
   "metadata": {
    "hidden": true
   },
   "outputs": [
    {
     "name": "stdout",
     "output_type": "stream",
     "text": [
      "CPU times: user 10.9 ms, sys: 1.53 ms, total: 12.4 ms\n",
      "Wall time: 1min 9s\n"
     ]
    }
   ],
   "source": [
    "%%time\n",
    "g_cc = g.connectedComponents()\n",
    "g_cc = g_cc.checkpoint()"
   ]
  },
  {
   "cell_type": "code",
   "execution_count": 31,
   "metadata": {
    "hidden": true
   },
   "outputs": [
    {
     "name": "stdout",
     "output_type": "stream",
     "text": [
      "root\n",
      " |-- id: string (nullable = true)\n",
      " |-- airport_name: string (nullable = true)\n",
      " |-- airport_code: string (nullable = true)\n",
      " |-- component: long (nullable = true)\n",
      "\n"
     ]
    }
   ],
   "source": [
    "g_cc.printSchema()"
   ]
  },
  {
   "cell_type": "code",
   "execution_count": 32,
   "metadata": {
    "hidden": true
   },
   "outputs": [
    {
     "name": "stdout",
     "output_type": "stream",
     "text": [
      "+-----------+-----+\n",
      "|  component|count|\n",
      "+-----------+-----+\n",
      "|34359738368|  200|\n",
      "+-----------+-----+\n",
      "\n"
     ]
    }
   ],
   "source": [
    "g_cc.groupBy('component').count().orderBy(F.desc('component')).show()"
   ]
  },
  {
   "cell_type": "markdown",
   "metadata": {
    "hidden": true
   },
   "source": [
    "Not that interesting, but also expected. You would think that you can get to any airport from any airport in the US. Let's create a subgraph using just Virgin America (VX) flight data."
   ]
  },
  {
   "cell_type": "code",
   "execution_count": 33,
   "metadata": {
    "hidden": true
   },
   "outputs": [
    {
     "name": "stdout",
     "output_type": "stream",
     "text": [
      "CPU times: user 7.63 ms, sys: 815 µs, total: 8.45 ms\n",
      "Wall time: 32.9 s\n"
     ]
    }
   ],
   "source": [
    "%%time\n",
    "gVX = g.filterEdges('carrier = \"VX\"')\n",
    "gVX_cc = gVX.connectedComponents()\n",
    "gVX_cc = gVX_cc.checkpoint()"
   ]
  },
  {
   "cell_type": "code",
   "execution_count": 34,
   "metadata": {
    "hidden": true
   },
   "outputs": [
    {
     "name": "stdout",
     "output_type": "stream",
     "text": [
      "+---+--------------------+------------+------------+\n",
      "| id|        airport_name|airport_code|   component|\n",
      "+---+--------------------+------------+------------+\n",
      "|BUR|             Burbank|         BUR| 34359738368|\n",
      "|EUG|              Eugene|         EUG| 85899345920|\n",
      "|PVD|Providence - T.F....|         PVD|103079215104|\n",
      "|DCA|Washington Nation...|         DCA|171798691840|\n",
      "|EVV|          Evansville|         EVV|274877906944|\n",
      "+---+--------------------+------------+------------+\n",
      "only showing top 5 rows\n",
      "\n"
     ]
    }
   ],
   "source": [
    "gVX_cc.show(5)"
   ]
  },
  {
   "cell_type": "code",
   "execution_count": 35,
   "metadata": {
    "hidden": true
   },
   "outputs": [
    {
     "name": "stdout",
     "output_type": "stream",
     "text": [
      "+-------------+-----+\n",
      "|    component|count|\n",
      "+-------------+-----+\n",
      "| 171798691840|   16|\n",
      "|2310692405249|    1|\n",
      "|6811818131456|    1|\n",
      "|3504693313536|    1|\n",
      "|6665789243392|    1|\n",
      "+-------------+-----+\n",
      "only showing top 5 rows\n",
      "\n"
     ]
    }
   ],
   "source": [
    "gVX_cc.groupBy('component').count().orderBy(F.desc('count')).show(5)"
   ]
  },
  {
   "cell_type": "code",
   "execution_count": 36,
   "metadata": {
    "hidden": true
   },
   "outputs": [
    {
     "name": "stdout",
     "output_type": "stream",
     "text": [
      "+---+--------------------------------------------------+------------+------------+\n",
      "|id |airport_name                                      |airport_code|component   |\n",
      "+---+--------------------------------------------------+------------+------------+\n",
      "|DCA|Washington National Airport                       |DCA         |171798691840|\n",
      "|LAS|Las Vegas Las Vegas McCarran International Airport|LAS         |171798691840|\n",
      "|LAX|Los Angeles International Airport                 |LAX         |171798691840|\n",
      "|JFK|New York John F Kennedy International Airport     |JFK         |171798691840|\n",
      "|BOS|Boston Logan International Airport                |BOS         |171798691840|\n",
      "|SEA|Seattle Tacoma International Airport              |SEA         |171798691840|\n",
      "|DFW|Dallas/Fort Worth International Airport           |DFW         |171798691840|\n",
      "|ORD|Chicago O'Hare International Airport Airport      |ORD         |171798691840|\n",
      "|SAN|San Diego                                         |SAN         |171798691840|\n",
      "|PHL|Philadelphia                                      |PHL         |171798691840|\n",
      "|IAD|Washington Dulles International Airport           |IAD         |171798691840|\n",
      "|PSP|Palm Springs                                      |PSP         |171798691840|\n",
      "|PDX|Portland International Airport                    |PDX         |171798691840|\n",
      "|SFO|San Francisco International Airport               |SFO         |171798691840|\n",
      "|FLL|Fort Lauderdale-Hollywood International Airport   |FLL         |171798691840|\n",
      "|MCO|Orlando                                           |MCO         |171798691840|\n",
      "+---+--------------------------------------------------+------------+------------+\n",
      "\n"
     ]
    }
   ],
   "source": [
    "gVX_cc.filter('component = 171798691840') \\\n",
    "    .show(truncate=False)"
   ]
  },
  {
   "cell_type": "markdown",
   "metadata": {
    "heading_collapsed": true,
    "hidden": true
   },
   "source": [
    "#### Label Propagation Algorithm (LPA)"
   ]
  },
  {
   "cell_type": "code",
   "execution_count": 37,
   "metadata": {
    "hidden": true
   },
   "outputs": [],
   "source": [
    "g_lpa = g.labelPropagation(maxIter=5)\n",
    "g_lpa = g_lpa.checkpoint()"
   ]
  },
  {
   "cell_type": "code",
   "execution_count": 38,
   "metadata": {
    "hidden": true
   },
   "outputs": [
    {
     "name": "stdout",
     "output_type": "stream",
     "text": [
      "root\n",
      " |-- id: string (nullable = true)\n",
      " |-- airport_name: string (nullable = true)\n",
      " |-- airport_code: string (nullable = true)\n",
      " |-- label: long (nullable = true)\n",
      "\n"
     ]
    }
   ],
   "source": [
    "g_lpa.printSchema()"
   ]
  },
  {
   "cell_type": "code",
   "execution_count": 39,
   "metadata": {
    "hidden": true
   },
   "outputs": [
    {
     "name": "stdout",
     "output_type": "stream",
     "text": [
      "+---+--------------------+------------+-------------+\n",
      "| id|        airport_name|airport_code|        label|\n",
      "+---+--------------------+------------+-------------+\n",
      "|MSY|New Orleans Inter...|         MSY|4655744548864|\n",
      "|ROR|       Koror Airport|         ROR|1408749273088|\n",
      "|FLG|           Flagstaff|         FLG|1589137899521|\n",
      "|ABI|Abilene Regional ...|         ABI|4655744548864|\n",
      "|GRB|           Green Bay|         GRB|4655744548864|\n",
      "+---+--------------------+------------+-------------+\n",
      "only showing top 5 rows\n",
      "\n"
     ]
    }
   ],
   "source": [
    "g_lpa.show(5)"
   ]
  },
  {
   "cell_type": "code",
   "execution_count": 40,
   "metadata": {
    "hidden": true
   },
   "outputs": [
    {
     "name": "stdout",
     "output_type": "stream",
     "text": [
      "+-------------+-----+\n",
      "|        label|count|\n",
      "+-------------+-----+\n",
      "|4655744548864|  147|\n",
      "|1589137899521|   37|\n",
      "|5583457484800|    4|\n",
      "|1408749273088|    3|\n",
      "|4363686772736|    2|\n",
      "+-------------+-----+\n",
      "only showing top 5 rows\n",
      "\n"
     ]
    }
   ],
   "source": [
    "g_lpa.groupBy('label').count().orderBy(F.desc('count')).show(5)"
   ]
  },
  {
   "cell_type": "code",
   "execution_count": 45,
   "metadata": {
    "hidden": true
   },
   "outputs": [
    {
     "name": "stdout",
     "output_type": "stream",
     "text": [
      "+---+---------------------------------------+------------+-------------+\n",
      "|id |airport_name                           |airport_code|label        |\n",
      "+---+---------------------------------------+------------+-------------+\n",
      "|MSY|New Orleans International Airport      |MSY         |4655744548864|\n",
      "|ABI|Abilene Regional Airport               |ABI         |4655744548864|\n",
      "|GRB|Green Bay                              |GRB         |4655744548864|\n",
      "|HRL|Valley International Airport           |HRL         |4655744548864|\n",
      "|MOB|Mobile                                 |MOB         |4655744548864|\n",
      "|ISP|Islip                                  |ISP         |4655744548864|\n",
      "|DFW|Dallas/Fort Worth International Airport|DFW         |4655744548864|\n",
      "|PIA|Peoria                                 |PIA         |4655744548864|\n",
      "|DEN|Denver International Airport           |DEN         |4655744548864|\n",
      "|EVV|Evansville                             |EVV         |4655744548864|\n",
      "+---+---------------------------------------+------------+-------------+\n",
      "only showing top 10 rows\n",
      "\n"
     ]
    }
   ],
   "source": [
    "g_lpa.filter('label = 4655744548864') \\\n",
    "    .show(10, truncate=False)"
   ]
  },
  {
   "cell_type": "code",
   "execution_count": 46,
   "metadata": {
    "hidden": true
   },
   "outputs": [
    {
     "name": "stdout",
     "output_type": "stream",
     "text": [
      "+---+------------------------------------+------------+-------------+\n",
      "|id |airport_name                        |airport_code|label        |\n",
      "+---+------------------------------------+------------+-------------+\n",
      "|FLG|Flagstaff                           |FLG         |1589137899521|\n",
      "|LAX|Los Angeles International Airport   |LAX         |1589137899521|\n",
      "|BUR|Burbank                             |BUR         |1589137899521|\n",
      "|SLE|Salem                               |SLE         |1589137899521|\n",
      "|SEA|Seattle Tacoma International Airport|SEA         |1589137899521|\n",
      "|ABQ|Albuquerque International Airport   |ABQ         |1589137899521|\n",
      "|FAI|Fairbanks International Airport     |FAI         |1589137899521|\n",
      "|FAT|Fresno                              |FAT         |1589137899521|\n",
      "|GST|Gustavus Airport                    |GST         |1589137899521|\n",
      "|SJC|San Jose                            |SJC         |1589137899521|\n",
      "+---+------------------------------------+------------+-------------+\n",
      "only showing top 10 rows\n",
      "\n"
     ]
    }
   ],
   "source": [
    "g_lpa.filter('label = 1589137899521') \\\n",
    "    .show(10, truncate=False)"
   ]
  },
  {
   "cell_type": "code",
   "execution_count": 47,
   "metadata": {
    "hidden": true
   },
   "outputs": [
    {
     "name": "stdout",
     "output_type": "stream",
     "text": [
      "+---+------------+------------+-------------+\n",
      "|id |airport_name|airport_code|label        |\n",
      "+---+------------+------------+-------------+\n",
      "|ITO|Hilo        |ITO         |5583457484800|\n",
      "|KOA|Kailua      |KOA         |5583457484800|\n",
      "|LIH|Lihue       |LIH         |5583457484800|\n",
      "|OGG|Kahului     |OGG         |5583457484800|\n",
      "+---+------------+------------+-------------+\n",
      "\n"
     ]
    }
   ],
   "source": [
    "g_lpa.filter('label = 5583457484800') \\\n",
    "    .show(10, truncate=False)"
   ]
  },
  {
   "cell_type": "code",
   "execution_count": 48,
   "metadata": {
    "hidden": true
   },
   "outputs": [
    {
     "name": "stdout",
     "output_type": "stream",
     "text": [
      "+---+----------------------------+------------+-------------+\n",
      "|id |airport_name                |airport_code|label        |\n",
      "+---+----------------------------+------------+-------------+\n",
      "|ROR|Koror Airport               |ROR         |1408749273088|\n",
      "|ROP|Rota International Airport  |ROP         |1408749273088|\n",
      "|SPN|Saipan International Airport|SPN         |1408749273088|\n",
      "+---+----------------------------+------------+-------------+\n",
      "\n"
     ]
    }
   ],
   "source": [
    "g_lpa.filter('label = 1408749273088') \\\n",
    "    .show(10, truncate=False)"
   ]
  },
  {
   "cell_type": "markdown",
   "metadata": {
    "heading_collapsed": true,
    "hidden": true
   },
   "source": [
    "#### PageRank"
   ]
  },
  {
   "cell_type": "code",
   "execution_count": 64,
   "metadata": {
    "hidden": true
   },
   "outputs": [
    {
     "name": "stdout",
     "output_type": "stream",
     "text": [
      "CPU times: user 23.9 ms, sys: 0 ns, total: 23.9 ms\n",
      "Wall time: 2min 4s\n"
     ]
    }
   ],
   "source": [
    "%%time\n",
    "g_pr = g.pageRank(resetProbability=0.15, tol=0.01)\n",
    "g_pr_v = g_pr.vertices.checkpoint()"
   ]
  },
  {
   "cell_type": "code",
   "execution_count": 53,
   "metadata": {
    "hidden": true
   },
   "outputs": [
    {
     "name": "stdout",
     "output_type": "stream",
     "text": [
      "+---+--------------------------------------------+------------+------------------+\n",
      "|id |airport_name                                |airport_code|pagerank          |\n",
      "+---+--------------------------------------------+------------+------------------+\n",
      "|ATL|Atlanta Hartsfield International Airport    |ATL         |9.434314446171609 |\n",
      "|ORD|Chicago O'Hare International Airport Airport|ORD         |8.05501568394736  |\n",
      "|DFW|Dallas/Fort Worth International Airport     |DFW         |6.464585821208273 |\n",
      "|CLT|Charlotte/Douglas International Airport     |CLT         |5.874877360337312 |\n",
      "|DEN|Denver International Airport                |DEN         |5.4595071702127775|\n",
      "+---+--------------------------------------------+------------+------------------+\n",
      "only showing top 5 rows\n",
      "\n"
     ]
    }
   ],
   "source": [
    "g_pr_v.orderBy(F.desc('pagerank')).show(5, truncate=False)"
   ]
  },
  {
   "cell_type": "code",
   "execution_count": 65,
   "metadata": {
    "hidden": true
   },
   "outputs": [
    {
     "name": "stdout",
     "output_type": "stream",
     "text": [
      "CPU times: user 8.08 ms, sys: 141 µs, total: 8.22 ms\n",
      "Wall time: 30.8 s\n"
     ]
    }
   ],
   "source": [
    "%%time\n",
    "g_pr_10 = g.pageRank(resetProbability=0.15, maxIter=5)\n",
    "g_pr_10_v = g_pr_10.vertices.checkpoint()"
   ]
  },
  {
   "cell_type": "code",
   "execution_count": 54,
   "metadata": {
    "hidden": true
   },
   "outputs": [
    {
     "name": "stdout",
     "output_type": "stream",
     "text": [
      "+---+--------------------------------------------+------------+-----------------+\n",
      "|id |airport_name                                |airport_code|pagerank         |\n",
      "+---+--------------------------------------------+------------+-----------------+\n",
      "|ATL|Atlanta Hartsfield International Airport    |ATL         |9.92198975167278 |\n",
      "|ORD|Chicago O'Hare International Airport Airport|ORD         |8.337957724192721|\n",
      "|DFW|Dallas/Fort Worth International Airport     |DFW         |6.621507021383636|\n",
      "|CLT|Charlotte/Douglas International Airport     |CLT         |6.133078023243028|\n",
      "|DEN|Denver International Airport                |DEN         |5.585645053345459|\n",
      "+---+--------------------------------------------+------------+-----------------+\n",
      "only showing top 5 rows\n",
      "\n"
     ]
    }
   ],
   "source": [
    "g_pr_10_v.orderBy(F.desc('pagerank')).show(5, truncate=False)"
   ]
  },
  {
   "cell_type": "code",
   "execution_count": 66,
   "metadata": {
    "hidden": true
   },
   "outputs": [
    {
     "name": "stdout",
     "output_type": "stream",
     "text": [
      "CPU times: user 10.1 ms, sys: 752 µs, total: 10.8 ms\n",
      "Wall time: 48.7 s\n"
     ]
    }
   ],
   "source": [
    "%%time\n",
    "g_pr_ORD = g.pageRank(resetProbability=0.15, maxIter=10, sourceId=\"ORD\")\n",
    "g_pr_ORD_v = g_pr_ORD.vertices.checkpoint()"
   ]
  },
  {
   "cell_type": "code",
   "execution_count": 55,
   "metadata": {
    "hidden": true
   },
   "outputs": [
    {
     "name": "stdout",
     "output_type": "stream",
     "text": [
      "+---+--------------------------------------------+------------+--------------------+\n",
      "|id |airport_name                                |airport_code|pagerank            |\n",
      "+---+--------------------------------------------+------------+--------------------+\n",
      "|ORD|Chicago O'Hare International Airport Airport|ORD         |0.18818840558163535 |\n",
      "|ATL|Atlanta Hartsfield International Airport    |ATL         |0.041246827043181576|\n",
      "|DFW|Dallas/Fort Worth International Airport     |DFW         |0.03318226313700795 |\n",
      "|CLT|Charlotte/Douglas International Airport     |CLT         |0.028625402842400737|\n",
      "|LAX|Los Angeles International Airport           |LAX         |0.026280308465150597|\n",
      "+---+--------------------------------------------+------------+--------------------+\n",
      "only showing top 5 rows\n",
      "\n"
     ]
    }
   ],
   "source": [
    "g_pr_ORD_v.orderBy(F.desc('pagerank')).show(5, truncate=False)"
   ]
  },
  {
   "cell_type": "code",
   "execution_count": 67,
   "metadata": {
    "hidden": true
   },
   "outputs": [
    {
     "name": "stdout",
     "output_type": "stream",
     "text": [
      "CPU times: user 9.43 ms, sys: 4.17 ms, total: 13.6 ms\n",
      "Wall time: 1min 2s\n"
     ]
    }
   ],
   "source": [
    "%%time\n",
    "g_pr_parellel = g.parallelPersonalizedPageRank(resetProbability=0.15, sourceIds=[\"ORD\", \"ROP\", \"PHL\"], maxIter=10)\n",
    "g_pr_parellel_v = g_pr_parellel.vertices.checkpoint()"
   ]
  },
  {
   "cell_type": "code",
   "execution_count": 63,
   "metadata": {
    "hidden": true
   },
   "outputs": [
    {
     "name": "stdout",
     "output_type": "stream",
     "text": [
      "+--------------------------------------------+------------+----------------------------------------------------------------+\n",
      "|airport_name                                |airport_code|pageranks                                                       |\n",
      "+--------------------------------------------+------------+----------------------------------------------------------------+\n",
      "|Chicago O'Hare International Airport Airport|ORD         |[0.18818840558163524,0.008767609606109426,0.04383591685089005]  |\n",
      "|Atlanta Hartsfield International Airport    |ATL         |[0.04124682704318155,0.006536540689875266,0.045808350454769525] |\n",
      "|Dallas/Fort Worth International Airport     |DFW         |[0.03318226313700794,0.008252830023793687,0.0314962640330986]   |\n",
      "|Charlotte/Douglas International Airport     |CLT         |[0.028625402842400727,0.0038911847897854937,0.03405932281634526]|\n",
      "|Los Angeles International Airport           |LAX         |[0.02628030846515059,0.019928008470075413,0.022929362677678013] |\n",
      "+--------------------------------------------+------------+----------------------------------------------------------------+\n",
      "only showing top 5 rows\n",
      "\n"
     ]
    }
   ],
   "source": [
    "g_pr_parellel_v.orderBy(F.desc('pageranks')).drop('id').show(5, truncate=False)"
   ]
  },
  {
   "cell_type": "markdown",
   "metadata": {
    "heading_collapsed": true,
    "hidden": true
   },
   "source": [
    "#### Shortest Path"
   ]
  },
  {
   "cell_type": "code",
   "execution_count": 57,
   "metadata": {
    "hidden": true
   },
   "outputs": [
    {
     "name": "stdout",
     "output_type": "stream",
     "text": [
      "CPU times: user 7.29 ms, sys: 579 µs, total: 7.87 ms\n",
      "Wall time: 36.1 s\n"
     ]
    }
   ],
   "source": [
    "%%time\n",
    "g_sp = g.shortestPaths(landmarks=[\"PHL\"])\n",
    "g_sp = g_sp.checkpoint()"
   ]
  },
  {
   "cell_type": "code",
   "execution_count": 58,
   "metadata": {
    "hidden": true
   },
   "outputs": [
    {
     "name": "stdout",
     "output_type": "stream",
     "text": [
      "+---+--------------------+------------+----------+\n",
      "| id|        airport_name|airport_code| distances|\n",
      "+---+--------------------+------------+----------+\n",
      "|MSY|New Orleans Inter...|         MSY|[PHL -> 1]|\n",
      "|ROR|       Koror Airport|         ROR|[PHL -> 4]|\n",
      "|FLG|           Flagstaff|         FLG|[PHL -> 2]|\n",
      "|ABI|Abilene Regional ...|         ABI|[PHL -> 2]|\n",
      "|GRB|           Green Bay|         GRB|[PHL -> 2]|\n",
      "+---+--------------------+------------+----------+\n",
      "only showing top 5 rows\n",
      "\n"
     ]
    }
   ],
   "source": [
    "g_sp.show(5)"
   ]
  },
  {
   "cell_type": "code",
   "execution_count": 59,
   "metadata": {
    "hidden": true
   },
   "outputs": [
    {
     "name": "stdout",
     "output_type": "stream",
     "text": [
      "root\n",
      " |-- id: string (nullable = true)\n",
      " |-- airport_name: string (nullable = true)\n",
      " |-- airport_code: string (nullable = true)\n",
      " |-- distances: map (nullable = true)\n",
      " |    |-- key: string\n",
      " |    |-- value: integer (valueContainsNull = false)\n",
      "\n"
     ]
    }
   ],
   "source": [
    "g_sp.printSchema()"
   ]
  },
  {
   "cell_type": "code",
   "execution_count": 60,
   "metadata": {
    "hidden": true
   },
   "outputs": [
    {
     "name": "stdout",
     "output_type": "stream",
     "text": [
      "+---+-----------------------------------+------------+----------+--------+\n",
      "|id |airport_name                       |airport_code|distances |distance|\n",
      "+---+-----------------------------------+------------+----------+--------+\n",
      "|YAP|Yap International Airport          |YAP         |[PHL -> 4]|[4]     |\n",
      "|ROR|Koror Airport                      |ROR         |[PHL -> 4]|[4]     |\n",
      "|ROP|Rota International Airport         |ROP         |[PHL -> 4]|[4]     |\n",
      "|SPN|Saipan International Airport       |SPN         |[PHL -> 4]|[4]     |\n",
      "|MKK|Molokai Airport                    |MKK         |[PHL -> 3]|[3]     |\n",
      "|GST|Gustavus Airport                   |GST         |[PHL -> 3]|[3]     |\n",
      "|LNY|Lanai Airport                      |LNY         |[PHL -> 3]|[3]     |\n",
      "|BFF|Western Nebraska Regional Airport  |BFF         |[PHL -> 3]|[3]     |\n",
      "|GUM|Guam International Airport         |GUM         |[PHL -> 3]|[3]     |\n",
      "|WRG|Wrangell Airport                   |WRG         |[PHL -> 3]|[3]     |\n",
      "|PSG|Petersburg James A. Johnson Airport|PSG         |[PHL -> 3]|[3]     |\n",
      "|FMN|Four Corners Regional Airport      |FMN         |[PHL -> 3]|[3]     |\n",
      "|ERI|Erie                               |ERI         |[PHL -> 2]|[2]     |\n",
      "|YUM|Yuma International Airport         |YUM         |[PHL -> 2]|[2]     |\n",
      "|SAV|Savannah                           |SAV         |[PHL -> 2]|[2]     |\n",
      "|EFD|Ellington Airport                  |EFD         |[PHL -> 2]|[2]     |\n",
      "|CHA|Chattanooga                        |CHA         |[PHL -> 2]|[2]     |\n",
      "|ITH|Ithaca Tompkins Regional Airport   |ITH         |[PHL -> 2]|[2]     |\n",
      "|LGB|Long Beach                         |LGB         |[PHL -> 2]|[2]     |\n",
      "|EVV|Evansville                         |EVV         |[PHL -> 2]|[2]     |\n",
      "+---+-----------------------------------+------------+----------+--------+\n",
      "only showing top 20 rows\n",
      "\n"
     ]
    }
   ],
   "source": [
    "g_sp.withColumn('distance', F.map_values(F.col('distances'))) \\\n",
    "    .orderBy(F.desc('distance')).show(20, truncate=False)"
   ]
  },
  {
   "cell_type": "markdown",
   "metadata": {
    "heading_collapsed": true,
    "hidden": true
   },
   "source": [
    "#### Triangle Count"
   ]
  },
  {
   "cell_type": "code",
   "execution_count": 61,
   "metadata": {
    "hidden": true
   },
   "outputs": [
    {
     "name": "stdout",
     "output_type": "stream",
     "text": [
      "CPU times: user 4.02 ms, sys: 1.91 ms, total: 5.93 ms\n",
      "Wall time: 30.5 s\n"
     ]
    }
   ],
   "source": [
    "%%time\n",
    "g_tr = g.triangleCount()\n",
    "g_tr = g_tr.checkpoint()"
   ]
  },
  {
   "cell_type": "code",
   "execution_count": 62,
   "metadata": {
    "hidden": true
   },
   "outputs": [
    {
     "name": "stdout",
     "output_type": "stream",
     "text": [
      "+-----+--------------------------------------------+------------+\n",
      "|count|airport_name                                |airport_code|\n",
      "+-----+--------------------------------------------+------------+\n",
      "|3248 |Chicago O'Hare International Airport Airport|ORD         |\n",
      "|3238 |Atlanta Hartsfield International Airport    |ATL         |\n",
      "|2965 |Cincinnati                                  |CVG         |\n",
      "|2765 |Detroit Metropolitan Airport                |DTW         |\n",
      "|2722 |Minneapolis/St.Paul International Airport   |MSP         |\n",
      "+-----+--------------------------------------------+------------+\n",
      "only showing top 5 rows\n",
      "\n"
     ]
    }
   ],
   "source": [
    "g_tr.orderBy(F.desc('count')) \\\n",
    "    .drop('id') \\\n",
    "    .show(5, truncate=False)"
   ]
  }
 ],
 "metadata": {
  "kernelspec": {
   "display_name": "Python 3",
   "language": "python",
   "name": "python3"
  },
  "language_info": {
   "codemirror_mode": {
    "name": "ipython",
    "version": 3
   },
   "file_extension": ".py",
   "mimetype": "text/x-python",
   "name": "python",
   "nbconvert_exporter": "python",
   "pygments_lexer": "ipython3",
   "version": "3.6.5"
  },
  "toc": {
   "nav_menu": {},
   "number_sections": true,
   "sideBar": true,
   "skip_h1_title": false,
   "toc_cell": false,
   "toc_position": {},
   "toc_section_display": "block",
   "toc_window_display": false
  }
 },
 "nbformat": 4,
 "nbformat_minor": 2
}
