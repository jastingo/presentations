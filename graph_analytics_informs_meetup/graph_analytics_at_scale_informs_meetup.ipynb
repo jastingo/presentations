{
 "cells": [
  {
   "cell_type": "markdown",
   "metadata": {
    "heading_collapsed": true
   },
   "source": [
    "### Introduction"
   ]
  },
  {
   "cell_type": "markdown",
   "metadata": {
    "hidden": true
   },
   "source": [
    "The [Bureau of Transportation Statistics](https://www.transtats.bts.gov) regularly publishes data about domestic flights. Information such as flight departure and arrival airports, carrier information, flight times, delays, cancellations, etc. is available for free and can be analyzed by anyone with an interest.\n",
    "\n",
    "There is a lot of interesting information on the [Bureau of Transportation Statistics](https://www.transtats.bts.gov) website, but the data in this analysis can be obtained [here](https://www.transtats.bts.gov/DL_SelectFields.asp?Table_ID=236). You will have to download data one month at a time as far as I can tell."
   ]
  },
  {
   "cell_type": "markdown",
   "metadata": {
    "heading_collapsed": true,
    "slideshow": {
     "slide_type": "slide"
    }
   },
   "source": [
    "### Setup"
   ]
  },
  {
   "cell_type": "code",
   "execution_count": 1,
   "metadata": {
    "hidden": true,
    "slideshow": {
     "slide_type": "subslide"
    }
   },
   "outputs": [],
   "source": [
    "import sys\n",
    "\n",
    "from pyspark.sql import DataFrame\n",
    "import pyspark.sql.functions as F\n",
    "from graphframes import GraphFrame\n",
    "from graphframes.examples import Graphs\n",
    "\n",
    "# Set the Spark checkpoint directory\n",
    "sc.setCheckpointDir('/tmp')"
   ]
  },
  {
   "cell_type": "code",
   "execution_count": 2,
   "metadata": {
    "hidden": true,
    "slideshow": {
     "slide_type": "subslide"
    }
   },
   "outputs": [
    {
     "name": "stdout",
     "output_type": "stream",
     "text": [
      "3.6.8 (default, Aug  2 2019, 17:42:44) \n",
      "[GCC 4.8.5 20150623 (Red Hat 4.8.5-28)]\n"
     ]
    }
   ],
   "source": [
    "print(sys.version)"
   ]
  },
  {
   "cell_type": "code",
   "execution_count": 3,
   "metadata": {
    "hidden": true,
    "slideshow": {
     "slide_type": "-"
    }
   },
   "outputs": [
    {
     "data": {
      "text/html": [
       "\n",
       "            <div>\n",
       "                <p><b>SparkSession - hive</b></p>\n",
       "                \n",
       "        <div>\n",
       "            <p><b>SparkContext</b></p>\n",
       "\n",
       "            <p><a href=\"http://ip-172-31-47-129.ec2.internal:4040\">Spark UI</a></p>\n",
       "\n",
       "            <dl>\n",
       "              <dt>Version</dt>\n",
       "                <dd><code>v2.4.3</code></dd>\n",
       "              <dt>Master</dt>\n",
       "                <dd><code>yarn</code></dd>\n",
       "              <dt>AppName</dt>\n",
       "                <dd><code>PySparkShell</code></dd>\n",
       "            </dl>\n",
       "        </div>\n",
       "        \n",
       "            </div>\n",
       "        "
      ],
      "text/plain": [
       "<pyspark.sql.session.SparkSession at 0x7fa2c553c518>"
      ]
     },
     "execution_count": 3,
     "metadata": {},
     "output_type": "execute_result"
    }
   ],
   "source": [
    "spark"
   ]
  },
  {
   "cell_type": "code",
   "execution_count": 4,
   "metadata": {
    "hidden": true
   },
   "outputs": [],
   "source": [
    "# Data Locations\n",
    "CARRIER_CODE_LOC = 's3://jornaya-ds-us-east-1-sandbox/csnyder/L_UNIQUE_CARRIERS.csv'\n",
    "AIRPORT_CODE_LOC = 's3://jornaya-ds-us-east-1-sandbox/csnyder/L_AIRPORT.csv'\n",
    "FLIGHT_DATA_LOC = 's3://jornaya-ds-us-east-1-sandbox/csnyder/dot_carrier_data'\n",
    "\n",
    "CARRIER_CODE = 'carrier_code'\n",
    "AIRPORT_CODE = 'airport_code'"
   ]
  },
  {
   "cell_type": "markdown",
   "metadata": {
    "heading_collapsed": true,
    "slideshow": {
     "slide_type": "slide"
    }
   },
   "source": [
    "### Data Import and Cleaning"
   ]
  },
  {
   "cell_type": "markdown",
   "metadata": {
    "hidden": true,
    "slideshow": {
     "slide_type": "subslide"
    }
   },
   "source": [
    "We will be taking a look at flight data for all domestic flights from January 2013 to July 2019. The raw data contains both airline and airport codes, and so additional lookup tables are imported to make results human-readable."
   ]
  },
  {
   "cell_type": "markdown",
   "metadata": {
    "heading_collapsed": true,
    "hidden": true
   },
   "source": [
    "#### Carrier Lookup Table"
   ]
  },
  {
   "cell_type": "code",
   "execution_count": 5,
   "metadata": {
    "hidden": true,
    "slideshow": {
     "slide_type": "subslide"
    }
   },
   "outputs": [],
   "source": [
    "# Read in airline codes mapping\n",
    "carrier_codes = spark.read.csv(CARRIER_CODE_LOC, header=True) \\\n",
    "    .selectExpr('Code as {}'.format(CARRIER_CODE), 'Description as carrier_name')"
   ]
  },
  {
   "cell_type": "code",
   "execution_count": 6,
   "metadata": {
    "hidden": true,
    "slideshow": {
     "slide_type": "subslide"
    }
   },
   "outputs": [
    {
     "data": {
      "text/html": [
       "<div>\n",
       "<style scoped>\n",
       "    .dataframe tbody tr th:only-of-type {\n",
       "        vertical-align: middle;\n",
       "    }\n",
       "\n",
       "    .dataframe tbody tr th {\n",
       "        vertical-align: top;\n",
       "    }\n",
       "\n",
       "    .dataframe thead th {\n",
       "        text-align: right;\n",
       "    }\n",
       "</style>\n",
       "<table border=\"1\" class=\"dataframe\">\n",
       "  <thead>\n",
       "    <tr style=\"text-align: right;\">\n",
       "      <th></th>\n",
       "      <th>carrier_code</th>\n",
       "      <th>carrier_name</th>\n",
       "    </tr>\n",
       "  </thead>\n",
       "  <tbody>\n",
       "    <tr>\n",
       "      <td>0</td>\n",
       "      <td>02Q</td>\n",
       "      <td>Titan Airways</td>\n",
       "    </tr>\n",
       "    <tr>\n",
       "      <td>1</td>\n",
       "      <td>04Q</td>\n",
       "      <td>Tradewind Aviation</td>\n",
       "    </tr>\n",
       "    <tr>\n",
       "      <td>2</td>\n",
       "      <td>05Q</td>\n",
       "      <td>Comlux Aviation, AG</td>\n",
       "    </tr>\n",
       "    <tr>\n",
       "      <td>3</td>\n",
       "      <td>06Q</td>\n",
       "      <td>Master Top Linhas Aereas Ltd.</td>\n",
       "    </tr>\n",
       "    <tr>\n",
       "      <td>4</td>\n",
       "      <td>07Q</td>\n",
       "      <td>Flair Airlines Ltd.</td>\n",
       "    </tr>\n",
       "  </tbody>\n",
       "</table>\n",
       "</div>"
      ],
      "text/plain": [
       "  carrier_code                   carrier_name\n",
       "0          02Q                  Titan Airways\n",
       "1          04Q             Tradewind Aviation\n",
       "2          05Q            Comlux Aviation, AG\n",
       "3          06Q  Master Top Linhas Aereas Ltd.\n",
       "4          07Q            Flair Airlines Ltd."
      ]
     },
     "execution_count": 6,
     "metadata": {},
     "output_type": "execute_result"
    }
   ],
   "source": [
    "carrier_codes.limit(5).toPandas()"
   ]
  },
  {
   "cell_type": "markdown",
   "metadata": {
    "heading_collapsed": true,
    "hidden": true
   },
   "source": [
    "#### Airport Lookup Table"
   ]
  },
  {
   "cell_type": "code",
   "execution_count": 7,
   "metadata": {
    "hidden": true,
    "slideshow": {
     "slide_type": "subslide"
    }
   },
   "outputs": [],
   "source": [
    "# Read in airport codes mapping\n",
    "airport_codes = spark.read.csv(AIRPORT_CODE_LOC, header=True) \\\n",
    "    .withColumn('darray', F.split(F.col('Description'), ': ')) \\\n",
    "    .select(\n",
    "        'Code',\n",
    "        F.col('darray')[0].alias('airport_city'),\n",
    "        F.col('darray')[1].alias('airport_name')\n",
    "    ) \\\n",
    "    .withColumnRenamed('Code', AIRPORT_CODE)"
   ]
  },
  {
   "cell_type": "code",
   "execution_count": 8,
   "metadata": {
    "hidden": true,
    "slideshow": {
     "slide_type": "subslide"
    }
   },
   "outputs": [
    {
     "data": {
      "text/html": [
       "<div>\n",
       "<style scoped>\n",
       "    .dataframe tbody tr th:only-of-type {\n",
       "        vertical-align: middle;\n",
       "    }\n",
       "\n",
       "    .dataframe tbody tr th {\n",
       "        vertical-align: top;\n",
       "    }\n",
       "\n",
       "    .dataframe thead th {\n",
       "        text-align: right;\n",
       "    }\n",
       "</style>\n",
       "<table border=\"1\" class=\"dataframe\">\n",
       "  <thead>\n",
       "    <tr style=\"text-align: right;\">\n",
       "      <th></th>\n",
       "      <th>airport_code</th>\n",
       "      <th>airport_city</th>\n",
       "      <th>airport_name</th>\n",
       "    </tr>\n",
       "  </thead>\n",
       "  <tbody>\n",
       "    <tr>\n",
       "      <td>0</td>\n",
       "      <td>01A</td>\n",
       "      <td>Afognak Lake, AK</td>\n",
       "      <td>Afognak Lake Airport</td>\n",
       "    </tr>\n",
       "    <tr>\n",
       "      <td>1</td>\n",
       "      <td>03A</td>\n",
       "      <td>Granite Mountain, AK</td>\n",
       "      <td>Bear Creek Mining Strip</td>\n",
       "    </tr>\n",
       "    <tr>\n",
       "      <td>2</td>\n",
       "      <td>04A</td>\n",
       "      <td>Lik, AK</td>\n",
       "      <td>Lik Mining Camp</td>\n",
       "    </tr>\n",
       "    <tr>\n",
       "      <td>3</td>\n",
       "      <td>05A</td>\n",
       "      <td>Little Squaw, AK</td>\n",
       "      <td>Little Squaw Airport</td>\n",
       "    </tr>\n",
       "    <tr>\n",
       "      <td>4</td>\n",
       "      <td>06A</td>\n",
       "      <td>Kizhuyak, AK</td>\n",
       "      <td>Kizhuyak Bay</td>\n",
       "    </tr>\n",
       "  </tbody>\n",
       "</table>\n",
       "</div>"
      ],
      "text/plain": [
       "  airport_code          airport_city             airport_name\n",
       "0          01A      Afognak Lake, AK     Afognak Lake Airport\n",
       "1          03A  Granite Mountain, AK  Bear Creek Mining Strip\n",
       "2          04A               Lik, AK          Lik Mining Camp\n",
       "3          05A      Little Squaw, AK     Little Squaw Airport\n",
       "4          06A          Kizhuyak, AK             Kizhuyak Bay"
      ]
     },
     "execution_count": 8,
     "metadata": {},
     "output_type": "execute_result"
    }
   ],
   "source": [
    "airport_codes.limit(5).toPandas()"
   ]
  },
  {
   "cell_type": "markdown",
   "metadata": {
    "heading_collapsed": true,
    "hidden": true
   },
   "source": [
    "#### Flight Data"
   ]
  },
  {
   "cell_type": "code",
   "execution_count": 9,
   "metadata": {
    "hidden": true,
    "slideshow": {
     "slide_type": "subslide"
    }
   },
   "outputs": [],
   "source": [
    "# Read in the airline linkage data, select only subset of columns, join airline codes\n",
    "air = spark.read.csv(FLIGHT_DATA_LOC, header=True) \\\n",
    "    .select('FL_DATE', 'OP_UNIQUE_CARRIER', 'ORIGIN', 'ORIGIN_STATE_ABR', 'DEST', 'DEST_STATE_ABR',\n",
    "            'CANCELLED', 'CARRIER_DELAY', 'WEATHER_DELAY', 'year') \\\n",
    "    .withColumnRenamed('OP_UNIQUE_CARRIER', CARRIER_CODE) \\\n",
    "    .join(F.broadcast(carrier_codes), on=CARRIER_CODE, how='inner')"
   ]
  },
  {
   "cell_type": "code",
   "execution_count": 10,
   "metadata": {
    "hidden": true,
    "slideshow": {
     "slide_type": "-"
    }
   },
   "outputs": [],
   "source": [
    "# delays are in minutes and are null when there is no delay. Fill nulls as 0.\n",
    "air = air.na.fill({'CARRIER_DELAY': 0, 'WEATHER_DELAY': 0})"
   ]
  },
  {
   "cell_type": "code",
   "execution_count": 11,
   "metadata": {
    "hidden": true,
    "slideshow": {
     "slide_type": "-"
    }
   },
   "outputs": [
    {
     "data": {
      "text/plain": [
       "40796427"
      ]
     },
     "execution_count": 11,
     "metadata": {},
     "output_type": "execute_result"
    }
   ],
   "source": [
    "air.count()"
   ]
  },
  {
   "cell_type": "code",
   "execution_count": 12,
   "metadata": {
    "hidden": true,
    "slideshow": {
     "slide_type": "subslide"
    }
   },
   "outputs": [
    {
     "data": {
      "text/html": [
       "<div>\n",
       "<style scoped>\n",
       "    .dataframe tbody tr th:only-of-type {\n",
       "        vertical-align: middle;\n",
       "    }\n",
       "\n",
       "    .dataframe tbody tr th {\n",
       "        vertical-align: top;\n",
       "    }\n",
       "\n",
       "    .dataframe thead th {\n",
       "        text-align: right;\n",
       "    }\n",
       "</style>\n",
       "<table border=\"1\" class=\"dataframe\">\n",
       "  <thead>\n",
       "    <tr style=\"text-align: right;\">\n",
       "      <th></th>\n",
       "      <th>carrier_code</th>\n",
       "      <th>FL_DATE</th>\n",
       "      <th>ORIGIN</th>\n",
       "      <th>ORIGIN_STATE_ABR</th>\n",
       "      <th>DEST</th>\n",
       "      <th>DEST_STATE_ABR</th>\n",
       "      <th>CANCELLED</th>\n",
       "      <th>CARRIER_DELAY</th>\n",
       "      <th>WEATHER_DELAY</th>\n",
       "      <th>year</th>\n",
       "      <th>carrier_name</th>\n",
       "    </tr>\n",
       "  </thead>\n",
       "  <tbody>\n",
       "    <tr>\n",
       "      <td>0</td>\n",
       "      <td>AA</td>\n",
       "      <td>2016-10-01</td>\n",
       "      <td>JFK</td>\n",
       "      <td>NY</td>\n",
       "      <td>LAX</td>\n",
       "      <td>CA</td>\n",
       "      <td>0.00</td>\n",
       "      <td>0</td>\n",
       "      <td>0</td>\n",
       "      <td>2016</td>\n",
       "      <td>American Airlines Inc.</td>\n",
       "    </tr>\n",
       "    <tr>\n",
       "      <td>1</td>\n",
       "      <td>AA</td>\n",
       "      <td>2016-10-01</td>\n",
       "      <td>LAX</td>\n",
       "      <td>CA</td>\n",
       "      <td>JFK</td>\n",
       "      <td>NY</td>\n",
       "      <td>0.00</td>\n",
       "      <td>0</td>\n",
       "      <td>0</td>\n",
       "      <td>2016</td>\n",
       "      <td>American Airlines Inc.</td>\n",
       "    </tr>\n",
       "    <tr>\n",
       "      <td>2</td>\n",
       "      <td>AA</td>\n",
       "      <td>2016-10-01</td>\n",
       "      <td>JFK</td>\n",
       "      <td>NY</td>\n",
       "      <td>LAX</td>\n",
       "      <td>CA</td>\n",
       "      <td>0.00</td>\n",
       "      <td>0</td>\n",
       "      <td>0</td>\n",
       "      <td>2016</td>\n",
       "      <td>American Airlines Inc.</td>\n",
       "    </tr>\n",
       "    <tr>\n",
       "      <td>3</td>\n",
       "      <td>AA</td>\n",
       "      <td>2016-10-01</td>\n",
       "      <td>DFW</td>\n",
       "      <td>TX</td>\n",
       "      <td>HNL</td>\n",
       "      <td>HI</td>\n",
       "      <td>0.00</td>\n",
       "      <td>42.00</td>\n",
       "      <td>0.00</td>\n",
       "      <td>2016</td>\n",
       "      <td>American Airlines Inc.</td>\n",
       "    </tr>\n",
       "    <tr>\n",
       "      <td>4</td>\n",
       "      <td>AA</td>\n",
       "      <td>2016-10-01</td>\n",
       "      <td>OKC</td>\n",
       "      <td>OK</td>\n",
       "      <td>DFW</td>\n",
       "      <td>TX</td>\n",
       "      <td>0.00</td>\n",
       "      <td>0</td>\n",
       "      <td>0</td>\n",
       "      <td>2016</td>\n",
       "      <td>American Airlines Inc.</td>\n",
       "    </tr>\n",
       "    <tr>\n",
       "      <td>5</td>\n",
       "      <td>AA</td>\n",
       "      <td>2016-10-01</td>\n",
       "      <td>OGG</td>\n",
       "      <td>HI</td>\n",
       "      <td>DFW</td>\n",
       "      <td>TX</td>\n",
       "      <td>0.00</td>\n",
       "      <td>0</td>\n",
       "      <td>0</td>\n",
       "      <td>2016</td>\n",
       "      <td>American Airlines Inc.</td>\n",
       "    </tr>\n",
       "    <tr>\n",
       "      <td>6</td>\n",
       "      <td>AA</td>\n",
       "      <td>2016-10-01</td>\n",
       "      <td>DFW</td>\n",
       "      <td>TX</td>\n",
       "      <td>OGG</td>\n",
       "      <td>HI</td>\n",
       "      <td>0.00</td>\n",
       "      <td>0</td>\n",
       "      <td>0</td>\n",
       "      <td>2016</td>\n",
       "      <td>American Airlines Inc.</td>\n",
       "    </tr>\n",
       "    <tr>\n",
       "      <td>7</td>\n",
       "      <td>AA</td>\n",
       "      <td>2016-10-01</td>\n",
       "      <td>HNL</td>\n",
       "      <td>HI</td>\n",
       "      <td>DFW</td>\n",
       "      <td>TX</td>\n",
       "      <td>0.00</td>\n",
       "      <td>0</td>\n",
       "      <td>0</td>\n",
       "      <td>2016</td>\n",
       "      <td>American Airlines Inc.</td>\n",
       "    </tr>\n",
       "    <tr>\n",
       "      <td>8</td>\n",
       "      <td>AA</td>\n",
       "      <td>2016-10-01</td>\n",
       "      <td>JFK</td>\n",
       "      <td>NY</td>\n",
       "      <td>SFO</td>\n",
       "      <td>CA</td>\n",
       "      <td>0.00</td>\n",
       "      <td>0</td>\n",
       "      <td>0</td>\n",
       "      <td>2016</td>\n",
       "      <td>American Airlines Inc.</td>\n",
       "    </tr>\n",
       "    <tr>\n",
       "      <td>9</td>\n",
       "      <td>AA</td>\n",
       "      <td>2016-10-01</td>\n",
       "      <td>LAX</td>\n",
       "      <td>CA</td>\n",
       "      <td>JFK</td>\n",
       "      <td>NY</td>\n",
       "      <td>0.00</td>\n",
       "      <td>0</td>\n",
       "      <td>0</td>\n",
       "      <td>2016</td>\n",
       "      <td>American Airlines Inc.</td>\n",
       "    </tr>\n",
       "  </tbody>\n",
       "</table>\n",
       "</div>"
      ],
      "text/plain": [
       "  carrier_code     FL_DATE ORIGIN ORIGIN_STATE_ABR DEST DEST_STATE_ABR  \\\n",
       "0           AA  2016-10-01    JFK               NY  LAX             CA   \n",
       "1           AA  2016-10-01    LAX               CA  JFK             NY   \n",
       "2           AA  2016-10-01    JFK               NY  LAX             CA   \n",
       "3           AA  2016-10-01    DFW               TX  HNL             HI   \n",
       "4           AA  2016-10-01    OKC               OK  DFW             TX   \n",
       "5           AA  2016-10-01    OGG               HI  DFW             TX   \n",
       "6           AA  2016-10-01    DFW               TX  OGG             HI   \n",
       "7           AA  2016-10-01    HNL               HI  DFW             TX   \n",
       "8           AA  2016-10-01    JFK               NY  SFO             CA   \n",
       "9           AA  2016-10-01    LAX               CA  JFK             NY   \n",
       "\n",
       "  CANCELLED CARRIER_DELAY WEATHER_DELAY  year            carrier_name  \n",
       "0      0.00             0             0  2016  American Airlines Inc.  \n",
       "1      0.00             0             0  2016  American Airlines Inc.  \n",
       "2      0.00             0             0  2016  American Airlines Inc.  \n",
       "3      0.00         42.00          0.00  2016  American Airlines Inc.  \n",
       "4      0.00             0             0  2016  American Airlines Inc.  \n",
       "5      0.00             0             0  2016  American Airlines Inc.  \n",
       "6      0.00             0             0  2016  American Airlines Inc.  \n",
       "7      0.00             0             0  2016  American Airlines Inc.  \n",
       "8      0.00             0             0  2016  American Airlines Inc.  \n",
       "9      0.00             0             0  2016  American Airlines Inc.  "
      ]
     },
     "execution_count": 12,
     "metadata": {},
     "output_type": "execute_result"
    }
   ],
   "source": [
    "air.limit(10).toPandas()"
   ]
  },
  {
   "cell_type": "markdown",
   "metadata": {
    "heading_collapsed": true,
    "slideshow": {
     "slide_type": "slide"
    }
   },
   "source": [
    "### Data Summaries"
   ]
  },
  {
   "cell_type": "markdown",
   "metadata": {
    "hidden": true,
    "slideshow": {
     "slide_type": "subslide"
    }
   },
   "source": [
    "What are the carriers that conducted the most flights?"
   ]
  },
  {
   "cell_type": "code",
   "execution_count": 13,
   "metadata": {
    "hidden": true
   },
   "outputs": [],
   "source": [
    "carrier_flight_counts = air \\\n",
    "    .groupBy(CARRIER_CODE, 'carrier_name') \\\n",
    "    .count()"
   ]
  },
  {
   "cell_type": "code",
   "execution_count": 14,
   "metadata": {
    "hidden": true,
    "slideshow": {
     "slide_type": "subslide"
    }
   },
   "outputs": [
    {
     "data": {
      "text/html": [
       "<div>\n",
       "<style scoped>\n",
       "    .dataframe tbody tr th:only-of-type {\n",
       "        vertical-align: middle;\n",
       "    }\n",
       "\n",
       "    .dataframe tbody tr th {\n",
       "        vertical-align: top;\n",
       "    }\n",
       "\n",
       "    .dataframe thead th {\n",
       "        text-align: right;\n",
       "    }\n",
       "</style>\n",
       "<table border=\"1\" class=\"dataframe\">\n",
       "  <thead>\n",
       "    <tr style=\"text-align: right;\">\n",
       "      <th></th>\n",
       "      <th>carrier_code</th>\n",
       "      <th>carrier_name</th>\n",
       "      <th>count</th>\n",
       "    </tr>\n",
       "  </thead>\n",
       "  <tbody>\n",
       "    <tr>\n",
       "      <td>0</td>\n",
       "      <td>WN</td>\n",
       "      <td>Southwest Airlines Co.</td>\n",
       "      <td>8348262</td>\n",
       "    </tr>\n",
       "    <tr>\n",
       "      <td>1</td>\n",
       "      <td>DL</td>\n",
       "      <td>Delta Air Lines Inc.</td>\n",
       "      <td>5793891</td>\n",
       "    </tr>\n",
       "    <tr>\n",
       "      <td>2</td>\n",
       "      <td>AA</td>\n",
       "      <td>American Airlines Inc.</td>\n",
       "      <td>5075433</td>\n",
       "    </tr>\n",
       "    <tr>\n",
       "      <td>3</td>\n",
       "      <td>OO</td>\n",
       "      <td>SkyWest Airlines Inc.</td>\n",
       "      <td>4394430</td>\n",
       "    </tr>\n",
       "    <tr>\n",
       "      <td>4</td>\n",
       "      <td>UA</td>\n",
       "      <td>United Air Lines Inc.</td>\n",
       "      <td>3624232</td>\n",
       "    </tr>\n",
       "    <tr>\n",
       "      <td>5</td>\n",
       "      <td>EV</td>\n",
       "      <td>ExpressJet Airlines LLC</td>\n",
       "      <td>3119077</td>\n",
       "    </tr>\n",
       "    <tr>\n",
       "      <td>6</td>\n",
       "      <td>B6</td>\n",
       "      <td>JetBlue Airways</td>\n",
       "      <td>1817011</td>\n",
       "    </tr>\n",
       "    <tr>\n",
       "      <td>7</td>\n",
       "      <td>MQ</td>\n",
       "      <td>Envoy Air</td>\n",
       "      <td>1612031</td>\n",
       "    </tr>\n",
       "    <tr>\n",
       "      <td>8</td>\n",
       "      <td>AS</td>\n",
       "      <td>Alaska Airlines Inc.</td>\n",
       "      <td>1248357</td>\n",
       "    </tr>\n",
       "    <tr>\n",
       "      <td>9</td>\n",
       "      <td>US</td>\n",
       "      <td>US Airways Inc.</td>\n",
       "      <td>1025753</td>\n",
       "    </tr>\n",
       "  </tbody>\n",
       "</table>\n",
       "</div>"
      ],
      "text/plain": [
       "  carrier_code             carrier_name    count\n",
       "0           WN   Southwest Airlines Co.  8348262\n",
       "1           DL     Delta Air Lines Inc.  5793891\n",
       "2           AA   American Airlines Inc.  5075433\n",
       "3           OO    SkyWest Airlines Inc.  4394430\n",
       "4           UA    United Air Lines Inc.  3624232\n",
       "5           EV  ExpressJet Airlines LLC  3119077\n",
       "6           B6          JetBlue Airways  1817011\n",
       "7           MQ                Envoy Air  1612031\n",
       "8           AS     Alaska Airlines Inc.  1248357\n",
       "9           US          US Airways Inc.  1025753"
      ]
     },
     "execution_count": 14,
     "metadata": {},
     "output_type": "execute_result"
    }
   ],
   "source": [
    "carrier_flight_counts \\\n",
    "    .orderBy(F.desc('count')) \\\n",
    "    .limit(10).toPandas()"
   ]
  },
  {
   "cell_type": "markdown",
   "metadata": {
    "hidden": true,
    "slideshow": {
     "slide_type": "subslide"
    }
   },
   "source": [
    "What are the carriers that conducted the least flights?"
   ]
  },
  {
   "cell_type": "code",
   "execution_count": 15,
   "metadata": {
    "hidden": true,
    "slideshow": {
     "slide_type": "subslide"
    }
   },
   "outputs": [
    {
     "data": {
      "text/html": [
       "<div>\n",
       "<style scoped>\n",
       "    .dataframe tbody tr th:only-of-type {\n",
       "        vertical-align: middle;\n",
       "    }\n",
       "\n",
       "    .dataframe tbody tr th {\n",
       "        vertical-align: top;\n",
       "    }\n",
       "\n",
       "    .dataframe thead th {\n",
       "        text-align: right;\n",
       "    }\n",
       "</style>\n",
       "<table border=\"1\" class=\"dataframe\">\n",
       "  <thead>\n",
       "    <tr style=\"text-align: right;\">\n",
       "      <th></th>\n",
       "      <th>carrier_code</th>\n",
       "      <th>carrier_name</th>\n",
       "      <th>count</th>\n",
       "    </tr>\n",
       "  </thead>\n",
       "  <tbody>\n",
       "    <tr>\n",
       "      <td>0</td>\n",
       "      <td>FL</td>\n",
       "      <td>AirTran Airways Corporation</td>\n",
       "      <td>253447</td>\n",
       "    </tr>\n",
       "    <tr>\n",
       "      <td>1</td>\n",
       "      <td>F9</td>\n",
       "      <td>Frontier Airlines Inc.</td>\n",
       "      <td>643451</td>\n",
       "    </tr>\n",
       "    <tr>\n",
       "      <td>2</td>\n",
       "      <td>AS</td>\n",
       "      <td>Alaska Airlines Inc.</td>\n",
       "      <td>1248357</td>\n",
       "    </tr>\n",
       "    <tr>\n",
       "      <td>3</td>\n",
       "      <td>YX</td>\n",
       "      <td>Republic Airline</td>\n",
       "      <td>503932</td>\n",
       "    </tr>\n",
       "    <tr>\n",
       "      <td>4</td>\n",
       "      <td>UA</td>\n",
       "      <td>United Air Lines Inc.</td>\n",
       "      <td>3624232</td>\n",
       "    </tr>\n",
       "    <tr>\n",
       "      <td>5</td>\n",
       "      <td>MQ</td>\n",
       "      <td>Envoy Air</td>\n",
       "      <td>1612031</td>\n",
       "    </tr>\n",
       "    <tr>\n",
       "      <td>6</td>\n",
       "      <td>G4</td>\n",
       "      <td>Allegiant Air</td>\n",
       "      <td>161696</td>\n",
       "    </tr>\n",
       "    <tr>\n",
       "      <td>7</td>\n",
       "      <td>AA</td>\n",
       "      <td>American Airlines Inc.</td>\n",
       "      <td>5075433</td>\n",
       "    </tr>\n",
       "    <tr>\n",
       "      <td>8</td>\n",
       "      <td>B6</td>\n",
       "      <td>JetBlue Airways</td>\n",
       "      <td>1817011</td>\n",
       "    </tr>\n",
       "    <tr>\n",
       "      <td>9</td>\n",
       "      <td>YV</td>\n",
       "      <td>Mesa Airlines Inc.</td>\n",
       "      <td>487572</td>\n",
       "    </tr>\n",
       "  </tbody>\n",
       "</table>\n",
       "</div>"
      ],
      "text/plain": [
       "  carrier_code                 carrier_name    count\n",
       "0           FL  AirTran Airways Corporation   253447\n",
       "1           F9       Frontier Airlines Inc.   643451\n",
       "2           AS         Alaska Airlines Inc.  1248357\n",
       "3           YX             Republic Airline   503932\n",
       "4           UA        United Air Lines Inc.  3624232\n",
       "5           MQ                    Envoy Air  1612031\n",
       "6           G4                Allegiant Air   161696\n",
       "7           AA       American Airlines Inc.  5075433\n",
       "8           B6              JetBlue Airways  1817011\n",
       "9           YV           Mesa Airlines Inc.   487572"
      ]
     },
     "execution_count": 15,
     "metadata": {},
     "output_type": "execute_result"
    }
   ],
   "source": [
    "carrier_flight_counts \\\n",
    "    .limit(10).toPandas()"
   ]
  },
  {
   "cell_type": "markdown",
   "metadata": {
    "hidden": true,
    "slideshow": {
     "slide_type": "subslide"
    }
   },
   "source": [
    "What carriers had the most highest flight delays (avg minutes) in 2019?"
   ]
  },
  {
   "cell_type": "code",
   "execution_count": 16,
   "metadata": {
    "hidden": true,
    "slideshow": {
     "slide_type": "subslide"
    }
   },
   "outputs": [
    {
     "data": {
      "text/html": [
       "<div>\n",
       "<style scoped>\n",
       "    .dataframe tbody tr th:only-of-type {\n",
       "        vertical-align: middle;\n",
       "    }\n",
       "\n",
       "    .dataframe tbody tr th {\n",
       "        vertical-align: top;\n",
       "    }\n",
       "\n",
       "    .dataframe thead th {\n",
       "        text-align: right;\n",
       "    }\n",
       "</style>\n",
       "<table border=\"1\" class=\"dataframe\">\n",
       "  <thead>\n",
       "    <tr style=\"text-align: right;\">\n",
       "      <th></th>\n",
       "      <th>carrier_name</th>\n",
       "      <th>total_minutes_delayed</th>\n",
       "      <th>flight_cnt</th>\n",
       "      <th>avg_delay</th>\n",
       "      <th>std_delay</th>\n",
       "    </tr>\n",
       "  </thead>\n",
       "  <tbody>\n",
       "    <tr>\n",
       "      <td>0</td>\n",
       "      <td>JetBlue Airways</td>\n",
       "      <td>1225544.0</td>\n",
       "      <td>172933</td>\n",
       "      <td>7.086814</td>\n",
       "      <td>34.051539</td>\n",
       "    </tr>\n",
       "    <tr>\n",
       "      <td>1</td>\n",
       "      <td>ExpressJet Airlines LLC</td>\n",
       "      <td>540128.0</td>\n",
       "      <td>79142</td>\n",
       "      <td>6.824796</td>\n",
       "      <td>45.065704</td>\n",
       "    </tr>\n",
       "    <tr>\n",
       "      <td>2</td>\n",
       "      <td>SkyWest Airlines Inc.</td>\n",
       "      <td>2833063.0</td>\n",
       "      <td>481377</td>\n",
       "      <td>5.885331</td>\n",
       "      <td>45.766722</td>\n",
       "    </tr>\n",
       "    <tr>\n",
       "      <td>3</td>\n",
       "      <td>Mesa Airlines Inc.</td>\n",
       "      <td>702506.0</td>\n",
       "      <td>131512</td>\n",
       "      <td>5.341763</td>\n",
       "      <td>36.721020</td>\n",
       "    </tr>\n",
       "    <tr>\n",
       "      <td>4</td>\n",
       "      <td>American Airlines Inc.</td>\n",
       "      <td>2722610.0</td>\n",
       "      <td>548425</td>\n",
       "      <td>4.964416</td>\n",
       "      <td>33.321840</td>\n",
       "    </tr>\n",
       "    <tr>\n",
       "      <td>5</td>\n",
       "      <td>Allegiant Air</td>\n",
       "      <td>323610.0</td>\n",
       "      <td>65475</td>\n",
       "      <td>4.942497</td>\n",
       "      <td>37.037561</td>\n",
       "    </tr>\n",
       "    <tr>\n",
       "      <td>6</td>\n",
       "      <td>Frontier Airlines Inc.</td>\n",
       "      <td>350478.0</td>\n",
       "      <td>73626</td>\n",
       "      <td>4.760248</td>\n",
       "      <td>22.532748</td>\n",
       "    </tr>\n",
       "    <tr>\n",
       "      <td>7</td>\n",
       "      <td>Endeavor Air Inc.</td>\n",
       "      <td>579008.0</td>\n",
       "      <td>147178</td>\n",
       "      <td>3.934066</td>\n",
       "      <td>28.763620</td>\n",
       "    </tr>\n",
       "    <tr>\n",
       "      <td>8</td>\n",
       "      <td>Delta Air Lines Inc.</td>\n",
       "      <td>2200978.0</td>\n",
       "      <td>571071</td>\n",
       "      <td>3.854123</td>\n",
       "      <td>30.858868</td>\n",
       "    </tr>\n",
       "    <tr>\n",
       "      <td>9</td>\n",
       "      <td>United Air Lines Inc.</td>\n",
       "      <td>1335354.0</td>\n",
       "      <td>361121</td>\n",
       "      <td>3.697802</td>\n",
       "      <td>28.520798</td>\n",
       "    </tr>\n",
       "  </tbody>\n",
       "</table>\n",
       "</div>"
      ],
      "text/plain": [
       "              carrier_name  total_minutes_delayed  flight_cnt  avg_delay  \\\n",
       "0          JetBlue Airways              1225544.0      172933   7.086814   \n",
       "1  ExpressJet Airlines LLC               540128.0       79142   6.824796   \n",
       "2    SkyWest Airlines Inc.              2833063.0      481377   5.885331   \n",
       "3       Mesa Airlines Inc.               702506.0      131512   5.341763   \n",
       "4   American Airlines Inc.              2722610.0      548425   4.964416   \n",
       "5            Allegiant Air               323610.0       65475   4.942497   \n",
       "6   Frontier Airlines Inc.               350478.0       73626   4.760248   \n",
       "7        Endeavor Air Inc.               579008.0      147178   3.934066   \n",
       "8     Delta Air Lines Inc.              2200978.0      571071   3.854123   \n",
       "9    United Air Lines Inc.              1335354.0      361121   3.697802   \n",
       "\n",
       "   std_delay  \n",
       "0  34.051539  \n",
       "1  45.065704  \n",
       "2  45.766722  \n",
       "3  36.721020  \n",
       "4  33.321840  \n",
       "5  37.037561  \n",
       "6  22.532748  \n",
       "7  28.763620  \n",
       "8  30.858868  \n",
       "9  28.520798  "
      ]
     },
     "execution_count": 16,
     "metadata": {},
     "output_type": "execute_result"
    }
   ],
   "source": [
    "air \\\n",
    "    .filter('year = 2019') \\\n",
    "    .groupBy('carrier_name') \\\n",
    "    .agg(\n",
    "        F.sum('CARRIER_DELAY').alias('total_minutes_delayed'),\n",
    "        F.count('*').alias('flight_cnt'),\n",
    "        F.avg(F.col('CARRIER_DELAY')).alias('avg_delay'),\n",
    "        F.stddev(F.col('CARRIER_DELAY')).alias('std_delay')\n",
    "    ) \\\n",
    "    .orderBy(F.desc('avg_delay')) \\\n",
    "    .limit(10).toPandas()"
   ]
  },
  {
   "cell_type": "markdown",
   "metadata": {
    "heading_collapsed": true,
    "slideshow": {
     "slide_type": "slide"
    }
   },
   "source": [
    "### Creating the GraphFrame Object"
   ]
  },
  {
   "cell_type": "markdown",
   "metadata": {
    "hidden": true
   },
   "source": [
    "Now we create the vertex and edge DataFrames. A GraphFrame object needs both DataFrames in order to be instantiated."
   ]
  },
  {
   "cell_type": "code",
   "execution_count": 17,
   "metadata": {
    "hidden": true,
    "slideshow": {
     "slide_type": "slide"
    }
   },
   "outputs": [],
   "source": [
    "# Edges\n",
    "e = air.selectExpr('ORIGIN as src', 'DEST as dst', CARRIER_CODE, 'year') \\\n",
    "    .filter('src is not null') \\\n",
    "    .filter('dst is not null')\n",
    "# Vertices\n",
    "v0 = e.selectExpr('src as id').union(e.selectExpr('dst as id')).distinct()\n",
    "v = v0 \\\n",
    "    .join(F.broadcast(airport_codes), v0.id==airport_codes[AIRPORT_CODE], how='inner')"
   ]
  },
  {
   "cell_type": "markdown",
   "metadata": {
    "hidden": true
   },
   "source": [
    "All DataFrame objects in SparkSQL have a query plan, much like in a traditional SQL database. You can inspect this query plan for a DataFrame object by invoking the `explain` method."
   ]
  },
  {
   "cell_type": "code",
   "execution_count": 18,
   "metadata": {
    "hidden": true,
    "slideshow": {
     "slide_type": "slide"
    }
   },
   "outputs": [
    {
     "name": "stdout",
     "output_type": "stream",
     "text": [
      "== Physical Plan ==\n",
      "*(2) Project [ORIGIN#67 AS src#318, DEST#76 AS dst#319, carrier_code#137, year#92]\n",
      "+- *(2) BroadcastHashJoin [carrier_code#137], [carrier_code#14], Inner, BuildRight\n",
      "   :- *(2) Project [OP_UNIQUE_CARRIER#60 AS carrier_code#137, ORIGIN#67, DEST#76, year#92]\n",
      "   :  +- *(2) Filter ((isnotnull(ORIGIN#67) && isnotnull(DEST#76)) && isnotnull(OP_UNIQUE_CARRIER#60))\n",
      "   :     +- *(2) FileScan csv [OP_UNIQUE_CARRIER#60,ORIGIN#67,DEST#76,year#92] Batched: false, Format: CSV, Location: InMemoryFileIndex[s3://jornaya-ds-us-east-1-sandbox/csnyder/dot_carrier_data], PartitionCount: 7, PartitionFilters: [], PushedFilters: [IsNotNull(ORIGIN), IsNotNull(DEST), IsNotNull(OP_UNIQUE_CARRIER)], ReadSchema: struct<OP_UNIQUE_CARRIER:string,ORIGIN:string,DEST:string>\n",
      "   +- BroadcastExchange HashedRelationBroadcastMode(List(input[0, string, true]))\n",
      "      +- *(1) Project [Code#10 AS carrier_code#14]\n",
      "         +- *(1) Filter isnotnull(Code#10)\n",
      "            +- *(1) FileScan csv [Code#10] Batched: false, Format: CSV, Location: InMemoryFileIndex[s3://jornaya-ds-us-east-1-sandbox/csnyder/L_UNIQUE_CARRIERS.csv], PartitionFilters: [], PushedFilters: [IsNotNull(Code)], ReadSchema: struct<Code:string>\n"
     ]
    }
   ],
   "source": [
    "e.explain()"
   ]
  },
  {
   "cell_type": "markdown",
   "metadata": {
    "hidden": true,
    "slideshow": {
     "slide_type": "slide"
    }
   },
   "source": [
    "Checkpointing in Spark is way to truncate the query plan by triggering Spark to cache the data to disk. This can be very useful when you know you're going to be using a DataFrame more than once."
   ]
  },
  {
   "cell_type": "code",
   "execution_count": 19,
   "metadata": {
    "hidden": true,
    "slideshow": {
     "slide_type": "subslide"
    }
   },
   "outputs": [],
   "source": [
    "e = e.checkpoint()\n",
    "v = v.checkpoint()"
   ]
  },
  {
   "cell_type": "code",
   "execution_count": 20,
   "metadata": {
    "hidden": true
   },
   "outputs": [
    {
     "name": "stdout",
     "output_type": "stream",
     "text": [
      "+---+------------+--------------------+--------------------+\n",
      "| id|airport_code|        airport_city|        airport_name|\n",
      "+---+------------+--------------------+--------------------+\n",
      "|INL|         INL|International Fal...|Falls Internation...|\n",
      "|BUR|         BUR|         Burbank, CA|            Bob Hope|\n",
      "|IDA|         IDA|     Idaho Falls, ID|Idaho Falls Regional|\n",
      "|EUG|         EUG|          Eugene, OR|  Mahlon Sweet Field|\n",
      "|PVD|         PVD|      Providence, RI|Theodore Francis ...|\n",
      "|EAR|         EAR|         Kearney, NE|    Kearney Regional|\n",
      "|DCA|         DCA|      Washington, DC|Ronald Reagan Was...|\n",
      "|RDM|         RDM|    Bend/Redmond, OR|       Roberts Field|\n",
      "|EVV|         EVV|      Evansville, IN| Evansville Regional|\n",
      "|CWA|         CWA|         Mosinee, WI|   Central Wisconsin|\n",
      "|TYR|         TYR|           Tyler, TX|Tyler Pounds Regi...|\n",
      "|DIK|         DIK|       Dickinson, ND|Dickinson - Theod...|\n",
      "|GST|         GST|        Gustavus, AK|    Gustavus Airport|\n",
      "|TOL|         TOL|          Toledo, OH|      Toledo Express|\n",
      "|BUF|         BUF|         Buffalo, NY|Buffalo Niagara I...|\n",
      "|TLH|         TLH|     Tallahassee, FL|Tallahassee Inter...|\n",
      "|AUS|         AUS|          Austin, TX|Austin - Bergstro...|\n",
      "|MLI|         MLI|          Moline, IL|Quad City Interna...|\n",
      "|GCC|         GCC|        Gillette, WY|Gillette Campbell...|\n",
      "|ATW|         ATW|        Appleton, WI|Appleton Internat...|\n",
      "+---+------------+--------------------+--------------------+\n",
      "only showing top 20 rows\n",
      "\n"
     ]
    }
   ],
   "source": [
    "v.show()"
   ]
  },
  {
   "cell_type": "code",
   "execution_count": 21,
   "metadata": {
    "hidden": true,
    "slideshow": {
     "slide_type": "subslide"
    }
   },
   "outputs": [
    {
     "name": "stdout",
     "output_type": "stream",
     "text": [
      "== Physical Plan ==\n",
      "Scan ExistingRDD[src#318,dst#319,carrier_code#137,year#92]\n"
     ]
    }
   ],
   "source": [
    "e.explain()"
   ]
  },
  {
   "cell_type": "markdown",
   "metadata": {
    "hidden": true
   },
   "source": [
    "Create the GraphFrame object."
   ]
  },
  {
   "cell_type": "code",
   "execution_count": 22,
   "metadata": {
    "hidden": true,
    "slideshow": {
     "slide_type": "slide"
    }
   },
   "outputs": [],
   "source": [
    "g = GraphFrame(v, e)"
   ]
  },
  {
   "cell_type": "markdown",
   "metadata": {
    "hidden": true
   },
   "source": [
    "Once instantiated, you can access the underlying vertex and edge DataFrames easily:"
   ]
  },
  {
   "cell_type": "code",
   "execution_count": 23,
   "metadata": {
    "hidden": true,
    "slideshow": {
     "slide_type": "slide"
    }
   },
   "outputs": [
    {
     "data": {
      "text/html": [
       "<div>\n",
       "<style scoped>\n",
       "    .dataframe tbody tr th:only-of-type {\n",
       "        vertical-align: middle;\n",
       "    }\n",
       "\n",
       "    .dataframe tbody tr th {\n",
       "        vertical-align: top;\n",
       "    }\n",
       "\n",
       "    .dataframe thead th {\n",
       "        text-align: right;\n",
       "    }\n",
       "</style>\n",
       "<table border=\"1\" class=\"dataframe\">\n",
       "  <thead>\n",
       "    <tr style=\"text-align: right;\">\n",
       "      <th></th>\n",
       "      <th>id</th>\n",
       "      <th>airport_code</th>\n",
       "      <th>airport_city</th>\n",
       "      <th>airport_name</th>\n",
       "    </tr>\n",
       "  </thead>\n",
       "  <tbody>\n",
       "    <tr>\n",
       "      <td>0</td>\n",
       "      <td>INL</td>\n",
       "      <td>INL</td>\n",
       "      <td>International Falls, MN</td>\n",
       "      <td>Falls International Einarson Field</td>\n",
       "    </tr>\n",
       "    <tr>\n",
       "      <td>1</td>\n",
       "      <td>BUR</td>\n",
       "      <td>BUR</td>\n",
       "      <td>Burbank, CA</td>\n",
       "      <td>Bob Hope</td>\n",
       "    </tr>\n",
       "    <tr>\n",
       "      <td>2</td>\n",
       "      <td>IDA</td>\n",
       "      <td>IDA</td>\n",
       "      <td>Idaho Falls, ID</td>\n",
       "      <td>Idaho Falls Regional</td>\n",
       "    </tr>\n",
       "    <tr>\n",
       "      <td>3</td>\n",
       "      <td>EUG</td>\n",
       "      <td>EUG</td>\n",
       "      <td>Eugene, OR</td>\n",
       "      <td>Mahlon Sweet Field</td>\n",
       "    </tr>\n",
       "    <tr>\n",
       "      <td>4</td>\n",
       "      <td>PVD</td>\n",
       "      <td>PVD</td>\n",
       "      <td>Providence, RI</td>\n",
       "      <td>Theodore Francis Green State</td>\n",
       "    </tr>\n",
       "  </tbody>\n",
       "</table>\n",
       "</div>"
      ],
      "text/plain": [
       "    id airport_code             airport_city  \\\n",
       "0  INL          INL  International Falls, MN   \n",
       "1  BUR          BUR              Burbank, CA   \n",
       "2  IDA          IDA          Idaho Falls, ID   \n",
       "3  EUG          EUG               Eugene, OR   \n",
       "4  PVD          PVD           Providence, RI   \n",
       "\n",
       "                         airport_name  \n",
       "0  Falls International Einarson Field  \n",
       "1                            Bob Hope  \n",
       "2                Idaho Falls Regional  \n",
       "3                  Mahlon Sweet Field  \n",
       "4        Theodore Francis Green State  "
      ]
     },
     "execution_count": 23,
     "metadata": {},
     "output_type": "execute_result"
    }
   ],
   "source": [
    "g.vertices.limit(5).toPandas()"
   ]
  },
  {
   "cell_type": "code",
   "execution_count": 24,
   "metadata": {
    "hidden": true,
    "slideshow": {
     "slide_type": "slide"
    }
   },
   "outputs": [
    {
     "data": {
      "text/html": [
       "<div>\n",
       "<style scoped>\n",
       "    .dataframe tbody tr th:only-of-type {\n",
       "        vertical-align: middle;\n",
       "    }\n",
       "\n",
       "    .dataframe tbody tr th {\n",
       "        vertical-align: top;\n",
       "    }\n",
       "\n",
       "    .dataframe thead th {\n",
       "        text-align: right;\n",
       "    }\n",
       "</style>\n",
       "<table border=\"1\" class=\"dataframe\">\n",
       "  <thead>\n",
       "    <tr style=\"text-align: right;\">\n",
       "      <th></th>\n",
       "      <th>src</th>\n",
       "      <th>dst</th>\n",
       "      <th>carrier_code</th>\n",
       "      <th>year</th>\n",
       "    </tr>\n",
       "  </thead>\n",
       "  <tbody>\n",
       "    <tr>\n",
       "      <td>0</td>\n",
       "      <td>JFK</td>\n",
       "      <td>LAX</td>\n",
       "      <td>AA</td>\n",
       "      <td>2016</td>\n",
       "    </tr>\n",
       "    <tr>\n",
       "      <td>1</td>\n",
       "      <td>LAX</td>\n",
       "      <td>JFK</td>\n",
       "      <td>AA</td>\n",
       "      <td>2016</td>\n",
       "    </tr>\n",
       "    <tr>\n",
       "      <td>2</td>\n",
       "      <td>JFK</td>\n",
       "      <td>LAX</td>\n",
       "      <td>AA</td>\n",
       "      <td>2016</td>\n",
       "    </tr>\n",
       "    <tr>\n",
       "      <td>3</td>\n",
       "      <td>DFW</td>\n",
       "      <td>HNL</td>\n",
       "      <td>AA</td>\n",
       "      <td>2016</td>\n",
       "    </tr>\n",
       "    <tr>\n",
       "      <td>4</td>\n",
       "      <td>OKC</td>\n",
       "      <td>DFW</td>\n",
       "      <td>AA</td>\n",
       "      <td>2016</td>\n",
       "    </tr>\n",
       "  </tbody>\n",
       "</table>\n",
       "</div>"
      ],
      "text/plain": [
       "   src  dst carrier_code  year\n",
       "0  JFK  LAX           AA  2016\n",
       "1  LAX  JFK           AA  2016\n",
       "2  JFK  LAX           AA  2016\n",
       "3  DFW  HNL           AA  2016\n",
       "4  OKC  DFW           AA  2016"
      ]
     },
     "execution_count": 24,
     "metadata": {},
     "output_type": "execute_result"
    }
   ],
   "source": [
    "g.edges.limit(5).toPandas()"
   ]
  },
  {
   "cell_type": "markdown",
   "metadata": {
    "hidden": true
   },
   "source": [
    "The way we've set up our graph data:\n",
    "* vertices represent airports\n",
    "* edges represent flights between airports\n",
    "\n",
    "Note also that we can have an arbitrary set of additional columns in both the vertex and edge DataFrames."
   ]
  },
  {
   "cell_type": "markdown",
   "metadata": {
    "heading_collapsed": true,
    "slideshow": {
     "slide_type": "slide"
    }
   },
   "source": [
    "### InDegrees/OutDegrees"
   ]
  },
  {
   "cell_type": "markdown",
   "metadata": {
    "hidden": true
   },
   "source": [
    "Each edge in our graph has a direction - a flight (edge) departs from one airport (node) and arrives at another airport (node). A simple way of summarizing this edge directionality is by examining in-degrees and out-degrees of each node."
   ]
  },
  {
   "cell_type": "code",
   "execution_count": 25,
   "metadata": {
    "hidden": true,
    "slideshow": {
     "slide_type": "subslide"
    }
   },
   "outputs": [
    {
     "name": "stdout",
     "output_type": "stream",
     "text": [
      "CPU times: user 10.5 ms, sys: 343 µs, total: 10.9 ms\n",
      "Wall time: 3.3 s\n"
     ]
    },
    {
     "data": {
      "text/html": [
       "<div>\n",
       "<style scoped>\n",
       "    .dataframe tbody tr th:only-of-type {\n",
       "        vertical-align: middle;\n",
       "    }\n",
       "\n",
       "    .dataframe tbody tr th {\n",
       "        vertical-align: top;\n",
       "    }\n",
       "\n",
       "    .dataframe thead th {\n",
       "        text-align: right;\n",
       "    }\n",
       "</style>\n",
       "<table border=\"1\" class=\"dataframe\">\n",
       "  <thead>\n",
       "    <tr style=\"text-align: right;\">\n",
       "      <th></th>\n",
       "      <th>airport_name</th>\n",
       "      <th>id</th>\n",
       "      <th>inDegree</th>\n",
       "    </tr>\n",
       "  </thead>\n",
       "  <tbody>\n",
       "    <tr>\n",
       "      <td>0</td>\n",
       "      <td>Hartsfield-Jackson Atlanta International</td>\n",
       "      <td>ATL</td>\n",
       "      <td>2516381</td>\n",
       "    </tr>\n",
       "    <tr>\n",
       "      <td>1</td>\n",
       "      <td>Chicago O'Hare International</td>\n",
       "      <td>ORD</td>\n",
       "      <td>1943630</td>\n",
       "    </tr>\n",
       "    <tr>\n",
       "      <td>2</td>\n",
       "      <td>Dallas/Fort Worth International</td>\n",
       "      <td>DFW</td>\n",
       "      <td>1655584</td>\n",
       "    </tr>\n",
       "    <tr>\n",
       "      <td>3</td>\n",
       "      <td>Denver International</td>\n",
       "      <td>DEN</td>\n",
       "      <td>1491885</td>\n",
       "    </tr>\n",
       "    <tr>\n",
       "      <td>4</td>\n",
       "      <td>Los Angeles International</td>\n",
       "      <td>LAX</td>\n",
       "      <td>1435820</td>\n",
       "    </tr>\n",
       "  </tbody>\n",
       "</table>\n",
       "</div>"
      ],
      "text/plain": [
       "                               airport_name   id  inDegree\n",
       "0  Hartsfield-Jackson Atlanta International  ATL   2516381\n",
       "1              Chicago O'Hare International  ORD   1943630\n",
       "2           Dallas/Fort Worth International  DFW   1655584\n",
       "3                      Denver International  DEN   1491885\n",
       "4                 Los Angeles International  LAX   1435820"
      ]
     },
     "execution_count": 25,
     "metadata": {},
     "output_type": "execute_result"
    }
   ],
   "source": [
    "%%time\n",
    "g.inDegrees \\\n",
    "    .join(F.broadcast(airport_codes), g.inDegrees.id==airport_codes[AIRPORT_CODE], how='inner') \\\n",
    "    .select('airport_name', 'id', 'inDegree') \\\n",
    "    .orderBy(F.desc('inDegree')) \\\n",
    "    .limit(5).toPandas()"
   ]
  },
  {
   "cell_type": "code",
   "execution_count": 26,
   "metadata": {
    "hidden": true,
    "slideshow": {
     "slide_type": "subslide"
    }
   },
   "outputs": [
    {
     "name": "stdout",
     "output_type": "stream",
     "text": [
      "CPU times: user 11.8 ms, sys: 1.61 ms, total: 13.4 ms\n",
      "Wall time: 2.58 s\n"
     ]
    },
    {
     "data": {
      "text/html": [
       "<div>\n",
       "<style scoped>\n",
       "    .dataframe tbody tr th:only-of-type {\n",
       "        vertical-align: middle;\n",
       "    }\n",
       "\n",
       "    .dataframe tbody tr th {\n",
       "        vertical-align: top;\n",
       "    }\n",
       "\n",
       "    .dataframe thead th {\n",
       "        text-align: right;\n",
       "    }\n",
       "</style>\n",
       "<table border=\"1\" class=\"dataframe\">\n",
       "  <thead>\n",
       "    <tr style=\"text-align: right;\">\n",
       "      <th></th>\n",
       "      <th>airport_name</th>\n",
       "      <th>id</th>\n",
       "      <th>inDegree</th>\n",
       "    </tr>\n",
       "  </thead>\n",
       "  <tbody>\n",
       "    <tr>\n",
       "      <td>0</td>\n",
       "      <td>Northern Colorado Regional</td>\n",
       "      <td>FNL</td>\n",
       "      <td>1</td>\n",
       "    </tr>\n",
       "    <tr>\n",
       "      <td>1</td>\n",
       "      <td>Youngstown-Warren Regional</td>\n",
       "      <td>YNG</td>\n",
       "      <td>2</td>\n",
       "    </tr>\n",
       "    <tr>\n",
       "      <td>2</td>\n",
       "      <td>Mobile Downtown</td>\n",
       "      <td>BFM</td>\n",
       "      <td>66</td>\n",
       "    </tr>\n",
       "    <tr>\n",
       "      <td>3</td>\n",
       "      <td>Florence Regional</td>\n",
       "      <td>FLO</td>\n",
       "      <td>170</td>\n",
       "    </tr>\n",
       "    <tr>\n",
       "      <td>4</td>\n",
       "      <td>Owensboro Daviess County Regional</td>\n",
       "      <td>OWB</td>\n",
       "      <td>182</td>\n",
       "    </tr>\n",
       "  </tbody>\n",
       "</table>\n",
       "</div>"
      ],
      "text/plain": [
       "                        airport_name   id  inDegree\n",
       "0         Northern Colorado Regional  FNL         1\n",
       "1         Youngstown-Warren Regional  YNG         2\n",
       "2                    Mobile Downtown  BFM        66\n",
       "3                  Florence Regional  FLO       170\n",
       "4  Owensboro Daviess County Regional  OWB       182"
      ]
     },
     "execution_count": 26,
     "metadata": {},
     "output_type": "execute_result"
    }
   ],
   "source": [
    "%%time\n",
    "g.inDegrees \\\n",
    "    .join(F.broadcast(airport_codes), g.inDegrees.id==airport_codes[AIRPORT_CODE], how='inner') \\\n",
    "    .select('airport_name', 'id', 'inDegree') \\\n",
    "    .orderBy('inDegree') \\\n",
    "    .limit(5).toPandas()"
   ]
  },
  {
   "cell_type": "code",
   "execution_count": 27,
   "metadata": {
    "hidden": true,
    "slideshow": {
     "slide_type": "subslide"
    }
   },
   "outputs": [
    {
     "name": "stdout",
     "output_type": "stream",
     "text": [
      "CPU times: user 9.17 ms, sys: 200 µs, total: 9.37 ms\n",
      "Wall time: 2.37 s\n"
     ]
    },
    {
     "data": {
      "text/html": [
       "<div>\n",
       "<style scoped>\n",
       "    .dataframe tbody tr th:only-of-type {\n",
       "        vertical-align: middle;\n",
       "    }\n",
       "\n",
       "    .dataframe tbody tr th {\n",
       "        vertical-align: top;\n",
       "    }\n",
       "\n",
       "    .dataframe thead th {\n",
       "        text-align: right;\n",
       "    }\n",
       "</style>\n",
       "<table border=\"1\" class=\"dataframe\">\n",
       "  <thead>\n",
       "    <tr style=\"text-align: right;\">\n",
       "      <th></th>\n",
       "      <th>airport_name</th>\n",
       "      <th>id</th>\n",
       "      <th>outDegree</th>\n",
       "    </tr>\n",
       "  </thead>\n",
       "  <tbody>\n",
       "    <tr>\n",
       "      <td>0</td>\n",
       "      <td>Hartsfield-Jackson Atlanta International</td>\n",
       "      <td>ATL</td>\n",
       "      <td>2516428</td>\n",
       "    </tr>\n",
       "    <tr>\n",
       "      <td>1</td>\n",
       "      <td>Chicago O'Hare International</td>\n",
       "      <td>ORD</td>\n",
       "      <td>1943471</td>\n",
       "    </tr>\n",
       "    <tr>\n",
       "      <td>2</td>\n",
       "      <td>Dallas/Fort Worth International</td>\n",
       "      <td>DFW</td>\n",
       "      <td>1655579</td>\n",
       "    </tr>\n",
       "    <tr>\n",
       "      <td>3</td>\n",
       "      <td>Denver International</td>\n",
       "      <td>DEN</td>\n",
       "      <td>1491960</td>\n",
       "    </tr>\n",
       "    <tr>\n",
       "      <td>4</td>\n",
       "      <td>Los Angeles International</td>\n",
       "      <td>LAX</td>\n",
       "      <td>1435746</td>\n",
       "    </tr>\n",
       "  </tbody>\n",
       "</table>\n",
       "</div>"
      ],
      "text/plain": [
       "                               airport_name   id  outDegree\n",
       "0  Hartsfield-Jackson Atlanta International  ATL    2516428\n",
       "1              Chicago O'Hare International  ORD    1943471\n",
       "2           Dallas/Fort Worth International  DFW    1655579\n",
       "3                      Denver International  DEN    1491960\n",
       "4                 Los Angeles International  LAX    1435746"
      ]
     },
     "execution_count": 27,
     "metadata": {},
     "output_type": "execute_result"
    }
   ],
   "source": [
    "%%time\n",
    "g.outDegrees \\\n",
    "    .join(F.broadcast(airport_codes), g.outDegrees.id==airport_codes[AIRPORT_CODE], how='inner') \\\n",
    "    .select('airport_name', 'id', 'outDegree') \\\n",
    "    .orderBy(F.desc('outDegree')) \\\n",
    "    .limit(5).toPandas()"
   ]
  },
  {
   "cell_type": "code",
   "execution_count": 28,
   "metadata": {
    "hidden": true,
    "slideshow": {
     "slide_type": "subslide"
    }
   },
   "outputs": [
    {
     "name": "stdout",
     "output_type": "stream",
     "text": [
      "CPU times: user 9.91 ms, sys: 354 µs, total: 10.3 ms\n",
      "Wall time: 2.12 s\n"
     ]
    },
    {
     "data": {
      "text/html": [
       "<div>\n",
       "<style scoped>\n",
       "    .dataframe tbody tr th:only-of-type {\n",
       "        vertical-align: middle;\n",
       "    }\n",
       "\n",
       "    .dataframe tbody tr th {\n",
       "        vertical-align: top;\n",
       "    }\n",
       "\n",
       "    .dataframe thead th {\n",
       "        text-align: right;\n",
       "    }\n",
       "</style>\n",
       "<table border=\"1\" class=\"dataframe\">\n",
       "  <thead>\n",
       "    <tr style=\"text-align: right;\">\n",
       "      <th></th>\n",
       "      <th>airport_name</th>\n",
       "      <th>id</th>\n",
       "      <th>outDegree</th>\n",
       "    </tr>\n",
       "  </thead>\n",
       "  <tbody>\n",
       "    <tr>\n",
       "      <td>0</td>\n",
       "      <td>Wendover Airport</td>\n",
       "      <td>ENV</td>\n",
       "      <td>1</td>\n",
       "    </tr>\n",
       "    <tr>\n",
       "      <td>1</td>\n",
       "      <td>Tokeen Airport</td>\n",
       "      <td>TKI</td>\n",
       "      <td>1</td>\n",
       "    </tr>\n",
       "    <tr>\n",
       "      <td>2</td>\n",
       "      <td>Ellington</td>\n",
       "      <td>EFD</td>\n",
       "      <td>1</td>\n",
       "    </tr>\n",
       "    <tr>\n",
       "      <td>3</td>\n",
       "      <td>Middle Georgia Regional</td>\n",
       "      <td>MCN</td>\n",
       "      <td>2</td>\n",
       "    </tr>\n",
       "    <tr>\n",
       "      <td>4</td>\n",
       "      <td>Youngstown-Warren Regional</td>\n",
       "      <td>YNG</td>\n",
       "      <td>2</td>\n",
       "    </tr>\n",
       "  </tbody>\n",
       "</table>\n",
       "</div>"
      ],
      "text/plain": [
       "                 airport_name   id  outDegree\n",
       "0            Wendover Airport  ENV          1\n",
       "1              Tokeen Airport  TKI          1\n",
       "2                   Ellington  EFD          1\n",
       "3     Middle Georgia Regional  MCN          2\n",
       "4  Youngstown-Warren Regional  YNG          2"
      ]
     },
     "execution_count": 28,
     "metadata": {},
     "output_type": "execute_result"
    }
   ],
   "source": [
    "%%time\n",
    "g.outDegrees \\\n",
    "    .join(F.broadcast(airport_codes), g.outDegrees.id==airport_codes[AIRPORT_CODE], how='inner') \\\n",
    "    .select('airport_name', 'id', 'outDegree') \\\n",
    "    .orderBy('outDegree') \\\n",
    "    .limit(5).toPandas()"
   ]
  },
  {
   "cell_type": "markdown",
   "metadata": {
    "heading_collapsed": true
   },
   "source": [
    "### Motif-Finding"
   ]
  },
  {
   "cell_type": "markdown",
   "metadata": {
    "hidden": true
   },
   "source": [
    "Motifs are simply structural patterns in a graph. GraphFrame motif finding uses a simple Domain-Specific Language (DSL) for expressing structural queries.\n",
    "\n",
    "For example, `graph.find(\"(a)-[e]->(b); (b)-[e2]->(a)\")` will search for pairs of vertices `a`,`b` connected by edges in both directions."
   ]
  },
  {
   "cell_type": "markdown",
   "metadata": {
    "hidden": true
   },
   "source": [
    "See the GraphFrames [user guide](https://graphframes.github.io/graphframes/docs/_site/user-guide.html#motif-finding) for more details on the DSL."
   ]
  },
  {
   "cell_type": "code",
   "execution_count": 29,
   "metadata": {
    "hidden": true
   },
   "outputs": [
    {
     "name": "stdout",
     "output_type": "stream",
     "text": [
      "CPU times: user 8.69 ms, sys: 588 µs, total: 9.28 ms\n",
      "Wall time: 9.83 s\n"
     ]
    },
    {
     "data": {
      "text/html": [
       "<div>\n",
       "<style scoped>\n",
       "    .dataframe tbody tr th:only-of-type {\n",
       "        vertical-align: middle;\n",
       "    }\n",
       "\n",
       "    .dataframe tbody tr th {\n",
       "        vertical-align: top;\n",
       "    }\n",
       "\n",
       "    .dataframe thead th {\n",
       "        text-align: right;\n",
       "    }\n",
       "</style>\n",
       "<table border=\"1\" class=\"dataframe\">\n",
       "  <thead>\n",
       "    <tr style=\"text-align: right;\">\n",
       "      <th></th>\n",
       "      <th>a</th>\n",
       "      <th>e</th>\n",
       "      <th>b</th>\n",
       "      <th>e2</th>\n",
       "    </tr>\n",
       "  </thead>\n",
       "  <tbody>\n",
       "    <tr>\n",
       "      <td>0</td>\n",
       "      <td>(SJU, SJU, San Juan, PR, Luis Munoz Marin Inte...</td>\n",
       "      <td>(SJU, CLE, UA, 2016)</td>\n",
       "      <td>(CLE, CLE, Cleveland, OH, Cleveland-Hopkins In...</td>\n",
       "      <td>(CLE, SJU, UA, 2016)</td>\n",
       "    </tr>\n",
       "    <tr>\n",
       "      <td>1</td>\n",
       "      <td>(SJU, SJU, San Juan, PR, Luis Munoz Marin Inte...</td>\n",
       "      <td>(SJU, CLE, UA, 2016)</td>\n",
       "      <td>(CLE, CLE, Cleveland, OH, Cleveland-Hopkins In...</td>\n",
       "      <td>(CLE, SJU, UA, 2016)</td>\n",
       "    </tr>\n",
       "    <tr>\n",
       "      <td>2</td>\n",
       "      <td>(SJU, SJU, San Juan, PR, Luis Munoz Marin Inte...</td>\n",
       "      <td>(SJU, CLE, UA, 2016)</td>\n",
       "      <td>(CLE, CLE, Cleveland, OH, Cleveland-Hopkins In...</td>\n",
       "      <td>(CLE, SJU, UA, 2016)</td>\n",
       "    </tr>\n",
       "    <tr>\n",
       "      <td>3</td>\n",
       "      <td>(SJU, SJU, San Juan, PR, Luis Munoz Marin Inte...</td>\n",
       "      <td>(SJU, CLE, UA, 2016)</td>\n",
       "      <td>(CLE, CLE, Cleveland, OH, Cleveland-Hopkins In...</td>\n",
       "      <td>(CLE, SJU, UA, 2015)</td>\n",
       "    </tr>\n",
       "    <tr>\n",
       "      <td>4</td>\n",
       "      <td>(SJU, SJU, San Juan, PR, Luis Munoz Marin Inte...</td>\n",
       "      <td>(SJU, CLE, UA, 2016)</td>\n",
       "      <td>(CLE, CLE, Cleveland, OH, Cleveland-Hopkins In...</td>\n",
       "      <td>(CLE, SJU, UA, 2015)</td>\n",
       "    </tr>\n",
       "    <tr>\n",
       "      <td>5</td>\n",
       "      <td>(SJU, SJU, San Juan, PR, Luis Munoz Marin Inte...</td>\n",
       "      <td>(SJU, CLE, UA, 2016)</td>\n",
       "      <td>(CLE, CLE, Cleveland, OH, Cleveland-Hopkins In...</td>\n",
       "      <td>(CLE, SJU, UA, 2015)</td>\n",
       "    </tr>\n",
       "    <tr>\n",
       "      <td>6</td>\n",
       "      <td>(SJU, SJU, San Juan, PR, Luis Munoz Marin Inte...</td>\n",
       "      <td>(SJU, CLE, UA, 2016)</td>\n",
       "      <td>(CLE, CLE, Cleveland, OH, Cleveland-Hopkins In...</td>\n",
       "      <td>(CLE, SJU, UA, 2015)</td>\n",
       "    </tr>\n",
       "    <tr>\n",
       "      <td>7</td>\n",
       "      <td>(SJU, SJU, San Juan, PR, Luis Munoz Marin Inte...</td>\n",
       "      <td>(SJU, CLE, UA, 2016)</td>\n",
       "      <td>(CLE, CLE, Cleveland, OH, Cleveland-Hopkins In...</td>\n",
       "      <td>(CLE, SJU, UA, 2013)</td>\n",
       "    </tr>\n",
       "    <tr>\n",
       "      <td>8</td>\n",
       "      <td>(SJU, SJU, San Juan, PR, Luis Munoz Marin Inte...</td>\n",
       "      <td>(SJU, CLE, UA, 2016)</td>\n",
       "      <td>(CLE, CLE, Cleveland, OH, Cleveland-Hopkins In...</td>\n",
       "      <td>(CLE, SJU, UA, 2014)</td>\n",
       "    </tr>\n",
       "    <tr>\n",
       "      <td>9</td>\n",
       "      <td>(SJU, SJU, San Juan, PR, Luis Munoz Marin Inte...</td>\n",
       "      <td>(SJU, CLE, UA, 2016)</td>\n",
       "      <td>(CLE, CLE, Cleveland, OH, Cleveland-Hopkins In...</td>\n",
       "      <td>(CLE, SJU, UA, 2014)</td>\n",
       "    </tr>\n",
       "  </tbody>\n",
       "</table>\n",
       "</div>"
      ],
      "text/plain": [
       "                                                   a                     e  \\\n",
       "0  (SJU, SJU, San Juan, PR, Luis Munoz Marin Inte...  (SJU, CLE, UA, 2016)   \n",
       "1  (SJU, SJU, San Juan, PR, Luis Munoz Marin Inte...  (SJU, CLE, UA, 2016)   \n",
       "2  (SJU, SJU, San Juan, PR, Luis Munoz Marin Inte...  (SJU, CLE, UA, 2016)   \n",
       "3  (SJU, SJU, San Juan, PR, Luis Munoz Marin Inte...  (SJU, CLE, UA, 2016)   \n",
       "4  (SJU, SJU, San Juan, PR, Luis Munoz Marin Inte...  (SJU, CLE, UA, 2016)   \n",
       "5  (SJU, SJU, San Juan, PR, Luis Munoz Marin Inte...  (SJU, CLE, UA, 2016)   \n",
       "6  (SJU, SJU, San Juan, PR, Luis Munoz Marin Inte...  (SJU, CLE, UA, 2016)   \n",
       "7  (SJU, SJU, San Juan, PR, Luis Munoz Marin Inte...  (SJU, CLE, UA, 2016)   \n",
       "8  (SJU, SJU, San Juan, PR, Luis Munoz Marin Inte...  (SJU, CLE, UA, 2016)   \n",
       "9  (SJU, SJU, San Juan, PR, Luis Munoz Marin Inte...  (SJU, CLE, UA, 2016)   \n",
       "\n",
       "                                                   b                    e2  \n",
       "0  (CLE, CLE, Cleveland, OH, Cleveland-Hopkins In...  (CLE, SJU, UA, 2016)  \n",
       "1  (CLE, CLE, Cleveland, OH, Cleveland-Hopkins In...  (CLE, SJU, UA, 2016)  \n",
       "2  (CLE, CLE, Cleveland, OH, Cleveland-Hopkins In...  (CLE, SJU, UA, 2016)  \n",
       "3  (CLE, CLE, Cleveland, OH, Cleveland-Hopkins In...  (CLE, SJU, UA, 2015)  \n",
       "4  (CLE, CLE, Cleveland, OH, Cleveland-Hopkins In...  (CLE, SJU, UA, 2015)  \n",
       "5  (CLE, CLE, Cleveland, OH, Cleveland-Hopkins In...  (CLE, SJU, UA, 2015)  \n",
       "6  (CLE, CLE, Cleveland, OH, Cleveland-Hopkins In...  (CLE, SJU, UA, 2015)  \n",
       "7  (CLE, CLE, Cleveland, OH, Cleveland-Hopkins In...  (CLE, SJU, UA, 2013)  \n",
       "8  (CLE, CLE, Cleveland, OH, Cleveland-Hopkins In...  (CLE, SJU, UA, 2014)  \n",
       "9  (CLE, CLE, Cleveland, OH, Cleveland-Hopkins In...  (CLE, SJU, UA, 2014)  "
      ]
     },
     "execution_count": 29,
     "metadata": {},
     "output_type": "execute_result"
    }
   ],
   "source": [
    "%%time\n",
    "motifs = g.find(\"(a)-[e]->(b); (b)-[e2]->(a)\")\n",
    "motifs.limit(10).toPandas()"
   ]
  },
  {
   "cell_type": "markdown",
   "metadata": {
    "heading_collapsed": true,
    "slideshow": {
     "slide_type": "slide"
    }
   },
   "source": [
    "### SubGraphs"
   ]
  },
  {
   "cell_type": "markdown",
   "metadata": {
    "hidden": true,
    "slideshow": {
     "slide_type": "subslide"
    }
   },
   "source": [
    "It is very easy to look create and examine subgraphs using GraphFrames. Since we're working with DataFrames, it's as easy as applying record filters to our data.\n",
    "\n",
    "Our data has flight data for all carriers who conducted domestic flights. Suppose we were only interested in examining the flight data of American Airlines."
   ]
  },
  {
   "cell_type": "code",
   "execution_count": 30,
   "metadata": {
    "hidden": true,
    "slideshow": {
     "slide_type": "-"
    }
   },
   "outputs": [],
   "source": [
    "gAA = g.filterEdges(\"{} = 'AA'\".format(CARRIER_CODE))"
   ]
  },
  {
   "cell_type": "markdown",
   "metadata": {
    "hidden": true,
    "slideshow": {
     "slide_type": "subslide"
    }
   },
   "source": [
    "What are the most common airports that American Airlines flights fly into?"
   ]
  },
  {
   "cell_type": "code",
   "execution_count": 31,
   "metadata": {
    "hidden": true,
    "slideshow": {
     "slide_type": "subslide"
    }
   },
   "outputs": [
    {
     "name": "stdout",
     "output_type": "stream",
     "text": [
      "CPU times: user 15 ms, sys: 922 µs, total: 16 ms\n",
      "Wall time: 5.73 s\n"
     ]
    },
    {
     "data": {
      "text/html": [
       "<div>\n",
       "<style scoped>\n",
       "    .dataframe tbody tr th:only-of-type {\n",
       "        vertical-align: middle;\n",
       "    }\n",
       "\n",
       "    .dataframe tbody tr th {\n",
       "        vertical-align: top;\n",
       "    }\n",
       "\n",
       "    .dataframe thead th {\n",
       "        text-align: right;\n",
       "    }\n",
       "</style>\n",
       "<table border=\"1\" class=\"dataframe\">\n",
       "  <thead>\n",
       "    <tr style=\"text-align: right;\">\n",
       "      <th></th>\n",
       "      <th>airport_name</th>\n",
       "      <th>id</th>\n",
       "      <th>inDegree</th>\n",
       "      <th>pct</th>\n",
       "    </tr>\n",
       "  </thead>\n",
       "  <tbody>\n",
       "    <tr>\n",
       "      <td>0</td>\n",
       "      <td>Dallas/Fort Worth International</td>\n",
       "      <td>DFW</td>\n",
       "      <td>970394</td>\n",
       "      <td>0.191194</td>\n",
       "    </tr>\n",
       "    <tr>\n",
       "      <td>1</td>\n",
       "      <td>Charlotte Douglas International</td>\n",
       "      <td>CLT</td>\n",
       "      <td>401740</td>\n",
       "      <td>0.079154</td>\n",
       "    </tr>\n",
       "    <tr>\n",
       "      <td>2</td>\n",
       "      <td>Chicago O'Hare International</td>\n",
       "      <td>ORD</td>\n",
       "      <td>383872</td>\n",
       "      <td>0.075633</td>\n",
       "    </tr>\n",
       "    <tr>\n",
       "      <td>3</td>\n",
       "      <td>Miami International</td>\n",
       "      <td>MIA</td>\n",
       "      <td>334461</td>\n",
       "      <td>0.065898</td>\n",
       "    </tr>\n",
       "    <tr>\n",
       "      <td>4</td>\n",
       "      <td>Phoenix Sky Harbor International</td>\n",
       "      <td>PHX</td>\n",
       "      <td>249304</td>\n",
       "      <td>0.049120</td>\n",
       "    </tr>\n",
       "  </tbody>\n",
       "</table>\n",
       "</div>"
      ],
      "text/plain": [
       "                       airport_name   id  inDegree       pct\n",
       "0   Dallas/Fort Worth International  DFW    970394  0.191194\n",
       "1   Charlotte Douglas International  CLT    401740  0.079154\n",
       "2      Chicago O'Hare International  ORD    383872  0.075633\n",
       "3               Miami International  MIA    334461  0.065898\n",
       "4  Phoenix Sky Harbor International  PHX    249304  0.049120"
      ]
     },
     "execution_count": 31,
     "metadata": {},
     "output_type": "execute_result"
    }
   ],
   "source": [
    "%%time\n",
    "gAA_inD_all = gAA.inDegrees \\\n",
    "    .join(F.broadcast(airport_codes), gAA.inDegrees.id==airport_codes[AIRPORT_CODE], how='inner') \\\n",
    "    .select('airport_name', 'id', 'inDegree')\n",
    "\n",
    "inflightsum = gAA_inD_all.groupBy().sum('InDegree').collect()[0][0]\n",
    "\n",
    "gAA_inD_all.withColumn('pct', F.col('inDegree') / inflightsum) \\\n",
    "    .orderBy(F.desc('inDegree')) \\\n",
    "    .limit(5).toPandas()"
   ]
  },
  {
   "cell_type": "markdown",
   "metadata": {
    "hidden": true,
    "slideshow": {
     "slide_type": "subslide"
    }
   },
   "source": [
    "What are the most common airports that American Airlines flights fly into in 2019?"
   ]
  },
  {
   "cell_type": "code",
   "execution_count": 32,
   "metadata": {
    "hidden": true,
    "slideshow": {
     "slide_type": "subslide"
    }
   },
   "outputs": [
    {
     "name": "stdout",
     "output_type": "stream",
     "text": [
      "CPU times: user 20.9 ms, sys: 65 µs, total: 21 ms\n",
      "Wall time: 5.92 s\n"
     ]
    },
    {
     "data": {
      "text/html": [
       "<div>\n",
       "<style scoped>\n",
       "    .dataframe tbody tr th:only-of-type {\n",
       "        vertical-align: middle;\n",
       "    }\n",
       "\n",
       "    .dataframe tbody tr th {\n",
       "        vertical-align: top;\n",
       "    }\n",
       "\n",
       "    .dataframe thead th {\n",
       "        text-align: right;\n",
       "    }\n",
       "</style>\n",
       "<table border=\"1\" class=\"dataframe\">\n",
       "  <thead>\n",
       "    <tr style=\"text-align: right;\">\n",
       "      <th></th>\n",
       "      <th>airport_name</th>\n",
       "      <th>id</th>\n",
       "      <th>inDegree</th>\n",
       "      <th>pct</th>\n",
       "    </tr>\n",
       "  </thead>\n",
       "  <tbody>\n",
       "    <tr>\n",
       "      <td>0</td>\n",
       "      <td>Dallas/Fort Worth International</td>\n",
       "      <td>DFW</td>\n",
       "      <td>88246</td>\n",
       "      <td>0.160908</td>\n",
       "    </tr>\n",
       "    <tr>\n",
       "      <td>1</td>\n",
       "      <td>Charlotte Douglas International</td>\n",
       "      <td>CLT</td>\n",
       "      <td>57245</td>\n",
       "      <td>0.104381</td>\n",
       "    </tr>\n",
       "    <tr>\n",
       "      <td>2</td>\n",
       "      <td>Chicago O'Hare International</td>\n",
       "      <td>ORD</td>\n",
       "      <td>38027</td>\n",
       "      <td>0.069339</td>\n",
       "    </tr>\n",
       "    <tr>\n",
       "      <td>3</td>\n",
       "      <td>Phoenix Sky Harbor International</td>\n",
       "      <td>PHX</td>\n",
       "      <td>33727</td>\n",
       "      <td>0.061498</td>\n",
       "    </tr>\n",
       "    <tr>\n",
       "      <td>4</td>\n",
       "      <td>Miami International</td>\n",
       "      <td>MIA</td>\n",
       "      <td>29660</td>\n",
       "      <td>0.054082</td>\n",
       "    </tr>\n",
       "  </tbody>\n",
       "</table>\n",
       "</div>"
      ],
      "text/plain": [
       "                       airport_name   id  inDegree       pct\n",
       "0   Dallas/Fort Worth International  DFW     88246  0.160908\n",
       "1   Charlotte Douglas International  CLT     57245  0.104381\n",
       "2      Chicago O'Hare International  ORD     38027  0.069339\n",
       "3  Phoenix Sky Harbor International  PHX     33727  0.061498\n",
       "4               Miami International  MIA     29660  0.054082"
      ]
     },
     "execution_count": 32,
     "metadata": {},
     "output_type": "execute_result"
    }
   ],
   "source": [
    "%%time\n",
    "gAA_2019 = gAA.filterEdges(\"year = '2019'\")\n",
    "\n",
    "gAA_inD_2019 = gAA_2019.inDegrees \\\n",
    "    .join(F.broadcast(airport_codes), gAA_2019.inDegrees.id==airport_codes[AIRPORT_CODE], how='inner') \\\n",
    "    .select('airport_name', 'id', 'inDegree')\n",
    "\n",
    "inflightsum_2019 = gAA_inD_2019.groupBy().sum('InDegree').collect()[0][0]\n",
    "\n",
    "gAA_inD_2019.withColumn('pct', F.col('inDegree') / inflightsum_2019) \\\n",
    "    .orderBy(F.desc('inDegree')) \\\n",
    "    .limit(5).toPandas()"
   ]
  },
  {
   "cell_type": "markdown",
   "metadata": {
    "heading_collapsed": true,
    "slideshow": {
     "slide_type": "slide"
    }
   },
   "source": [
    "### Algorithm Tour"
   ]
  },
  {
   "cell_type": "markdown",
   "metadata": {
    "heading_collapsed": true,
    "hidden": true,
    "slideshow": {
     "slide_type": "slide"
    }
   },
   "source": [
    "#### Breadth-First Search (BFS)"
   ]
  },
  {
   "cell_type": "code",
   "execution_count": 33,
   "metadata": {
    "hidden": true,
    "slideshow": {
     "slide_type": "subslide"
    }
   },
   "outputs": [
    {
     "name": "stdout",
     "output_type": "stream",
     "text": [
      "CPU times: user 7.36 ms, sys: 386 µs, total: 7.75 ms\n",
      "Wall time: 30.4 s\n"
     ]
    }
   ],
   "source": [
    "%%time\n",
    "g_bfs = g.filterEdges('year = 2019') \\\n",
    "    .bfs('id=\"PHL\"', 'id=\"HNL\"', maxPathLength=2)\n",
    "g_bfs = g_bfs.checkpoint()"
   ]
  },
  {
   "cell_type": "code",
   "execution_count": 34,
   "metadata": {
    "hidden": true,
    "slideshow": {
     "slide_type": "subslide"
    }
   },
   "outputs": [],
   "source": [
    "g_bfsd = g_bfs.distinct()\n",
    "g_bfsd = g_bfsd.checkpoint()"
   ]
  },
  {
   "cell_type": "code",
   "execution_count": 35,
   "metadata": {
    "hidden": true
   },
   "outputs": [
    {
     "data": {
      "text/html": [
       "<div>\n",
       "<style scoped>\n",
       "    .dataframe tbody tr th:only-of-type {\n",
       "        vertical-align: middle;\n",
       "    }\n",
       "\n",
       "    .dataframe tbody tr th {\n",
       "        vertical-align: top;\n",
       "    }\n",
       "\n",
       "    .dataframe thead th {\n",
       "        text-align: right;\n",
       "    }\n",
       "</style>\n",
       "<table border=\"1\" class=\"dataframe\">\n",
       "  <thead>\n",
       "    <tr style=\"text-align: right;\">\n",
       "      <th></th>\n",
       "      <th>from</th>\n",
       "      <th>e0</th>\n",
       "      <th>e1</th>\n",
       "      <th>to</th>\n",
       "    </tr>\n",
       "  </thead>\n",
       "  <tbody>\n",
       "    <tr>\n",
       "      <td>0</td>\n",
       "      <td>(PHL, PHL, Philadelphia, PA, Philadelphia Inte...</td>\n",
       "      <td>(PHL, ORD, EV, 2019)</td>\n",
       "      <td>(ORD, HNL, AA, 2019)</td>\n",
       "      <td>(HNL, HNL, Honolulu, HI, Daniel K Inouye Inter...</td>\n",
       "    </tr>\n",
       "    <tr>\n",
       "      <td>1</td>\n",
       "      <td>(PHL, PHL, Philadelphia, PA, Philadelphia Inte...</td>\n",
       "      <td>(PHL, SEA, AA, 2019)</td>\n",
       "      <td>(SEA, HNL, DL, 2019)</td>\n",
       "      <td>(HNL, HNL, Honolulu, HI, Daniel K Inouye Inter...</td>\n",
       "    </tr>\n",
       "    <tr>\n",
       "      <td>2</td>\n",
       "      <td>(PHL, PHL, Philadelphia, PA, Philadelphia Inte...</td>\n",
       "      <td>(PHL, LAX, AA, 2019)</td>\n",
       "      <td>(LAX, HNL, AA, 2019)</td>\n",
       "      <td>(HNL, HNL, Honolulu, HI, Daniel K Inouye Inter...</td>\n",
       "    </tr>\n",
       "    <tr>\n",
       "      <td>3</td>\n",
       "      <td>(PHL, PHL, Philadelphia, PA, Philadelphia Inte...</td>\n",
       "      <td>(PHL, LAX, NK, 2019)</td>\n",
       "      <td>(LAX, HNL, AS, 2019)</td>\n",
       "      <td>(HNL, HNL, Honolulu, HI, Daniel K Inouye Inter...</td>\n",
       "    </tr>\n",
       "    <tr>\n",
       "      <td>4</td>\n",
       "      <td>(PHL, PHL, Philadelphia, PA, Philadelphia Inte...</td>\n",
       "      <td>(PHL, DTW, OH, 2019)</td>\n",
       "      <td>(DTW, HNL, DL, 2019)</td>\n",
       "      <td>(HNL, HNL, Honolulu, HI, Daniel K Inouye Inter...</td>\n",
       "    </tr>\n",
       "    <tr>\n",
       "      <td>5</td>\n",
       "      <td>(PHL, PHL, Philadelphia, PA, Philadelphia Inte...</td>\n",
       "      <td>(PHL, DEN, AA, 2019)</td>\n",
       "      <td>(DEN, HNL, UA, 2019)</td>\n",
       "      <td>(HNL, HNL, Honolulu, HI, Daniel K Inouye Inter...</td>\n",
       "    </tr>\n",
       "    <tr>\n",
       "      <td>6</td>\n",
       "      <td>(PHL, PHL, Philadelphia, PA, Philadelphia Inte...</td>\n",
       "      <td>(PHL, DEN, F9, 2019)</td>\n",
       "      <td>(DEN, HNL, UA, 2019)</td>\n",
       "      <td>(HNL, HNL, Honolulu, HI, Daniel K Inouye Inter...</td>\n",
       "    </tr>\n",
       "    <tr>\n",
       "      <td>7</td>\n",
       "      <td>(PHL, PHL, Philadelphia, PA, Philadelphia Inte...</td>\n",
       "      <td>(PHL, ATL, AA, 2019)</td>\n",
       "      <td>(ATL, HNL, DL, 2019)</td>\n",
       "      <td>(HNL, HNL, Honolulu, HI, Daniel K Inouye Inter...</td>\n",
       "    </tr>\n",
       "    <tr>\n",
       "      <td>8</td>\n",
       "      <td>(PHL, PHL, Philadelphia, PA, Philadelphia Inte...</td>\n",
       "      <td>(PHL, ATL, F9, 2019)</td>\n",
       "      <td>(ATL, HNL, DL, 2019)</td>\n",
       "      <td>(HNL, HNL, Honolulu, HI, Daniel K Inouye Inter...</td>\n",
       "    </tr>\n",
       "    <tr>\n",
       "      <td>9</td>\n",
       "      <td>(PHL, PHL, Philadelphia, PA, Philadelphia Inte...</td>\n",
       "      <td>(PHL, IAH, YV, 2019)</td>\n",
       "      <td>(IAH, HNL, UA, 2019)</td>\n",
       "      <td>(HNL, HNL, Honolulu, HI, Daniel K Inouye Inter...</td>\n",
       "    </tr>\n",
       "  </tbody>\n",
       "</table>\n",
       "</div>"
      ],
      "text/plain": [
       "                                                from                    e0  \\\n",
       "0  (PHL, PHL, Philadelphia, PA, Philadelphia Inte...  (PHL, ORD, EV, 2019)   \n",
       "1  (PHL, PHL, Philadelphia, PA, Philadelphia Inte...  (PHL, SEA, AA, 2019)   \n",
       "2  (PHL, PHL, Philadelphia, PA, Philadelphia Inte...  (PHL, LAX, AA, 2019)   \n",
       "3  (PHL, PHL, Philadelphia, PA, Philadelphia Inte...  (PHL, LAX, NK, 2019)   \n",
       "4  (PHL, PHL, Philadelphia, PA, Philadelphia Inte...  (PHL, DTW, OH, 2019)   \n",
       "5  (PHL, PHL, Philadelphia, PA, Philadelphia Inte...  (PHL, DEN, AA, 2019)   \n",
       "6  (PHL, PHL, Philadelphia, PA, Philadelphia Inte...  (PHL, DEN, F9, 2019)   \n",
       "7  (PHL, PHL, Philadelphia, PA, Philadelphia Inte...  (PHL, ATL, AA, 2019)   \n",
       "8  (PHL, PHL, Philadelphia, PA, Philadelphia Inte...  (PHL, ATL, F9, 2019)   \n",
       "9  (PHL, PHL, Philadelphia, PA, Philadelphia Inte...  (PHL, IAH, YV, 2019)   \n",
       "\n",
       "                     e1                                                 to  \n",
       "0  (ORD, HNL, AA, 2019)  (HNL, HNL, Honolulu, HI, Daniel K Inouye Inter...  \n",
       "1  (SEA, HNL, DL, 2019)  (HNL, HNL, Honolulu, HI, Daniel K Inouye Inter...  \n",
       "2  (LAX, HNL, AA, 2019)  (HNL, HNL, Honolulu, HI, Daniel K Inouye Inter...  \n",
       "3  (LAX, HNL, AS, 2019)  (HNL, HNL, Honolulu, HI, Daniel K Inouye Inter...  \n",
       "4  (DTW, HNL, DL, 2019)  (HNL, HNL, Honolulu, HI, Daniel K Inouye Inter...  \n",
       "5  (DEN, HNL, UA, 2019)  (HNL, HNL, Honolulu, HI, Daniel K Inouye Inter...  \n",
       "6  (DEN, HNL, UA, 2019)  (HNL, HNL, Honolulu, HI, Daniel K Inouye Inter...  \n",
       "7  (ATL, HNL, DL, 2019)  (HNL, HNL, Honolulu, HI, Daniel K Inouye Inter...  \n",
       "8  (ATL, HNL, DL, 2019)  (HNL, HNL, Honolulu, HI, Daniel K Inouye Inter...  \n",
       "9  (IAH, HNL, UA, 2019)  (HNL, HNL, Honolulu, HI, Daniel K Inouye Inter...  "
      ]
     },
     "execution_count": 35,
     "metadata": {},
     "output_type": "execute_result"
    }
   ],
   "source": [
    "g_bfsd.drop('v1').limit(10).toPandas()"
   ]
  },
  {
   "cell_type": "code",
   "execution_count": 36,
   "metadata": {
    "hidden": true,
    "slideshow": {
     "slide_type": "subslide"
    }
   },
   "outputs": [
    {
     "data": {
      "text/html": [
       "<div>\n",
       "<style scoped>\n",
       "    .dataframe tbody tr th:only-of-type {\n",
       "        vertical-align: middle;\n",
       "    }\n",
       "\n",
       "    .dataframe tbody tr th {\n",
       "        vertical-align: top;\n",
       "    }\n",
       "\n",
       "    .dataframe thead th {\n",
       "        text-align: right;\n",
       "    }\n",
       "</style>\n",
       "<table border=\"1\" class=\"dataframe\">\n",
       "  <thead>\n",
       "    <tr style=\"text-align: right;\">\n",
       "      <th></th>\n",
       "      <th>from</th>\n",
       "      <th>e0</th>\n",
       "      <th>e1</th>\n",
       "      <th>to</th>\n",
       "    </tr>\n",
       "  </thead>\n",
       "  <tbody>\n",
       "    <tr>\n",
       "      <td>0</td>\n",
       "      <td>(PHL, PHL, Philadelphia, PA, Philadelphia Inte...</td>\n",
       "      <td>(PHL, LAX, AA, 2019)</td>\n",
       "      <td>(LAX, HNL, AA, 2019)</td>\n",
       "      <td>(HNL, HNL, Honolulu, HI, Daniel K Inouye Inter...</td>\n",
       "    </tr>\n",
       "    <tr>\n",
       "      <td>1</td>\n",
       "      <td>(PHL, PHL, Philadelphia, PA, Philadelphia Inte...</td>\n",
       "      <td>(PHL, DFW, AA, 2019)</td>\n",
       "      <td>(DFW, HNL, AA, 2019)</td>\n",
       "      <td>(HNL, HNL, Honolulu, HI, Daniel K Inouye Inter...</td>\n",
       "    </tr>\n",
       "    <tr>\n",
       "      <td>2</td>\n",
       "      <td>(PHL, PHL, Philadelphia, PA, Philadelphia Inte...</td>\n",
       "      <td>(PHL, ORD, AA, 2019)</td>\n",
       "      <td>(ORD, HNL, AA, 2019)</td>\n",
       "      <td>(HNL, HNL, Honolulu, HI, Daniel K Inouye Inter...</td>\n",
       "    </tr>\n",
       "    <tr>\n",
       "      <td>3</td>\n",
       "      <td>(PHL, PHL, Philadelphia, PA, Philadelphia Inte...</td>\n",
       "      <td>(PHL, PHX, AA, 2019)</td>\n",
       "      <td>(PHX, HNL, AA, 2019)</td>\n",
       "      <td>(HNL, HNL, Honolulu, HI, Daniel K Inouye Inter...</td>\n",
       "    </tr>\n",
       "  </tbody>\n",
       "</table>\n",
       "</div>"
      ],
      "text/plain": [
       "                                                from                    e0  \\\n",
       "0  (PHL, PHL, Philadelphia, PA, Philadelphia Inte...  (PHL, LAX, AA, 2019)   \n",
       "1  (PHL, PHL, Philadelphia, PA, Philadelphia Inte...  (PHL, DFW, AA, 2019)   \n",
       "2  (PHL, PHL, Philadelphia, PA, Philadelphia Inte...  (PHL, ORD, AA, 2019)   \n",
       "3  (PHL, PHL, Philadelphia, PA, Philadelphia Inte...  (PHL, PHX, AA, 2019)   \n",
       "\n",
       "                     e1                                                 to  \n",
       "0  (LAX, HNL, AA, 2019)  (HNL, HNL, Honolulu, HI, Daniel K Inouye Inter...  \n",
       "1  (DFW, HNL, AA, 2019)  (HNL, HNL, Honolulu, HI, Daniel K Inouye Inter...  \n",
       "2  (ORD, HNL, AA, 2019)  (HNL, HNL, Honolulu, HI, Daniel K Inouye Inter...  \n",
       "3  (PHX, HNL, AA, 2019)  (HNL, HNL, Honolulu, HI, Daniel K Inouye Inter...  "
      ]
     },
     "execution_count": 36,
     "metadata": {},
     "output_type": "execute_result"
    }
   ],
   "source": [
    "g_bfsd.drop('v1') \\\n",
    "    .filter(g_bfsd.e0[CARRIER_CODE] == 'AA') \\\n",
    "    .filter(g_bfsd.e1[CARRIER_CODE] == 'AA') \\\n",
    "    .limit(10).toPandas()"
   ]
  },
  {
   "cell_type": "code",
   "execution_count": 37,
   "metadata": {
    "hidden": true,
    "slideshow": {
     "slide_type": "subslide"
    }
   },
   "outputs": [
    {
     "data": {
      "text/plain": [
       "93"
      ]
     },
     "execution_count": 37,
     "metadata": {},
     "output_type": "execute_result"
    }
   ],
   "source": [
    "g_bfsd.count()"
   ]
  },
  {
   "cell_type": "markdown",
   "metadata": {
    "heading_collapsed": true,
    "hidden": true,
    "slideshow": {
     "slide_type": "slide"
    }
   },
   "source": [
    "#### Connected Components"
   ]
  },
  {
   "cell_type": "markdown",
   "metadata": {
    "hidden": true,
    "slideshow": {
     "slide_type": "subslide"
    }
   },
   "source": [
    "Let's run connected components on the entire dataset and see what happens."
   ]
  },
  {
   "cell_type": "code",
   "execution_count": 38,
   "metadata": {
    "hidden": true,
    "slideshow": {
     "slide_type": "subslide"
    }
   },
   "outputs": [
    {
     "name": "stdout",
     "output_type": "stream",
     "text": [
      "CPU times: user 8.73 ms, sys: 0 ns, total: 8.73 ms\n",
      "Wall time: 43.9 s\n"
     ]
    }
   ],
   "source": [
    "%%time\n",
    "g_cc = g.connectedComponents()\n",
    "g_cc = g_cc.checkpoint()"
   ]
  },
  {
   "cell_type": "code",
   "execution_count": 39,
   "metadata": {
    "hidden": true,
    "slideshow": {
     "slide_type": "subslide"
    }
   },
   "outputs": [
    {
     "name": "stdout",
     "output_type": "stream",
     "text": [
      "root\n",
      " |-- id: string (nullable = true)\n",
      " |-- airport_code: string (nullable = true)\n",
      " |-- airport_city: string (nullable = true)\n",
      " |-- airport_name: string (nullable = true)\n",
      " |-- component: long (nullable = true)\n",
      "\n"
     ]
    }
   ],
   "source": [
    "g_cc.printSchema()"
   ]
  },
  {
   "cell_type": "code",
   "execution_count": 40,
   "metadata": {
    "hidden": true,
    "slideshow": {
     "slide_type": "subslide"
    }
   },
   "outputs": [
    {
     "data": {
      "text/html": [
       "<div>\n",
       "<style scoped>\n",
       "    .dataframe tbody tr th:only-of-type {\n",
       "        vertical-align: middle;\n",
       "    }\n",
       "\n",
       "    .dataframe tbody tr th {\n",
       "        vertical-align: top;\n",
       "    }\n",
       "\n",
       "    .dataframe thead th {\n",
       "        text-align: right;\n",
       "    }\n",
       "</style>\n",
       "<table border=\"1\" class=\"dataframe\">\n",
       "  <thead>\n",
       "    <tr style=\"text-align: right;\">\n",
       "      <th></th>\n",
       "      <th>component</th>\n",
       "      <th>count</th>\n",
       "    </tr>\n",
       "  </thead>\n",
       "  <tbody>\n",
       "    <tr>\n",
       "      <td>0</td>\n",
       "      <td>8589934592</td>\n",
       "      <td>378</td>\n",
       "    </tr>\n",
       "  </tbody>\n",
       "</table>\n",
       "</div>"
      ],
      "text/plain": [
       "    component  count\n",
       "0  8589934592    378"
      ]
     },
     "execution_count": 40,
     "metadata": {},
     "output_type": "execute_result"
    }
   ],
   "source": [
    "g_cc.groupBy('component').count().orderBy(F.desc('component')).limit(10).toPandas()"
   ]
  },
  {
   "cell_type": "markdown",
   "metadata": {
    "hidden": true,
    "slideshow": {
     "slide_type": "subslide"
    }
   },
   "source": [
    "Not that interesting, but also expected. You would think that you can get to any airport from any airport in the US. Let's create a subgraph using just Virgin America (VX) flight data."
   ]
  },
  {
   "cell_type": "code",
   "execution_count": 41,
   "metadata": {
    "hidden": true,
    "slideshow": {
     "slide_type": "subslide"
    }
   },
   "outputs": [
    {
     "name": "stdout",
     "output_type": "stream",
     "text": [
      "CPU times: user 6.19 ms, sys: 780 µs, total: 6.97 ms\n",
      "Wall time: 24.9 s\n"
     ]
    }
   ],
   "source": [
    "%%time\n",
    "gVX = g.filterEdges('{} = \"VX\"'.format(CARRIER_CODE))\n",
    "gVX_cc = gVX.connectedComponents()\n",
    "gVX_cc = gVX_cc.checkpoint()"
   ]
  },
  {
   "cell_type": "code",
   "execution_count": 42,
   "metadata": {
    "hidden": true,
    "slideshow": {
     "slide_type": "subslide"
    }
   },
   "outputs": [
    {
     "data": {
      "text/html": [
       "<div>\n",
       "<style scoped>\n",
       "    .dataframe tbody tr th:only-of-type {\n",
       "        vertical-align: middle;\n",
       "    }\n",
       "\n",
       "    .dataframe tbody tr th {\n",
       "        vertical-align: top;\n",
       "    }\n",
       "\n",
       "    .dataframe thead th {\n",
       "        text-align: right;\n",
       "    }\n",
       "</style>\n",
       "<table border=\"1\" class=\"dataframe\">\n",
       "  <thead>\n",
       "    <tr style=\"text-align: right;\">\n",
       "      <th></th>\n",
       "      <th>id</th>\n",
       "      <th>airport_code</th>\n",
       "      <th>airport_city</th>\n",
       "      <th>airport_name</th>\n",
       "      <th>component</th>\n",
       "    </tr>\n",
       "  </thead>\n",
       "  <tbody>\n",
       "    <tr>\n",
       "      <td>0</td>\n",
       "      <td>INL</td>\n",
       "      <td>INL</td>\n",
       "      <td>International Falls, MN</td>\n",
       "      <td>Falls International Einarson Field</td>\n",
       "      <td>8589934592</td>\n",
       "    </tr>\n",
       "    <tr>\n",
       "      <td>1</td>\n",
       "      <td>BUR</td>\n",
       "      <td>BUR</td>\n",
       "      <td>Burbank, CA</td>\n",
       "      <td>Bob Hope</td>\n",
       "      <td>34359738368</td>\n",
       "    </tr>\n",
       "    <tr>\n",
       "      <td>2</td>\n",
       "      <td>IDA</td>\n",
       "      <td>IDA</td>\n",
       "      <td>Idaho Falls, ID</td>\n",
       "      <td>Idaho Falls Regional</td>\n",
       "      <td>60129542144</td>\n",
       "    </tr>\n",
       "    <tr>\n",
       "      <td>3</td>\n",
       "      <td>EUG</td>\n",
       "      <td>EUG</td>\n",
       "      <td>Eugene, OR</td>\n",
       "      <td>Mahlon Sweet Field</td>\n",
       "      <td>85899345920</td>\n",
       "    </tr>\n",
       "    <tr>\n",
       "      <td>4</td>\n",
       "      <td>PVD</td>\n",
       "      <td>PVD</td>\n",
       "      <td>Providence, RI</td>\n",
       "      <td>Theodore Francis Green State</td>\n",
       "      <td>103079215104</td>\n",
       "    </tr>\n",
       "  </tbody>\n",
       "</table>\n",
       "</div>"
      ],
      "text/plain": [
       "    id airport_code             airport_city  \\\n",
       "0  INL          INL  International Falls, MN   \n",
       "1  BUR          BUR              Burbank, CA   \n",
       "2  IDA          IDA          Idaho Falls, ID   \n",
       "3  EUG          EUG               Eugene, OR   \n",
       "4  PVD          PVD           Providence, RI   \n",
       "\n",
       "                         airport_name     component  \n",
       "0  Falls International Einarson Field    8589934592  \n",
       "1                            Bob Hope   34359738368  \n",
       "2                Idaho Falls Regional   60129542144  \n",
       "3                  Mahlon Sweet Field   85899345920  \n",
       "4        Theodore Francis Green State  103079215104  "
      ]
     },
     "execution_count": 42,
     "metadata": {},
     "output_type": "execute_result"
    }
   ],
   "source": [
    "gVX_cc.limit(5).toPandas()"
   ]
  },
  {
   "cell_type": "code",
   "execution_count": 43,
   "metadata": {
    "hidden": true,
    "slideshow": {
     "slide_type": "subslide"
    }
   },
   "outputs": [
    {
     "data": {
      "text/html": [
       "<div>\n",
       "<style scoped>\n",
       "    .dataframe tbody tr th:only-of-type {\n",
       "        vertical-align: middle;\n",
       "    }\n",
       "\n",
       "    .dataframe tbody tr th {\n",
       "        vertical-align: top;\n",
       "    }\n",
       "\n",
       "    .dataframe thead th {\n",
       "        text-align: right;\n",
       "    }\n",
       "</style>\n",
       "<table border=\"1\" class=\"dataframe\">\n",
       "  <thead>\n",
       "    <tr style=\"text-align: right;\">\n",
       "      <th></th>\n",
       "      <th>component</th>\n",
       "      <th>count</th>\n",
       "    </tr>\n",
       "  </thead>\n",
       "  <tbody>\n",
       "    <tr>\n",
       "      <td>0</td>\n",
       "      <td>171798691840</td>\n",
       "      <td>34</td>\n",
       "    </tr>\n",
       "    <tr>\n",
       "      <td>1</td>\n",
       "      <td>4810363371520</td>\n",
       "      <td>1</td>\n",
       "    </tr>\n",
       "    <tr>\n",
       "      <td>2</td>\n",
       "      <td>4260607557633</td>\n",
       "      <td>1</td>\n",
       "    </tr>\n",
       "    <tr>\n",
       "      <td>3</td>\n",
       "      <td>3324304687104</td>\n",
       "      <td>1</td>\n",
       "    </tr>\n",
       "    <tr>\n",
       "      <td>4</td>\n",
       "      <td>3444563771392</td>\n",
       "      <td>1</td>\n",
       "    </tr>\n",
       "  </tbody>\n",
       "</table>\n",
       "</div>"
      ],
      "text/plain": [
       "       component  count\n",
       "0   171798691840     34\n",
       "1  4810363371520      1\n",
       "2  4260607557633      1\n",
       "3  3324304687104      1\n",
       "4  3444563771392      1"
      ]
     },
     "execution_count": 43,
     "metadata": {},
     "output_type": "execute_result"
    }
   ],
   "source": [
    "gVX_cc.groupBy('component').count().orderBy(F.desc('count')).limit(5).toPandas()"
   ]
  },
  {
   "cell_type": "code",
   "execution_count": 44,
   "metadata": {
    "hidden": true,
    "slideshow": {
     "slide_type": "subslide"
    }
   },
   "outputs": [
    {
     "data": {
      "text/html": [
       "<div>\n",
       "<style scoped>\n",
       "    .dataframe tbody tr th:only-of-type {\n",
       "        vertical-align: middle;\n",
       "    }\n",
       "\n",
       "    .dataframe tbody tr th {\n",
       "        vertical-align: top;\n",
       "    }\n",
       "\n",
       "    .dataframe thead th {\n",
       "        text-align: right;\n",
       "    }\n",
       "</style>\n",
       "<table border=\"1\" class=\"dataframe\">\n",
       "  <thead>\n",
       "    <tr style=\"text-align: right;\">\n",
       "      <th></th>\n",
       "      <th>id</th>\n",
       "      <th>airport_code</th>\n",
       "      <th>airport_city</th>\n",
       "      <th>airport_name</th>\n",
       "      <th>component</th>\n",
       "    </tr>\n",
       "  </thead>\n",
       "  <tbody>\n",
       "    <tr>\n",
       "      <td>0</td>\n",
       "      <td>DCA</td>\n",
       "      <td>DCA</td>\n",
       "      <td>Washington, DC</td>\n",
       "      <td>Ronald Reagan Washington National</td>\n",
       "      <td>171798691840</td>\n",
       "    </tr>\n",
       "    <tr>\n",
       "      <td>1</td>\n",
       "      <td>AUS</td>\n",
       "      <td>AUS</td>\n",
       "      <td>Austin, TX</td>\n",
       "      <td>Austin - Bergstrom International</td>\n",
       "      <td>171798691840</td>\n",
       "    </tr>\n",
       "    <tr>\n",
       "      <td>2</td>\n",
       "      <td>LAS</td>\n",
       "      <td>LAS</td>\n",
       "      <td>Las Vegas, NV</td>\n",
       "      <td>McCarran International</td>\n",
       "      <td>171798691840</td>\n",
       "    </tr>\n",
       "    <tr>\n",
       "      <td>3</td>\n",
       "      <td>DEN</td>\n",
       "      <td>DEN</td>\n",
       "      <td>Denver, CO</td>\n",
       "      <td>Denver International</td>\n",
       "      <td>171798691840</td>\n",
       "    </tr>\n",
       "    <tr>\n",
       "      <td>4</td>\n",
       "      <td>ONT</td>\n",
       "      <td>ONT</td>\n",
       "      <td>Ontario, CA</td>\n",
       "      <td>Ontario International</td>\n",
       "      <td>171798691840</td>\n",
       "    </tr>\n",
       "    <tr>\n",
       "      <td>5</td>\n",
       "      <td>LAX</td>\n",
       "      <td>LAX</td>\n",
       "      <td>Los Angeles, CA</td>\n",
       "      <td>Los Angeles International</td>\n",
       "      <td>171798691840</td>\n",
       "    </tr>\n",
       "    <tr>\n",
       "      <td>6</td>\n",
       "      <td>ANC</td>\n",
       "      <td>ANC</td>\n",
       "      <td>Anchorage, AK</td>\n",
       "      <td>Ted Stevens Anchorage International</td>\n",
       "      <td>171798691840</td>\n",
       "    </tr>\n",
       "    <tr>\n",
       "      <td>7</td>\n",
       "      <td>JFK</td>\n",
       "      <td>JFK</td>\n",
       "      <td>New York, NY</td>\n",
       "      <td>John F. Kennedy International</td>\n",
       "      <td>171798691840</td>\n",
       "    </tr>\n",
       "    <tr>\n",
       "      <td>8</td>\n",
       "      <td>SLC</td>\n",
       "      <td>SLC</td>\n",
       "      <td>Salt Lake City, UT</td>\n",
       "      <td>Salt Lake City International</td>\n",
       "      <td>171798691840</td>\n",
       "    </tr>\n",
       "    <tr>\n",
       "      <td>9</td>\n",
       "      <td>MSY</td>\n",
       "      <td>MSY</td>\n",
       "      <td>New Orleans, LA</td>\n",
       "      <td>Louis Armstrong New Orleans International</td>\n",
       "      <td>171798691840</td>\n",
       "    </tr>\n",
       "    <tr>\n",
       "      <td>10</td>\n",
       "      <td>LGA</td>\n",
       "      <td>LGA</td>\n",
       "      <td>New York, NY</td>\n",
       "      <td>LaGuardia</td>\n",
       "      <td>171798691840</td>\n",
       "    </tr>\n",
       "    <tr>\n",
       "      <td>11</td>\n",
       "      <td>TUL</td>\n",
       "      <td>TUL</td>\n",
       "      <td>Tulsa, OK</td>\n",
       "      <td>Tulsa International</td>\n",
       "      <td>171798691840</td>\n",
       "    </tr>\n",
       "    <tr>\n",
       "      <td>12</td>\n",
       "      <td>BOS</td>\n",
       "      <td>BOS</td>\n",
       "      <td>Boston, MA</td>\n",
       "      <td>Logan International</td>\n",
       "      <td>171798691840</td>\n",
       "    </tr>\n",
       "    <tr>\n",
       "      <td>13</td>\n",
       "      <td>EWR</td>\n",
       "      <td>EWR</td>\n",
       "      <td>Newark, NJ</td>\n",
       "      <td>Newark Liberty International</td>\n",
       "      <td>171798691840</td>\n",
       "    </tr>\n",
       "    <tr>\n",
       "      <td>14</td>\n",
       "      <td>SEA</td>\n",
       "      <td>SEA</td>\n",
       "      <td>Seattle, WA</td>\n",
       "      <td>Seattle/Tacoma International</td>\n",
       "      <td>171798691840</td>\n",
       "    </tr>\n",
       "    <tr>\n",
       "      <td>15</td>\n",
       "      <td>BWI</td>\n",
       "      <td>BWI</td>\n",
       "      <td>Baltimore, MD</td>\n",
       "      <td>Baltimore/Washington International Thurgood Ma...</td>\n",
       "      <td>171798691840</td>\n",
       "    </tr>\n",
       "    <tr>\n",
       "      <td>16</td>\n",
       "      <td>DFW</td>\n",
       "      <td>DFW</td>\n",
       "      <td>Dallas/Fort Worth, TX</td>\n",
       "      <td>Dallas/Fort Worth International</td>\n",
       "      <td>171798691840</td>\n",
       "    </tr>\n",
       "    <tr>\n",
       "      <td>17</td>\n",
       "      <td>ORD</td>\n",
       "      <td>ORD</td>\n",
       "      <td>Chicago, IL</td>\n",
       "      <td>Chicago O'Hare International</td>\n",
       "      <td>171798691840</td>\n",
       "    </tr>\n",
       "    <tr>\n",
       "      <td>18</td>\n",
       "      <td>SAN</td>\n",
       "      <td>SAN</td>\n",
       "      <td>San Diego, CA</td>\n",
       "      <td>San Diego International</td>\n",
       "      <td>171798691840</td>\n",
       "    </tr>\n",
       "    <tr>\n",
       "      <td>19</td>\n",
       "      <td>PHL</td>\n",
       "      <td>PHL</td>\n",
       "      <td>Philadelphia, PA</td>\n",
       "      <td>Philadelphia International</td>\n",
       "      <td>171798691840</td>\n",
       "    </tr>\n",
       "    <tr>\n",
       "      <td>20</td>\n",
       "      <td>IAD</td>\n",
       "      <td>IAD</td>\n",
       "      <td>Washington, DC</td>\n",
       "      <td>Washington Dulles International</td>\n",
       "      <td>171798691840</td>\n",
       "    </tr>\n",
       "    <tr>\n",
       "      <td>21</td>\n",
       "      <td>BNA</td>\n",
       "      <td>BNA</td>\n",
       "      <td>Nashville, TN</td>\n",
       "      <td>Nashville International</td>\n",
       "      <td>171798691840</td>\n",
       "    </tr>\n",
       "    <tr>\n",
       "      <td>22</td>\n",
       "      <td>DAL</td>\n",
       "      <td>DAL</td>\n",
       "      <td>Dallas, TX</td>\n",
       "      <td>Dallas Love Field</td>\n",
       "      <td>171798691840</td>\n",
       "    </tr>\n",
       "    <tr>\n",
       "      <td>23</td>\n",
       "      <td>OGG</td>\n",
       "      <td>OGG</td>\n",
       "      <td>Kahului, HI</td>\n",
       "      <td>Kahului Airport</td>\n",
       "      <td>171798691840</td>\n",
       "    </tr>\n",
       "    <tr>\n",
       "      <td>24</td>\n",
       "      <td>HNL</td>\n",
       "      <td>HNL</td>\n",
       "      <td>Honolulu, HI</td>\n",
       "      <td>Daniel K Inouye International</td>\n",
       "      <td>171798691840</td>\n",
       "    </tr>\n",
       "    <tr>\n",
       "      <td>25</td>\n",
       "      <td>SJC</td>\n",
       "      <td>SJC</td>\n",
       "      <td>San Jose, CA</td>\n",
       "      <td>Norman Y. Mineta San Jose International</td>\n",
       "      <td>171798691840</td>\n",
       "    </tr>\n",
       "    <tr>\n",
       "      <td>26</td>\n",
       "      <td>PSP</td>\n",
       "      <td>PSP</td>\n",
       "      <td>Palm Springs, CA</td>\n",
       "      <td>Palm Springs International</td>\n",
       "      <td>171798691840</td>\n",
       "    </tr>\n",
       "    <tr>\n",
       "      <td>27</td>\n",
       "      <td>PDX</td>\n",
       "      <td>PDX</td>\n",
       "      <td>Portland, OR</td>\n",
       "      <td>Portland International</td>\n",
       "      <td>171798691840</td>\n",
       "    </tr>\n",
       "    <tr>\n",
       "      <td>28</td>\n",
       "      <td>SFO</td>\n",
       "      <td>SFO</td>\n",
       "      <td>San Francisco, CA</td>\n",
       "      <td>San Francisco International</td>\n",
       "      <td>171798691840</td>\n",
       "    </tr>\n",
       "    <tr>\n",
       "      <td>29</td>\n",
       "      <td>FLL</td>\n",
       "      <td>FLL</td>\n",
       "      <td>Fort Lauderdale, FL</td>\n",
       "      <td>Fort Lauderdale-Hollywood International</td>\n",
       "      <td>171798691840</td>\n",
       "    </tr>\n",
       "    <tr>\n",
       "      <td>30</td>\n",
       "      <td>RDU</td>\n",
       "      <td>RDU</td>\n",
       "      <td>Raleigh/Durham, NC</td>\n",
       "      <td>Raleigh-Durham International</td>\n",
       "      <td>171798691840</td>\n",
       "    </tr>\n",
       "    <tr>\n",
       "      <td>31</td>\n",
       "      <td>IND</td>\n",
       "      <td>IND</td>\n",
       "      <td>Indianapolis, IN</td>\n",
       "      <td>Indianapolis International</td>\n",
       "      <td>171798691840</td>\n",
       "    </tr>\n",
       "    <tr>\n",
       "      <td>32</td>\n",
       "      <td>KOA</td>\n",
       "      <td>KOA</td>\n",
       "      <td>Kona, HI</td>\n",
       "      <td>Ellison Onizuka Kona International at Keahole</td>\n",
       "      <td>171798691840</td>\n",
       "    </tr>\n",
       "    <tr>\n",
       "      <td>33</td>\n",
       "      <td>MCO</td>\n",
       "      <td>MCO</td>\n",
       "      <td>Orlando, FL</td>\n",
       "      <td>Orlando International</td>\n",
       "      <td>171798691840</td>\n",
       "    </tr>\n",
       "  </tbody>\n",
       "</table>\n",
       "</div>"
      ],
      "text/plain": [
       "     id airport_code           airport_city  \\\n",
       "0   DCA          DCA         Washington, DC   \n",
       "1   AUS          AUS             Austin, TX   \n",
       "2   LAS          LAS          Las Vegas, NV   \n",
       "3   DEN          DEN             Denver, CO   \n",
       "4   ONT          ONT            Ontario, CA   \n",
       "5   LAX          LAX        Los Angeles, CA   \n",
       "6   ANC          ANC          Anchorage, AK   \n",
       "7   JFK          JFK           New York, NY   \n",
       "8   SLC          SLC     Salt Lake City, UT   \n",
       "9   MSY          MSY        New Orleans, LA   \n",
       "10  LGA          LGA           New York, NY   \n",
       "11  TUL          TUL              Tulsa, OK   \n",
       "12  BOS          BOS             Boston, MA   \n",
       "13  EWR          EWR             Newark, NJ   \n",
       "14  SEA          SEA            Seattle, WA   \n",
       "15  BWI          BWI          Baltimore, MD   \n",
       "16  DFW          DFW  Dallas/Fort Worth, TX   \n",
       "17  ORD          ORD            Chicago, IL   \n",
       "18  SAN          SAN          San Diego, CA   \n",
       "19  PHL          PHL       Philadelphia, PA   \n",
       "20  IAD          IAD         Washington, DC   \n",
       "21  BNA          BNA          Nashville, TN   \n",
       "22  DAL          DAL             Dallas, TX   \n",
       "23  OGG          OGG            Kahului, HI   \n",
       "24  HNL          HNL           Honolulu, HI   \n",
       "25  SJC          SJC           San Jose, CA   \n",
       "26  PSP          PSP       Palm Springs, CA   \n",
       "27  PDX          PDX           Portland, OR   \n",
       "28  SFO          SFO      San Francisco, CA   \n",
       "29  FLL          FLL    Fort Lauderdale, FL   \n",
       "30  RDU          RDU     Raleigh/Durham, NC   \n",
       "31  IND          IND       Indianapolis, IN   \n",
       "32  KOA          KOA               Kona, HI   \n",
       "33  MCO          MCO            Orlando, FL   \n",
       "\n",
       "                                         airport_name     component  \n",
       "0                   Ronald Reagan Washington National  171798691840  \n",
       "1                    Austin - Bergstrom International  171798691840  \n",
       "2                              McCarran International  171798691840  \n",
       "3                                Denver International  171798691840  \n",
       "4                               Ontario International  171798691840  \n",
       "5                           Los Angeles International  171798691840  \n",
       "6                 Ted Stevens Anchorage International  171798691840  \n",
       "7                       John F. Kennedy International  171798691840  \n",
       "8                        Salt Lake City International  171798691840  \n",
       "9           Louis Armstrong New Orleans International  171798691840  \n",
       "10                                          LaGuardia  171798691840  \n",
       "11                                Tulsa International  171798691840  \n",
       "12                                Logan International  171798691840  \n",
       "13                       Newark Liberty International  171798691840  \n",
       "14                       Seattle/Tacoma International  171798691840  \n",
       "15  Baltimore/Washington International Thurgood Ma...  171798691840  \n",
       "16                    Dallas/Fort Worth International  171798691840  \n",
       "17                       Chicago O'Hare International  171798691840  \n",
       "18                            San Diego International  171798691840  \n",
       "19                         Philadelphia International  171798691840  \n",
       "20                    Washington Dulles International  171798691840  \n",
       "21                            Nashville International  171798691840  \n",
       "22                                  Dallas Love Field  171798691840  \n",
       "23                                    Kahului Airport  171798691840  \n",
       "24                      Daniel K Inouye International  171798691840  \n",
       "25            Norman Y. Mineta San Jose International  171798691840  \n",
       "26                         Palm Springs International  171798691840  \n",
       "27                             Portland International  171798691840  \n",
       "28                        San Francisco International  171798691840  \n",
       "29            Fort Lauderdale-Hollywood International  171798691840  \n",
       "30                       Raleigh-Durham International  171798691840  \n",
       "31                         Indianapolis International  171798691840  \n",
       "32      Ellison Onizuka Kona International at Keahole  171798691840  \n",
       "33                              Orlando International  171798691840  "
      ]
     },
     "execution_count": 44,
     "metadata": {},
     "output_type": "execute_result"
    }
   ],
   "source": [
    "gVX_cc.filter('component = 171798691840') \\\n",
    "    .toPandas()"
   ]
  },
  {
   "cell_type": "markdown",
   "metadata": {
    "heading_collapsed": true,
    "hidden": true,
    "slideshow": {
     "slide_type": "slide"
    }
   },
   "source": [
    "#### Label Propagation Algorithm (LPA)"
   ]
  },
  {
   "cell_type": "code",
   "execution_count": 45,
   "metadata": {
    "hidden": true,
    "slideshow": {
     "slide_type": "subslide"
    }
   },
   "outputs": [],
   "source": [
    "g_lpa = g.labelPropagation(maxIter=5)\n",
    "g_lpa = g_lpa.checkpoint()"
   ]
  },
  {
   "cell_type": "code",
   "execution_count": 46,
   "metadata": {
    "hidden": true,
    "slideshow": {
     "slide_type": "subslide"
    }
   },
   "outputs": [
    {
     "name": "stdout",
     "output_type": "stream",
     "text": [
      "root\n",
      " |-- id: string (nullable = true)\n",
      " |-- airport_code: string (nullable = true)\n",
      " |-- airport_city: string (nullable = true)\n",
      " |-- airport_name: string (nullable = true)\n",
      " |-- label: long (nullable = true)\n",
      "\n"
     ]
    }
   ],
   "source": [
    "g_lpa.printSchema()"
   ]
  },
  {
   "cell_type": "code",
   "execution_count": 47,
   "metadata": {
    "hidden": true,
    "slideshow": {
     "slide_type": "subslide"
    }
   },
   "outputs": [
    {
     "data": {
      "text/html": [
       "<div>\n",
       "<style scoped>\n",
       "    .dataframe tbody tr th:only-of-type {\n",
       "        vertical-align: middle;\n",
       "    }\n",
       "\n",
       "    .dataframe tbody tr th {\n",
       "        vertical-align: top;\n",
       "    }\n",
       "\n",
       "    .dataframe thead th {\n",
       "        text-align: right;\n",
       "    }\n",
       "</style>\n",
       "<table border=\"1\" class=\"dataframe\">\n",
       "  <thead>\n",
       "    <tr style=\"text-align: right;\">\n",
       "      <th></th>\n",
       "      <th>id</th>\n",
       "      <th>airport_code</th>\n",
       "      <th>airport_city</th>\n",
       "      <th>airport_name</th>\n",
       "      <th>label</th>\n",
       "    </tr>\n",
       "  </thead>\n",
       "  <tbody>\n",
       "    <tr>\n",
       "      <td>0</td>\n",
       "      <td>MSY</td>\n",
       "      <td>MSY</td>\n",
       "      <td>New Orleans, LA</td>\n",
       "      <td>Louis Armstrong New Orleans International</td>\n",
       "      <td>4655744548864</td>\n",
       "    </tr>\n",
       "    <tr>\n",
       "      <td>1</td>\n",
       "      <td>OTZ</td>\n",
       "      <td>OTZ</td>\n",
       "      <td>Kotzebue, AK</td>\n",
       "      <td>Ralph Wien Memorial</td>\n",
       "      <td>1589137899521</td>\n",
       "    </tr>\n",
       "    <tr>\n",
       "      <td>2</td>\n",
       "      <td>FLG</td>\n",
       "      <td>FLG</td>\n",
       "      <td>Flagstaff, AZ</td>\n",
       "      <td>Flagstaff Pulliam</td>\n",
       "      <td>4655744548864</td>\n",
       "    </tr>\n",
       "    <tr>\n",
       "      <td>3</td>\n",
       "      <td>HHH</td>\n",
       "      <td>HHH</td>\n",
       "      <td>Hilton Head, SC</td>\n",
       "      <td>Hilton Head Airport</td>\n",
       "      <td>4655744548864</td>\n",
       "    </tr>\n",
       "    <tr>\n",
       "      <td>4</td>\n",
       "      <td>ABI</td>\n",
       "      <td>ABI</td>\n",
       "      <td>Abilene, TX</td>\n",
       "      <td>Abilene Regional</td>\n",
       "      <td>4655744548864</td>\n",
       "    </tr>\n",
       "  </tbody>\n",
       "</table>\n",
       "</div>"
      ],
      "text/plain": [
       "    id airport_code     airport_city  \\\n",
       "0  MSY          MSY  New Orleans, LA   \n",
       "1  OTZ          OTZ     Kotzebue, AK   \n",
       "2  FLG          FLG    Flagstaff, AZ   \n",
       "3  HHH          HHH  Hilton Head, SC   \n",
       "4  ABI          ABI      Abilene, TX   \n",
       "\n",
       "                                airport_name          label  \n",
       "0  Louis Armstrong New Orleans International  4655744548864  \n",
       "1                        Ralph Wien Memorial  1589137899521  \n",
       "2                          Flagstaff Pulliam  4655744548864  \n",
       "3                        Hilton Head Airport  4655744548864  \n",
       "4                           Abilene Regional  4655744548864  "
      ]
     },
     "execution_count": 47,
     "metadata": {},
     "output_type": "execute_result"
    }
   ],
   "source": [
    "g_lpa.limit(5).toPandas()"
   ]
  },
  {
   "cell_type": "code",
   "execution_count": 48,
   "metadata": {
    "hidden": true,
    "slideshow": {
     "slide_type": "subslide"
    }
   },
   "outputs": [
    {
     "data": {
      "text/html": [
       "<div>\n",
       "<style scoped>\n",
       "    .dataframe tbody tr th:only-of-type {\n",
       "        vertical-align: middle;\n",
       "    }\n",
       "\n",
       "    .dataframe tbody tr th {\n",
       "        vertical-align: top;\n",
       "    }\n",
       "\n",
       "    .dataframe thead th {\n",
       "        text-align: right;\n",
       "    }\n",
       "</style>\n",
       "<table border=\"1\" class=\"dataframe\">\n",
       "  <thead>\n",
       "    <tr style=\"text-align: right;\">\n",
       "      <th></th>\n",
       "      <th>label</th>\n",
       "      <th>count</th>\n",
       "    </tr>\n",
       "  </thead>\n",
       "  <tbody>\n",
       "    <tr>\n",
       "      <td>0</td>\n",
       "      <td>4655744548864</td>\n",
       "      <td>327</td>\n",
       "    </tr>\n",
       "    <tr>\n",
       "      <td>1</td>\n",
       "      <td>1589137899521</td>\n",
       "      <td>39</td>\n",
       "    </tr>\n",
       "    <tr>\n",
       "      <td>2</td>\n",
       "      <td>5583457484800</td>\n",
       "      <td>6</td>\n",
       "    </tr>\n",
       "    <tr>\n",
       "      <td>3</td>\n",
       "      <td>3075196583937</td>\n",
       "      <td>3</td>\n",
       "    </tr>\n",
       "    <tr>\n",
       "      <td>4</td>\n",
       "      <td>5102421147648</td>\n",
       "      <td>2</td>\n",
       "    </tr>\n",
       "  </tbody>\n",
       "</table>\n",
       "</div>"
      ],
      "text/plain": [
       "           label  count\n",
       "0  4655744548864    327\n",
       "1  1589137899521     39\n",
       "2  5583457484800      6\n",
       "3  3075196583937      3\n",
       "4  5102421147648      2"
      ]
     },
     "execution_count": 48,
     "metadata": {},
     "output_type": "execute_result"
    }
   ],
   "source": [
    "g_lpa.groupBy('label').count().orderBy(F.desc('count')).limit(5).toPandas()"
   ]
  },
  {
   "cell_type": "code",
   "execution_count": 49,
   "metadata": {
    "hidden": true,
    "slideshow": {
     "slide_type": "subslide"
    }
   },
   "outputs": [
    {
     "data": {
      "text/html": [
       "<div>\n",
       "<style scoped>\n",
       "    .dataframe tbody tr th:only-of-type {\n",
       "        vertical-align: middle;\n",
       "    }\n",
       "\n",
       "    .dataframe tbody tr th {\n",
       "        vertical-align: top;\n",
       "    }\n",
       "\n",
       "    .dataframe thead th {\n",
       "        text-align: right;\n",
       "    }\n",
       "</style>\n",
       "<table border=\"1\" class=\"dataframe\">\n",
       "  <thead>\n",
       "    <tr style=\"text-align: right;\">\n",
       "      <th></th>\n",
       "      <th>id</th>\n",
       "      <th>airport_code</th>\n",
       "      <th>airport_city</th>\n",
       "      <th>airport_name</th>\n",
       "      <th>label</th>\n",
       "    </tr>\n",
       "  </thead>\n",
       "  <tbody>\n",
       "    <tr>\n",
       "      <td>0</td>\n",
       "      <td>MSY</td>\n",
       "      <td>MSY</td>\n",
       "      <td>New Orleans, LA</td>\n",
       "      <td>Louis Armstrong New Orleans International</td>\n",
       "      <td>4655744548864</td>\n",
       "    </tr>\n",
       "    <tr>\n",
       "      <td>1</td>\n",
       "      <td>FLG</td>\n",
       "      <td>FLG</td>\n",
       "      <td>Flagstaff, AZ</td>\n",
       "      <td>Flagstaff Pulliam</td>\n",
       "      <td>4655744548864</td>\n",
       "    </tr>\n",
       "    <tr>\n",
       "      <td>2</td>\n",
       "      <td>HHH</td>\n",
       "      <td>HHH</td>\n",
       "      <td>Hilton Head, SC</td>\n",
       "      <td>Hilton Head Airport</td>\n",
       "      <td>4655744548864</td>\n",
       "    </tr>\n",
       "    <tr>\n",
       "      <td>3</td>\n",
       "      <td>ABI</td>\n",
       "      <td>ABI</td>\n",
       "      <td>Abilene, TX</td>\n",
       "      <td>Abilene Regional</td>\n",
       "      <td>4655744548864</td>\n",
       "    </tr>\n",
       "    <tr>\n",
       "      <td>4</td>\n",
       "      <td>GRB</td>\n",
       "      <td>GRB</td>\n",
       "      <td>Green Bay, WI</td>\n",
       "      <td>Green Bay Austin Straubel International</td>\n",
       "      <td>4655744548864</td>\n",
       "    </tr>\n",
       "    <tr>\n",
       "      <td>5</td>\n",
       "      <td>TXK</td>\n",
       "      <td>TXK</td>\n",
       "      <td>Texarkana, AR</td>\n",
       "      <td>Texarkana Regional-Webb Field</td>\n",
       "      <td>4655744548864</td>\n",
       "    </tr>\n",
       "    <tr>\n",
       "      <td>6</td>\n",
       "      <td>LRD</td>\n",
       "      <td>LRD</td>\n",
       "      <td>Laredo, TX</td>\n",
       "      <td>Laredo International</td>\n",
       "      <td>4655744548864</td>\n",
       "    </tr>\n",
       "    <tr>\n",
       "      <td>7</td>\n",
       "      <td>HRL</td>\n",
       "      <td>HRL</td>\n",
       "      <td>Harlingen/San Benito, TX</td>\n",
       "      <td>Valley International</td>\n",
       "      <td>4655744548864</td>\n",
       "    </tr>\n",
       "    <tr>\n",
       "      <td>8</td>\n",
       "      <td>ILG</td>\n",
       "      <td>ILG</td>\n",
       "      <td>Wilmington, DE</td>\n",
       "      <td>New Castle</td>\n",
       "      <td>4655744548864</td>\n",
       "    </tr>\n",
       "    <tr>\n",
       "      <td>9</td>\n",
       "      <td>HYA</td>\n",
       "      <td>HYA</td>\n",
       "      <td>Hyannis, MA</td>\n",
       "      <td>Barnstable Municipal-Boardman/Polando Field</td>\n",
       "      <td>4655744548864</td>\n",
       "    </tr>\n",
       "  </tbody>\n",
       "</table>\n",
       "</div>"
      ],
      "text/plain": [
       "    id airport_code              airport_city  \\\n",
       "0  MSY          MSY           New Orleans, LA   \n",
       "1  FLG          FLG             Flagstaff, AZ   \n",
       "2  HHH          HHH           Hilton Head, SC   \n",
       "3  ABI          ABI               Abilene, TX   \n",
       "4  GRB          GRB             Green Bay, WI   \n",
       "5  TXK          TXK             Texarkana, AR   \n",
       "6  LRD          LRD                Laredo, TX   \n",
       "7  HRL          HRL  Harlingen/San Benito, TX   \n",
       "8  ILG          ILG            Wilmington, DE   \n",
       "9  HYA          HYA               Hyannis, MA   \n",
       "\n",
       "                                  airport_name          label  \n",
       "0    Louis Armstrong New Orleans International  4655744548864  \n",
       "1                            Flagstaff Pulliam  4655744548864  \n",
       "2                          Hilton Head Airport  4655744548864  \n",
       "3                             Abilene Regional  4655744548864  \n",
       "4      Green Bay Austin Straubel International  4655744548864  \n",
       "5                Texarkana Regional-Webb Field  4655744548864  \n",
       "6                         Laredo International  4655744548864  \n",
       "7                         Valley International  4655744548864  \n",
       "8                                   New Castle  4655744548864  \n",
       "9  Barnstable Municipal-Boardman/Polando Field  4655744548864  "
      ]
     },
     "execution_count": 49,
     "metadata": {},
     "output_type": "execute_result"
    }
   ],
   "source": [
    "g_lpa.filter('label = 4655744548864') \\\n",
    "    .limit(10).toPandas()"
   ]
  },
  {
   "cell_type": "code",
   "execution_count": 50,
   "metadata": {
    "hidden": true,
    "slideshow": {
     "slide_type": "subslide"
    }
   },
   "outputs": [
    {
     "data": {
      "text/html": [
       "<div>\n",
       "<style scoped>\n",
       "    .dataframe tbody tr th:only-of-type {\n",
       "        vertical-align: middle;\n",
       "    }\n",
       "\n",
       "    .dataframe tbody tr th {\n",
       "        vertical-align: top;\n",
       "    }\n",
       "\n",
       "    .dataframe thead th {\n",
       "        text-align: right;\n",
       "    }\n",
       "</style>\n",
       "<table border=\"1\" class=\"dataframe\">\n",
       "  <thead>\n",
       "    <tr style=\"text-align: right;\">\n",
       "      <th></th>\n",
       "      <th>id</th>\n",
       "      <th>airport_code</th>\n",
       "      <th>airport_city</th>\n",
       "      <th>airport_name</th>\n",
       "      <th>label</th>\n",
       "    </tr>\n",
       "  </thead>\n",
       "  <tbody>\n",
       "    <tr>\n",
       "      <td>0</td>\n",
       "      <td>OTZ</td>\n",
       "      <td>OTZ</td>\n",
       "      <td>Kotzebue, AK</td>\n",
       "      <td>Ralph Wien Memorial</td>\n",
       "      <td>1589137899521</td>\n",
       "    </tr>\n",
       "    <tr>\n",
       "      <td>1</td>\n",
       "      <td>SCC</td>\n",
       "      <td>SCC</td>\n",
       "      <td>Deadhorse, AK</td>\n",
       "      <td>Deadhorse Airport</td>\n",
       "      <td>1589137899521</td>\n",
       "    </tr>\n",
       "    <tr>\n",
       "      <td>2</td>\n",
       "      <td>BUR</td>\n",
       "      <td>BUR</td>\n",
       "      <td>Burbank, CA</td>\n",
       "      <td>Bob Hope</td>\n",
       "      <td>1589137899521</td>\n",
       "    </tr>\n",
       "    <tr>\n",
       "      <td>3</td>\n",
       "      <td>CDV</td>\n",
       "      <td>CDV</td>\n",
       "      <td>Cordova, AK</td>\n",
       "      <td>Merle K Mudhole Smith</td>\n",
       "      <td>1589137899521</td>\n",
       "    </tr>\n",
       "    <tr>\n",
       "      <td>4</td>\n",
       "      <td>FAI</td>\n",
       "      <td>FAI</td>\n",
       "      <td>Fairbanks, AK</td>\n",
       "      <td>Fairbanks International</td>\n",
       "      <td>1589137899521</td>\n",
       "    </tr>\n",
       "    <tr>\n",
       "      <td>5</td>\n",
       "      <td>SGU</td>\n",
       "      <td>SGU</td>\n",
       "      <td>St. George, UT</td>\n",
       "      <td>St George Regional</td>\n",
       "      <td>1589137899521</td>\n",
       "    </tr>\n",
       "    <tr>\n",
       "      <td>6</td>\n",
       "      <td>VEL</td>\n",
       "      <td>VEL</td>\n",
       "      <td>Vernal, UT</td>\n",
       "      <td>Vernal Regional</td>\n",
       "      <td>1589137899521</td>\n",
       "    </tr>\n",
       "    <tr>\n",
       "      <td>7</td>\n",
       "      <td>LMT</td>\n",
       "      <td>LMT</td>\n",
       "      <td>Klamath Falls, OR</td>\n",
       "      <td>Crater Lake Klamath Regional</td>\n",
       "      <td>1589137899521</td>\n",
       "    </tr>\n",
       "    <tr>\n",
       "      <td>8</td>\n",
       "      <td>WRG</td>\n",
       "      <td>WRG</td>\n",
       "      <td>Wrangell, AK</td>\n",
       "      <td>Wrangell Airport</td>\n",
       "      <td>1589137899521</td>\n",
       "    </tr>\n",
       "    <tr>\n",
       "      <td>9</td>\n",
       "      <td>DLG</td>\n",
       "      <td>DLG</td>\n",
       "      <td>Dillingham, AK</td>\n",
       "      <td>Dillingham Airport</td>\n",
       "      <td>1589137899521</td>\n",
       "    </tr>\n",
       "    <tr>\n",
       "      <td>10</td>\n",
       "      <td>GST</td>\n",
       "      <td>GST</td>\n",
       "      <td>Gustavus, AK</td>\n",
       "      <td>Gustavus Airport</td>\n",
       "      <td>1589137899521</td>\n",
       "    </tr>\n",
       "    <tr>\n",
       "      <td>11</td>\n",
       "      <td>OME</td>\n",
       "      <td>OME</td>\n",
       "      <td>Nome, AK</td>\n",
       "      <td>Nome Airport</td>\n",
       "      <td>1589137899521</td>\n",
       "    </tr>\n",
       "    <tr>\n",
       "      <td>12</td>\n",
       "      <td>CDC</td>\n",
       "      <td>CDC</td>\n",
       "      <td>Cedar City, UT</td>\n",
       "      <td>Cedar City Regional</td>\n",
       "      <td>1589137899521</td>\n",
       "    </tr>\n",
       "    <tr>\n",
       "      <td>13</td>\n",
       "      <td>BRW</td>\n",
       "      <td>BRW</td>\n",
       "      <td>Barrow, AK</td>\n",
       "      <td>Wiley Post/Will Rogers Memorial</td>\n",
       "      <td>1589137899521</td>\n",
       "    </tr>\n",
       "    <tr>\n",
       "      <td>14</td>\n",
       "      <td>TWF</td>\n",
       "      <td>TWF</td>\n",
       "      <td>Twin Falls, ID</td>\n",
       "      <td>Joslin Field - Magic Valley Regional</td>\n",
       "      <td>1589137899521</td>\n",
       "    </tr>\n",
       "    <tr>\n",
       "      <td>15</td>\n",
       "      <td>PIH</td>\n",
       "      <td>PIH</td>\n",
       "      <td>Pocatello, ID</td>\n",
       "      <td>Pocatello Regional</td>\n",
       "      <td>1589137899521</td>\n",
       "    </tr>\n",
       "    <tr>\n",
       "      <td>16</td>\n",
       "      <td>IDA</td>\n",
       "      <td>IDA</td>\n",
       "      <td>Idaho Falls, ID</td>\n",
       "      <td>Idaho Falls Regional</td>\n",
       "      <td>1589137899521</td>\n",
       "    </tr>\n",
       "    <tr>\n",
       "      <td>17</td>\n",
       "      <td>EKO</td>\n",
       "      <td>EKO</td>\n",
       "      <td>Elko, NV</td>\n",
       "      <td>Elko Regional</td>\n",
       "      <td>1589137899521</td>\n",
       "    </tr>\n",
       "    <tr>\n",
       "      <td>18</td>\n",
       "      <td>COD</td>\n",
       "      <td>COD</td>\n",
       "      <td>Cody, WY</td>\n",
       "      <td>Yellowstone Regional</td>\n",
       "      <td>1589137899521</td>\n",
       "    </tr>\n",
       "    <tr>\n",
       "      <td>19</td>\n",
       "      <td>LWS</td>\n",
       "      <td>LWS</td>\n",
       "      <td>Lewiston, ID</td>\n",
       "      <td>Lewiston Nez Perce County</td>\n",
       "      <td>1589137899521</td>\n",
       "    </tr>\n",
       "    <tr>\n",
       "      <td>20</td>\n",
       "      <td>PSG</td>\n",
       "      <td>PSG</td>\n",
       "      <td>Petersburg, AK</td>\n",
       "      <td>Petersburg James A Johnson</td>\n",
       "      <td>1589137899521</td>\n",
       "    </tr>\n",
       "    <tr>\n",
       "      <td>21</td>\n",
       "      <td>LGB</td>\n",
       "      <td>LGB</td>\n",
       "      <td>Long Beach, CA</td>\n",
       "      <td>Long Beach Airport</td>\n",
       "      <td>1589137899521</td>\n",
       "    </tr>\n",
       "    <tr>\n",
       "      <td>22</td>\n",
       "      <td>HLN</td>\n",
       "      <td>HLN</td>\n",
       "      <td>Helena, MT</td>\n",
       "      <td>Helena Regional</td>\n",
       "      <td>1589137899521</td>\n",
       "    </tr>\n",
       "    <tr>\n",
       "      <td>23</td>\n",
       "      <td>GEG</td>\n",
       "      <td>GEG</td>\n",
       "      <td>Spokane, WA</td>\n",
       "      <td>Spokane International</td>\n",
       "      <td>1589137899521</td>\n",
       "    </tr>\n",
       "    <tr>\n",
       "      <td>24</td>\n",
       "      <td>OAK</td>\n",
       "      <td>OAK</td>\n",
       "      <td>Oakland, CA</td>\n",
       "      <td>Metropolitan Oakland International</td>\n",
       "      <td>1589137899521</td>\n",
       "    </tr>\n",
       "    <tr>\n",
       "      <td>25</td>\n",
       "      <td>GTF</td>\n",
       "      <td>GTF</td>\n",
       "      <td>Great Falls, MT</td>\n",
       "      <td>Great Falls International</td>\n",
       "      <td>1589137899521</td>\n",
       "    </tr>\n",
       "    <tr>\n",
       "      <td>26</td>\n",
       "      <td>JNU</td>\n",
       "      <td>JNU</td>\n",
       "      <td>Juneau, AK</td>\n",
       "      <td>Juneau International</td>\n",
       "      <td>1589137899521</td>\n",
       "    </tr>\n",
       "    <tr>\n",
       "      <td>27</td>\n",
       "      <td>AKN</td>\n",
       "      <td>AKN</td>\n",
       "      <td>King Salmon, AK</td>\n",
       "      <td>King Salmon Airport</td>\n",
       "      <td>1589137899521</td>\n",
       "    </tr>\n",
       "    <tr>\n",
       "      <td>28</td>\n",
       "      <td>YAK</td>\n",
       "      <td>YAK</td>\n",
       "      <td>Yakutat, AK</td>\n",
       "      <td>Yakutat Airport</td>\n",
       "      <td>1589137899521</td>\n",
       "    </tr>\n",
       "    <tr>\n",
       "      <td>29</td>\n",
       "      <td>ADK</td>\n",
       "      <td>ADK</td>\n",
       "      <td>Adak Island, AK</td>\n",
       "      <td>Adak</td>\n",
       "      <td>1589137899521</td>\n",
       "    </tr>\n",
       "    <tr>\n",
       "      <td>30</td>\n",
       "      <td>WYS</td>\n",
       "      <td>WYS</td>\n",
       "      <td>West Yellowstone, MT</td>\n",
       "      <td>Yellowstone</td>\n",
       "      <td>1589137899521</td>\n",
       "    </tr>\n",
       "    <tr>\n",
       "      <td>31</td>\n",
       "      <td>SIT</td>\n",
       "      <td>SIT</td>\n",
       "      <td>Sitka, AK</td>\n",
       "      <td>Sitka Rocky Gutierrez</td>\n",
       "      <td>1589137899521</td>\n",
       "    </tr>\n",
       "    <tr>\n",
       "      <td>32</td>\n",
       "      <td>SUN</td>\n",
       "      <td>SUN</td>\n",
       "      <td>Sun Valley/Hailey/Ketchum, ID</td>\n",
       "      <td>Friedman Memorial</td>\n",
       "      <td>1589137899521</td>\n",
       "    </tr>\n",
       "    <tr>\n",
       "      <td>33</td>\n",
       "      <td>ENV</td>\n",
       "      <td>ENV</td>\n",
       "      <td>Wendover, UT</td>\n",
       "      <td>Wendover Airport</td>\n",
       "      <td>1589137899521</td>\n",
       "    </tr>\n",
       "    <tr>\n",
       "      <td>34</td>\n",
       "      <td>ANC</td>\n",
       "      <td>ANC</td>\n",
       "      <td>Anchorage, AK</td>\n",
       "      <td>Ted Stevens Anchorage International</td>\n",
       "      <td>1589137899521</td>\n",
       "    </tr>\n",
       "    <tr>\n",
       "      <td>35</td>\n",
       "      <td>BTM</td>\n",
       "      <td>BTM</td>\n",
       "      <td>Butte, MT</td>\n",
       "      <td>Bert Mooney</td>\n",
       "      <td>1589137899521</td>\n",
       "    </tr>\n",
       "    <tr>\n",
       "      <td>36</td>\n",
       "      <td>ADQ</td>\n",
       "      <td>ADQ</td>\n",
       "      <td>Kodiak, AK</td>\n",
       "      <td>Kodiak Airport</td>\n",
       "      <td>1589137899521</td>\n",
       "    </tr>\n",
       "    <tr>\n",
       "      <td>37</td>\n",
       "      <td>KTN</td>\n",
       "      <td>KTN</td>\n",
       "      <td>Ketchikan, AK</td>\n",
       "      <td>Ketchikan International</td>\n",
       "      <td>1589137899521</td>\n",
       "    </tr>\n",
       "    <tr>\n",
       "      <td>38</td>\n",
       "      <td>BET</td>\n",
       "      <td>BET</td>\n",
       "      <td>Bethel, AK</td>\n",
       "      <td>Bethel Airport</td>\n",
       "      <td>1589137899521</td>\n",
       "    </tr>\n",
       "  </tbody>\n",
       "</table>\n",
       "</div>"
      ],
      "text/plain": [
       "     id airport_code                   airport_city  \\\n",
       "0   OTZ          OTZ                   Kotzebue, AK   \n",
       "1   SCC          SCC                  Deadhorse, AK   \n",
       "2   BUR          BUR                    Burbank, CA   \n",
       "3   CDV          CDV                    Cordova, AK   \n",
       "4   FAI          FAI                  Fairbanks, AK   \n",
       "5   SGU          SGU                 St. George, UT   \n",
       "6   VEL          VEL                     Vernal, UT   \n",
       "7   LMT          LMT              Klamath Falls, OR   \n",
       "8   WRG          WRG                   Wrangell, AK   \n",
       "9   DLG          DLG                 Dillingham, AK   \n",
       "10  GST          GST                   Gustavus, AK   \n",
       "11  OME          OME                       Nome, AK   \n",
       "12  CDC          CDC                 Cedar City, UT   \n",
       "13  BRW          BRW                     Barrow, AK   \n",
       "14  TWF          TWF                 Twin Falls, ID   \n",
       "15  PIH          PIH                  Pocatello, ID   \n",
       "16  IDA          IDA                Idaho Falls, ID   \n",
       "17  EKO          EKO                       Elko, NV   \n",
       "18  COD          COD                       Cody, WY   \n",
       "19  LWS          LWS                   Lewiston, ID   \n",
       "20  PSG          PSG                 Petersburg, AK   \n",
       "21  LGB          LGB                 Long Beach, CA   \n",
       "22  HLN          HLN                     Helena, MT   \n",
       "23  GEG          GEG                    Spokane, WA   \n",
       "24  OAK          OAK                    Oakland, CA   \n",
       "25  GTF          GTF                Great Falls, MT   \n",
       "26  JNU          JNU                     Juneau, AK   \n",
       "27  AKN          AKN                King Salmon, AK   \n",
       "28  YAK          YAK                    Yakutat, AK   \n",
       "29  ADK          ADK                Adak Island, AK   \n",
       "30  WYS          WYS           West Yellowstone, MT   \n",
       "31  SIT          SIT                      Sitka, AK   \n",
       "32  SUN          SUN  Sun Valley/Hailey/Ketchum, ID   \n",
       "33  ENV          ENV                   Wendover, UT   \n",
       "34  ANC          ANC                  Anchorage, AK   \n",
       "35  BTM          BTM                      Butte, MT   \n",
       "36  ADQ          ADQ                     Kodiak, AK   \n",
       "37  KTN          KTN                  Ketchikan, AK   \n",
       "38  BET          BET                     Bethel, AK   \n",
       "\n",
       "                            airport_name          label  \n",
       "0                    Ralph Wien Memorial  1589137899521  \n",
       "1                      Deadhorse Airport  1589137899521  \n",
       "2                               Bob Hope  1589137899521  \n",
       "3                  Merle K Mudhole Smith  1589137899521  \n",
       "4                Fairbanks International  1589137899521  \n",
       "5                     St George Regional  1589137899521  \n",
       "6                        Vernal Regional  1589137899521  \n",
       "7           Crater Lake Klamath Regional  1589137899521  \n",
       "8                       Wrangell Airport  1589137899521  \n",
       "9                     Dillingham Airport  1589137899521  \n",
       "10                      Gustavus Airport  1589137899521  \n",
       "11                          Nome Airport  1589137899521  \n",
       "12                   Cedar City Regional  1589137899521  \n",
       "13       Wiley Post/Will Rogers Memorial  1589137899521  \n",
       "14  Joslin Field - Magic Valley Regional  1589137899521  \n",
       "15                    Pocatello Regional  1589137899521  \n",
       "16                  Idaho Falls Regional  1589137899521  \n",
       "17                         Elko Regional  1589137899521  \n",
       "18                  Yellowstone Regional  1589137899521  \n",
       "19             Lewiston Nez Perce County  1589137899521  \n",
       "20            Petersburg James A Johnson  1589137899521  \n",
       "21                    Long Beach Airport  1589137899521  \n",
       "22                       Helena Regional  1589137899521  \n",
       "23                 Spokane International  1589137899521  \n",
       "24    Metropolitan Oakland International  1589137899521  \n",
       "25             Great Falls International  1589137899521  \n",
       "26                  Juneau International  1589137899521  \n",
       "27                   King Salmon Airport  1589137899521  \n",
       "28                       Yakutat Airport  1589137899521  \n",
       "29                                  Adak  1589137899521  \n",
       "30                           Yellowstone  1589137899521  \n",
       "31                 Sitka Rocky Gutierrez  1589137899521  \n",
       "32                     Friedman Memorial  1589137899521  \n",
       "33                      Wendover Airport  1589137899521  \n",
       "34   Ted Stevens Anchorage International  1589137899521  \n",
       "35                           Bert Mooney  1589137899521  \n",
       "36                        Kodiak Airport  1589137899521  \n",
       "37               Ketchikan International  1589137899521  \n",
       "38                        Bethel Airport  1589137899521  "
      ]
     },
     "execution_count": 50,
     "metadata": {},
     "output_type": "execute_result"
    }
   ],
   "source": [
    "g_lpa.filter('label = 1589137899521') \\\n",
    "    .toPandas()"
   ]
  },
  {
   "cell_type": "code",
   "execution_count": 51,
   "metadata": {
    "hidden": true,
    "slideshow": {
     "slide_type": "subslide"
    }
   },
   "outputs": [
    {
     "data": {
      "text/html": [
       "<div>\n",
       "<style scoped>\n",
       "    .dataframe tbody tr th:only-of-type {\n",
       "        vertical-align: middle;\n",
       "    }\n",
       "\n",
       "    .dataframe tbody tr th {\n",
       "        vertical-align: top;\n",
       "    }\n",
       "\n",
       "    .dataframe thead th {\n",
       "        text-align: right;\n",
       "    }\n",
       "</style>\n",
       "<table border=\"1\" class=\"dataframe\">\n",
       "  <thead>\n",
       "    <tr style=\"text-align: right;\">\n",
       "      <th></th>\n",
       "      <th>id</th>\n",
       "      <th>airport_code</th>\n",
       "      <th>airport_city</th>\n",
       "      <th>airport_name</th>\n",
       "      <th>label</th>\n",
       "    </tr>\n",
       "  </thead>\n",
       "  <tbody>\n",
       "    <tr>\n",
       "      <td>0</td>\n",
       "      <td>ITO</td>\n",
       "      <td>ITO</td>\n",
       "      <td>Hilo, HI</td>\n",
       "      <td>Hilo International</td>\n",
       "      <td>5583457484800</td>\n",
       "    </tr>\n",
       "    <tr>\n",
       "      <td>1</td>\n",
       "      <td>GUM</td>\n",
       "      <td>GUM</td>\n",
       "      <td>Guam, TT</td>\n",
       "      <td>Guam International</td>\n",
       "      <td>5583457484800</td>\n",
       "    </tr>\n",
       "    <tr>\n",
       "      <td>2</td>\n",
       "      <td>KOA</td>\n",
       "      <td>KOA</td>\n",
       "      <td>Kona, HI</td>\n",
       "      <td>Ellison Onizuka Kona International at Keahole</td>\n",
       "      <td>5583457484800</td>\n",
       "    </tr>\n",
       "    <tr>\n",
       "      <td>3</td>\n",
       "      <td>PPG</td>\n",
       "      <td>PPG</td>\n",
       "      <td>Pago Pago, TT</td>\n",
       "      <td>Pago Pago International</td>\n",
       "      <td>5583457484800</td>\n",
       "    </tr>\n",
       "    <tr>\n",
       "      <td>4</td>\n",
       "      <td>LIH</td>\n",
       "      <td>LIH</td>\n",
       "      <td>Lihue, HI</td>\n",
       "      <td>Lihue Airport</td>\n",
       "      <td>5583457484800</td>\n",
       "    </tr>\n",
       "    <tr>\n",
       "      <td>5</td>\n",
       "      <td>OGG</td>\n",
       "      <td>OGG</td>\n",
       "      <td>Kahului, HI</td>\n",
       "      <td>Kahului Airport</td>\n",
       "      <td>5583457484800</td>\n",
       "    </tr>\n",
       "  </tbody>\n",
       "</table>\n",
       "</div>"
      ],
      "text/plain": [
       "    id airport_code   airport_city  \\\n",
       "0  ITO          ITO       Hilo, HI   \n",
       "1  GUM          GUM       Guam, TT   \n",
       "2  KOA          KOA       Kona, HI   \n",
       "3  PPG          PPG  Pago Pago, TT   \n",
       "4  LIH          LIH      Lihue, HI   \n",
       "5  OGG          OGG    Kahului, HI   \n",
       "\n",
       "                                    airport_name          label  \n",
       "0                             Hilo International  5583457484800  \n",
       "1                             Guam International  5583457484800  \n",
       "2  Ellison Onizuka Kona International at Keahole  5583457484800  \n",
       "3                        Pago Pago International  5583457484800  \n",
       "4                                  Lihue Airport  5583457484800  \n",
       "5                                Kahului Airport  5583457484800  "
      ]
     },
     "execution_count": 51,
     "metadata": {},
     "output_type": "execute_result"
    }
   ],
   "source": [
    "g_lpa.filter('label = 5583457484800') \\\n",
    "    .limit(10).toPandas()"
   ]
  },
  {
   "cell_type": "code",
   "execution_count": 52,
   "metadata": {
    "hidden": true,
    "slideshow": {
     "slide_type": "subslide"
    }
   },
   "outputs": [
    {
     "data": {
      "text/html": [
       "<div>\n",
       "<style scoped>\n",
       "    .dataframe tbody tr th:only-of-type {\n",
       "        vertical-align: middle;\n",
       "    }\n",
       "\n",
       "    .dataframe tbody tr th {\n",
       "        vertical-align: top;\n",
       "    }\n",
       "\n",
       "    .dataframe thead th {\n",
       "        text-align: right;\n",
       "    }\n",
       "</style>\n",
       "<table border=\"1\" class=\"dataframe\">\n",
       "  <thead>\n",
       "    <tr style=\"text-align: right;\">\n",
       "      <th></th>\n",
       "      <th>id</th>\n",
       "      <th>airport_code</th>\n",
       "      <th>airport_city</th>\n",
       "      <th>airport_name</th>\n",
       "      <th>label</th>\n",
       "    </tr>\n",
       "  </thead>\n",
       "  <tbody>\n",
       "    <tr>\n",
       "      <td>0</td>\n",
       "      <td>HNL</td>\n",
       "      <td>HNL</td>\n",
       "      <td>Honolulu, HI</td>\n",
       "      <td>Daniel K Inouye International</td>\n",
       "      <td>5102421147648</td>\n",
       "    </tr>\n",
       "    <tr>\n",
       "      <td>1</td>\n",
       "      <td>SPN</td>\n",
       "      <td>SPN</td>\n",
       "      <td>Saipan, TT</td>\n",
       "      <td>Francisco C. Ada Saipan International</td>\n",
       "      <td>5102421147648</td>\n",
       "    </tr>\n",
       "  </tbody>\n",
       "</table>\n",
       "</div>"
      ],
      "text/plain": [
       "    id airport_code  airport_city                           airport_name  \\\n",
       "0  HNL          HNL  Honolulu, HI          Daniel K Inouye International   \n",
       "1  SPN          SPN    Saipan, TT  Francisco C. Ada Saipan International   \n",
       "\n",
       "           label  \n",
       "0  5102421147648  \n",
       "1  5102421147648  "
      ]
     },
     "execution_count": 52,
     "metadata": {},
     "output_type": "execute_result"
    }
   ],
   "source": [
    "g_lpa.filter('label = 5102421147648') \\\n",
    "    .limit(10).toPandas()"
   ]
  },
  {
   "cell_type": "markdown",
   "metadata": {
    "heading_collapsed": true,
    "hidden": true,
    "slideshow": {
     "slide_type": "slide"
    }
   },
   "source": [
    "#### PageRank"
   ]
  },
  {
   "cell_type": "code",
   "execution_count": 53,
   "metadata": {
    "hidden": true,
    "slideshow": {
     "slide_type": "subslide"
    }
   },
   "outputs": [
    {
     "name": "stdout",
     "output_type": "stream",
     "text": [
      "CPU times: user 21.4 ms, sys: 4.02 ms, total: 25.4 ms\n",
      "Wall time: 2min 14s\n"
     ]
    }
   ],
   "source": [
    "%%time\n",
    "g_pr = g.pageRank(resetProbability=0.15, tol=0.01)\n",
    "g_pr_v = g_pr.vertices.checkpoint()"
   ]
  },
  {
   "cell_type": "code",
   "execution_count": 54,
   "metadata": {
    "hidden": true,
    "slideshow": {
     "slide_type": "subslide"
    }
   },
   "outputs": [
    {
     "data": {
      "text/html": [
       "<div>\n",
       "<style scoped>\n",
       "    .dataframe tbody tr th:only-of-type {\n",
       "        vertical-align: middle;\n",
       "    }\n",
       "\n",
       "    .dataframe tbody tr th {\n",
       "        vertical-align: top;\n",
       "    }\n",
       "\n",
       "    .dataframe thead th {\n",
       "        text-align: right;\n",
       "    }\n",
       "</style>\n",
       "<table border=\"1\" class=\"dataframe\">\n",
       "  <thead>\n",
       "    <tr style=\"text-align: right;\">\n",
       "      <th></th>\n",
       "      <th>id</th>\n",
       "      <th>airport_code</th>\n",
       "      <th>airport_city</th>\n",
       "      <th>airport_name</th>\n",
       "      <th>pagerank</th>\n",
       "    </tr>\n",
       "  </thead>\n",
       "  <tbody>\n",
       "    <tr>\n",
       "      <td>0</td>\n",
       "      <td>ATL</td>\n",
       "      <td>ATL</td>\n",
       "      <td>Atlanta, GA</td>\n",
       "      <td>Hartsfield-Jackson Atlanta International</td>\n",
       "      <td>19.737152</td>\n",
       "    </tr>\n",
       "    <tr>\n",
       "      <td>1</td>\n",
       "      <td>ORD</td>\n",
       "      <td>ORD</td>\n",
       "      <td>Chicago, IL</td>\n",
       "      <td>Chicago O'Hare International</td>\n",
       "      <td>16.855455</td>\n",
       "    </tr>\n",
       "    <tr>\n",
       "      <td>2</td>\n",
       "      <td>DFW</td>\n",
       "      <td>DFW</td>\n",
       "      <td>Dallas/Fort Worth, TX</td>\n",
       "      <td>Dallas/Fort Worth International</td>\n",
       "      <td>14.692520</td>\n",
       "    </tr>\n",
       "    <tr>\n",
       "      <td>3</td>\n",
       "      <td>DEN</td>\n",
       "      <td>DEN</td>\n",
       "      <td>Denver, CO</td>\n",
       "      <td>Denver International</td>\n",
       "      <td>13.442911</td>\n",
       "    </tr>\n",
       "    <tr>\n",
       "      <td>4</td>\n",
       "      <td>LAX</td>\n",
       "      <td>LAX</td>\n",
       "      <td>Los Angeles, CA</td>\n",
       "      <td>Los Angeles International</td>\n",
       "      <td>10.633261</td>\n",
       "    </tr>\n",
       "  </tbody>\n",
       "</table>\n",
       "</div>"
      ],
      "text/plain": [
       "    id airport_code           airport_city  \\\n",
       "0  ATL          ATL            Atlanta, GA   \n",
       "1  ORD          ORD            Chicago, IL   \n",
       "2  DFW          DFW  Dallas/Fort Worth, TX   \n",
       "3  DEN          DEN             Denver, CO   \n",
       "4  LAX          LAX        Los Angeles, CA   \n",
       "\n",
       "                               airport_name   pagerank  \n",
       "0  Hartsfield-Jackson Atlanta International  19.737152  \n",
       "1              Chicago O'Hare International  16.855455  \n",
       "2           Dallas/Fort Worth International  14.692520  \n",
       "3                      Denver International  13.442911  \n",
       "4                 Los Angeles International  10.633261  "
      ]
     },
     "execution_count": 54,
     "metadata": {},
     "output_type": "execute_result"
    }
   ],
   "source": [
    "g_pr_v.orderBy(F.desc('pagerank')).limit(5).toPandas()"
   ]
  },
  {
   "cell_type": "code",
   "execution_count": 55,
   "metadata": {
    "hidden": true,
    "slideshow": {
     "slide_type": "subslide"
    }
   },
   "outputs": [
    {
     "name": "stdout",
     "output_type": "stream",
     "text": [
      "CPU times: user 3.69 ms, sys: 4.34 ms, total: 8.03 ms\n",
      "Wall time: 32.2 s\n"
     ]
    }
   ],
   "source": [
    "%%time\n",
    "g_pr_10 = g.pageRank(resetProbability=0.15, maxIter=5)\n",
    "g_pr_10_v = g_pr_10.vertices.checkpoint()"
   ]
  },
  {
   "cell_type": "code",
   "execution_count": 56,
   "metadata": {
    "hidden": true,
    "slideshow": {
     "slide_type": "subslide"
    }
   },
   "outputs": [
    {
     "data": {
      "text/html": [
       "<div>\n",
       "<style scoped>\n",
       "    .dataframe tbody tr th:only-of-type {\n",
       "        vertical-align: middle;\n",
       "    }\n",
       "\n",
       "    .dataframe tbody tr th {\n",
       "        vertical-align: top;\n",
       "    }\n",
       "\n",
       "    .dataframe thead th {\n",
       "        text-align: right;\n",
       "    }\n",
       "</style>\n",
       "<table border=\"1\" class=\"dataframe\">\n",
       "  <thead>\n",
       "    <tr style=\"text-align: right;\">\n",
       "      <th></th>\n",
       "      <th>id</th>\n",
       "      <th>airport_code</th>\n",
       "      <th>airport_city</th>\n",
       "      <th>airport_name</th>\n",
       "      <th>pagerank</th>\n",
       "    </tr>\n",
       "  </thead>\n",
       "  <tbody>\n",
       "    <tr>\n",
       "      <td>0</td>\n",
       "      <td>ATL</td>\n",
       "      <td>ATL</td>\n",
       "      <td>Atlanta, GA</td>\n",
       "      <td>Hartsfield-Jackson Atlanta International</td>\n",
       "      <td>21.306141</td>\n",
       "    </tr>\n",
       "    <tr>\n",
       "      <td>1</td>\n",
       "      <td>ORD</td>\n",
       "      <td>ORD</td>\n",
       "      <td>Chicago, IL</td>\n",
       "      <td>Chicago O'Hare International</td>\n",
       "      <td>17.981142</td>\n",
       "    </tr>\n",
       "    <tr>\n",
       "      <td>2</td>\n",
       "      <td>DFW</td>\n",
       "      <td>DFW</td>\n",
       "      <td>Dallas/Fort Worth, TX</td>\n",
       "      <td>Dallas/Fort Worth International</td>\n",
       "      <td>15.719129</td>\n",
       "    </tr>\n",
       "    <tr>\n",
       "      <td>3</td>\n",
       "      <td>DEN</td>\n",
       "      <td>DEN</td>\n",
       "      <td>Denver, CO</td>\n",
       "      <td>Denver International</td>\n",
       "      <td>14.007626</td>\n",
       "    </tr>\n",
       "    <tr>\n",
       "      <td>4</td>\n",
       "      <td>LAX</td>\n",
       "      <td>LAX</td>\n",
       "      <td>Los Angeles, CA</td>\n",
       "      <td>Los Angeles International</td>\n",
       "      <td>10.777033</td>\n",
       "    </tr>\n",
       "  </tbody>\n",
       "</table>\n",
       "</div>"
      ],
      "text/plain": [
       "    id airport_code           airport_city  \\\n",
       "0  ATL          ATL            Atlanta, GA   \n",
       "1  ORD          ORD            Chicago, IL   \n",
       "2  DFW          DFW  Dallas/Fort Worth, TX   \n",
       "3  DEN          DEN             Denver, CO   \n",
       "4  LAX          LAX        Los Angeles, CA   \n",
       "\n",
       "                               airport_name   pagerank  \n",
       "0  Hartsfield-Jackson Atlanta International  21.306141  \n",
       "1              Chicago O'Hare International  17.981142  \n",
       "2           Dallas/Fort Worth International  15.719129  \n",
       "3                      Denver International  14.007626  \n",
       "4                 Los Angeles International  10.777033  "
      ]
     },
     "execution_count": 56,
     "metadata": {},
     "output_type": "execute_result"
    }
   ],
   "source": [
    "g_pr_10_v.orderBy(F.desc('pagerank')).limit(5).toPandas()"
   ]
  },
  {
   "cell_type": "code",
   "execution_count": 57,
   "metadata": {
    "hidden": true,
    "slideshow": {
     "slide_type": "subslide"
    }
   },
   "outputs": [
    {
     "name": "stdout",
     "output_type": "stream",
     "text": [
      "CPU times: user 10.7 ms, sys: 2.74 ms, total: 13.4 ms\n",
      "Wall time: 55.2 s\n"
     ]
    }
   ],
   "source": [
    "%%time\n",
    "g_pr_ORD = g.pageRank(resetProbability=0.15, maxIter=10, sourceId=\"ORD\")\n",
    "g_pr_ORD_v = g_pr_ORD.vertices.checkpoint()"
   ]
  },
  {
   "cell_type": "code",
   "execution_count": 58,
   "metadata": {
    "hidden": true,
    "slideshow": {
     "slide_type": "subslide"
    }
   },
   "outputs": [
    {
     "data": {
      "text/html": [
       "<div>\n",
       "<style scoped>\n",
       "    .dataframe tbody tr th:only-of-type {\n",
       "        vertical-align: middle;\n",
       "    }\n",
       "\n",
       "    .dataframe tbody tr th {\n",
       "        vertical-align: top;\n",
       "    }\n",
       "\n",
       "    .dataframe thead th {\n",
       "        text-align: right;\n",
       "    }\n",
       "</style>\n",
       "<table border=\"1\" class=\"dataframe\">\n",
       "  <thead>\n",
       "    <tr style=\"text-align: right;\">\n",
       "      <th></th>\n",
       "      <th>id</th>\n",
       "      <th>airport_code</th>\n",
       "      <th>airport_city</th>\n",
       "      <th>airport_name</th>\n",
       "      <th>pagerank</th>\n",
       "    </tr>\n",
       "  </thead>\n",
       "  <tbody>\n",
       "    <tr>\n",
       "      <td>0</td>\n",
       "      <td>ORD</td>\n",
       "      <td>ORD</td>\n",
       "      <td>Chicago, IL</td>\n",
       "      <td>Chicago O'Hare International</td>\n",
       "      <td>0.194248</td>\n",
       "    </tr>\n",
       "    <tr>\n",
       "      <td>1</td>\n",
       "      <td>ATL</td>\n",
       "      <td>ATL</td>\n",
       "      <td>Atlanta, GA</td>\n",
       "      <td>Hartsfield-Jackson Atlanta International</td>\n",
       "      <td>0.050676</td>\n",
       "    </tr>\n",
       "    <tr>\n",
       "      <td>2</td>\n",
       "      <td>DFW</td>\n",
       "      <td>DFW</td>\n",
       "      <td>Dallas/Fort Worth, TX</td>\n",
       "      <td>Dallas/Fort Worth International</td>\n",
       "      <td>0.033280</td>\n",
       "    </tr>\n",
       "    <tr>\n",
       "      <td>3</td>\n",
       "      <td>DEN</td>\n",
       "      <td>DEN</td>\n",
       "      <td>Denver, CO</td>\n",
       "      <td>Denver International</td>\n",
       "      <td>0.028849</td>\n",
       "    </tr>\n",
       "    <tr>\n",
       "      <td>4</td>\n",
       "      <td>LAX</td>\n",
       "      <td>LAX</td>\n",
       "      <td>Los Angeles, CA</td>\n",
       "      <td>Los Angeles International</td>\n",
       "      <td>0.026747</td>\n",
       "    </tr>\n",
       "  </tbody>\n",
       "</table>\n",
       "</div>"
      ],
      "text/plain": [
       "    id airport_code           airport_city  \\\n",
       "0  ORD          ORD            Chicago, IL   \n",
       "1  ATL          ATL            Atlanta, GA   \n",
       "2  DFW          DFW  Dallas/Fort Worth, TX   \n",
       "3  DEN          DEN             Denver, CO   \n",
       "4  LAX          LAX        Los Angeles, CA   \n",
       "\n",
       "                               airport_name  pagerank  \n",
       "0              Chicago O'Hare International  0.194248  \n",
       "1  Hartsfield-Jackson Atlanta International  0.050676  \n",
       "2           Dallas/Fort Worth International  0.033280  \n",
       "3                      Denver International  0.028849  \n",
       "4                 Los Angeles International  0.026747  "
      ]
     },
     "execution_count": 58,
     "metadata": {},
     "output_type": "execute_result"
    }
   ],
   "source": [
    "g_pr_ORD_v.orderBy(F.desc('pagerank')).limit(5).toPandas()"
   ]
  },
  {
   "cell_type": "code",
   "execution_count": 59,
   "metadata": {
    "hidden": true,
    "slideshow": {
     "slide_type": "subslide"
    }
   },
   "outputs": [
    {
     "name": "stdout",
     "output_type": "stream",
     "text": [
      "CPU times: user 13 ms, sys: 337 µs, total: 13.3 ms\n",
      "Wall time: 59.4 s\n"
     ]
    }
   ],
   "source": [
    "%%time\n",
    "g_pr_parellel = g.parallelPersonalizedPageRank(resetProbability=0.15, sourceIds=[\"ORD\", \"JNU\", \"PHL\"], maxIter=10)\n",
    "g_pr_parellel_v = g_pr_parellel.vertices.checkpoint()"
   ]
  },
  {
   "cell_type": "code",
   "execution_count": 60,
   "metadata": {
    "hidden": true,
    "slideshow": {
     "slide_type": "subslide"
    }
   },
   "outputs": [
    {
     "data": {
      "text/html": [
       "<div>\n",
       "<style scoped>\n",
       "    .dataframe tbody tr th:only-of-type {\n",
       "        vertical-align: middle;\n",
       "    }\n",
       "\n",
       "    .dataframe tbody tr th {\n",
       "        vertical-align: top;\n",
       "    }\n",
       "\n",
       "    .dataframe thead th {\n",
       "        text-align: right;\n",
       "    }\n",
       "</style>\n",
       "<table border=\"1\" class=\"dataframe\">\n",
       "  <thead>\n",
       "    <tr style=\"text-align: right;\">\n",
       "      <th></th>\n",
       "      <th>airport_code</th>\n",
       "      <th>airport_city</th>\n",
       "      <th>airport_name</th>\n",
       "      <th>pageranks</th>\n",
       "    </tr>\n",
       "  </thead>\n",
       "  <tbody>\n",
       "    <tr>\n",
       "      <td>0</td>\n",
       "      <td>ORD</td>\n",
       "      <td>Chicago, IL</td>\n",
       "      <td>Chicago O'Hare International</td>\n",
       "      <td>[0.1942484689461799, 0.024150665305785652, 0.0...</td>\n",
       "    </tr>\n",
       "    <tr>\n",
       "      <td>1</td>\n",
       "      <td>ATL</td>\n",
       "      <td>Atlanta, GA</td>\n",
       "      <td>Hartsfield-Jackson Atlanta International</td>\n",
       "      <td>[0.0506758879045678, 0.02461232184837368, 0.05...</td>\n",
       "    </tr>\n",
       "    <tr>\n",
       "      <td>2</td>\n",
       "      <td>DFW</td>\n",
       "      <td>Dallas/Fort Worth, TX</td>\n",
       "      <td>Dallas/Fort Worth International</td>\n",
       "      <td>[0.03327998756177438, 0.019741051812792114, 0....</td>\n",
       "    </tr>\n",
       "    <tr>\n",
       "      <td>3</td>\n",
       "      <td>DEN</td>\n",
       "      <td>Denver, CO</td>\n",
       "      <td>Denver International</td>\n",
       "      <td>[0.028849285153795885, 0.023137743862173148, 0...</td>\n",
       "    </tr>\n",
       "    <tr>\n",
       "      <td>4</td>\n",
       "      <td>LAX</td>\n",
       "      <td>Los Angeles, CA</td>\n",
       "      <td>Los Angeles International</td>\n",
       "      <td>[0.026746985966971316, 0.025543865040019483, 0...</td>\n",
       "    </tr>\n",
       "  </tbody>\n",
       "</table>\n",
       "</div>"
      ],
      "text/plain": [
       "  airport_code           airport_city  \\\n",
       "0          ORD            Chicago, IL   \n",
       "1          ATL            Atlanta, GA   \n",
       "2          DFW  Dallas/Fort Worth, TX   \n",
       "3          DEN             Denver, CO   \n",
       "4          LAX        Los Angeles, CA   \n",
       "\n",
       "                               airport_name  \\\n",
       "0              Chicago O'Hare International   \n",
       "1  Hartsfield-Jackson Atlanta International   \n",
       "2           Dallas/Fort Worth International   \n",
       "3                      Denver International   \n",
       "4                 Los Angeles International   \n",
       "\n",
       "                                           pageranks  \n",
       "0  [0.1942484689461799, 0.024150665305785652, 0.0...  \n",
       "1  [0.0506758879045678, 0.02461232184837368, 0.05...  \n",
       "2  [0.03327998756177438, 0.019741051812792114, 0....  \n",
       "3  [0.028849285153795885, 0.023137743862173148, 0...  \n",
       "4  [0.026746985966971316, 0.025543865040019483, 0...  "
      ]
     },
     "execution_count": 60,
     "metadata": {},
     "output_type": "execute_result"
    }
   ],
   "source": [
    "g_pr_parellel_v.orderBy(F.desc('pageranks')).drop('id').limit(5).toPandas()"
   ]
  },
  {
   "cell_type": "markdown",
   "metadata": {
    "heading_collapsed": true,
    "hidden": true,
    "slideshow": {
     "slide_type": "slide"
    }
   },
   "source": [
    "#### Shortest Path"
   ]
  },
  {
   "cell_type": "code",
   "execution_count": 61,
   "metadata": {
    "hidden": true,
    "slideshow": {
     "slide_type": "subslide"
    }
   },
   "outputs": [
    {
     "name": "stdout",
     "output_type": "stream",
     "text": [
      "CPU times: user 6.38 ms, sys: 815 µs, total: 7.19 ms\n",
      "Wall time: 40.2 s\n"
     ]
    }
   ],
   "source": [
    "%%time\n",
    "g_sp = g.shortestPaths(landmarks=[\"PHL\"])\n",
    "g_sp = g_sp.checkpoint()"
   ]
  },
  {
   "cell_type": "code",
   "execution_count": 62,
   "metadata": {
    "hidden": true,
    "slideshow": {
     "slide_type": "subslide"
    }
   },
   "outputs": [
    {
     "data": {
      "text/html": [
       "<div>\n",
       "<style scoped>\n",
       "    .dataframe tbody tr th:only-of-type {\n",
       "        vertical-align: middle;\n",
       "    }\n",
       "\n",
       "    .dataframe tbody tr th {\n",
       "        vertical-align: top;\n",
       "    }\n",
       "\n",
       "    .dataframe thead th {\n",
       "        text-align: right;\n",
       "    }\n",
       "</style>\n",
       "<table border=\"1\" class=\"dataframe\">\n",
       "  <thead>\n",
       "    <tr style=\"text-align: right;\">\n",
       "      <th></th>\n",
       "      <th>id</th>\n",
       "      <th>airport_code</th>\n",
       "      <th>airport_city</th>\n",
       "      <th>airport_name</th>\n",
       "      <th>distances</th>\n",
       "    </tr>\n",
       "  </thead>\n",
       "  <tbody>\n",
       "    <tr>\n",
       "      <td>0</td>\n",
       "      <td>MSY</td>\n",
       "      <td>MSY</td>\n",
       "      <td>New Orleans, LA</td>\n",
       "      <td>Louis Armstrong New Orleans International</td>\n",
       "      <td>{'PHL': 1}</td>\n",
       "    </tr>\n",
       "    <tr>\n",
       "      <td>1</td>\n",
       "      <td>OTZ</td>\n",
       "      <td>OTZ</td>\n",
       "      <td>Kotzebue, AK</td>\n",
       "      <td>Ralph Wien Memorial</td>\n",
       "      <td>{'PHL': 3}</td>\n",
       "    </tr>\n",
       "    <tr>\n",
       "      <td>2</td>\n",
       "      <td>FLG</td>\n",
       "      <td>FLG</td>\n",
       "      <td>Flagstaff, AZ</td>\n",
       "      <td>Flagstaff Pulliam</td>\n",
       "      <td>{'PHL': 2}</td>\n",
       "    </tr>\n",
       "    <tr>\n",
       "      <td>3</td>\n",
       "      <td>HHH</td>\n",
       "      <td>HHH</td>\n",
       "      <td>Hilton Head, SC</td>\n",
       "      <td>Hilton Head Airport</td>\n",
       "      <td>{'PHL': 2}</td>\n",
       "    </tr>\n",
       "    <tr>\n",
       "      <td>4</td>\n",
       "      <td>ABI</td>\n",
       "      <td>ABI</td>\n",
       "      <td>Abilene, TX</td>\n",
       "      <td>Abilene Regional</td>\n",
       "      <td>{'PHL': 2}</td>\n",
       "    </tr>\n",
       "  </tbody>\n",
       "</table>\n",
       "</div>"
      ],
      "text/plain": [
       "    id airport_code     airport_city  \\\n",
       "0  MSY          MSY  New Orleans, LA   \n",
       "1  OTZ          OTZ     Kotzebue, AK   \n",
       "2  FLG          FLG    Flagstaff, AZ   \n",
       "3  HHH          HHH  Hilton Head, SC   \n",
       "4  ABI          ABI      Abilene, TX   \n",
       "\n",
       "                                airport_name   distances  \n",
       "0  Louis Armstrong New Orleans International  {'PHL': 1}  \n",
       "1                        Ralph Wien Memorial  {'PHL': 3}  \n",
       "2                          Flagstaff Pulliam  {'PHL': 2}  \n",
       "3                        Hilton Head Airport  {'PHL': 2}  \n",
       "4                           Abilene Regional  {'PHL': 2}  "
      ]
     },
     "execution_count": 62,
     "metadata": {},
     "output_type": "execute_result"
    }
   ],
   "source": [
    "g_sp.limit(5).toPandas()"
   ]
  },
  {
   "cell_type": "code",
   "execution_count": 63,
   "metadata": {
    "hidden": true,
    "slideshow": {
     "slide_type": "subslide"
    }
   },
   "outputs": [
    {
     "name": "stdout",
     "output_type": "stream",
     "text": [
      "root\n",
      " |-- id: string (nullable = true)\n",
      " |-- airport_code: string (nullable = true)\n",
      " |-- airport_city: string (nullable = true)\n",
      " |-- airport_name: string (nullable = true)\n",
      " |-- distances: map (nullable = true)\n",
      " |    |-- key: string\n",
      " |    |-- value: integer (valueContainsNull = false)\n",
      "\n"
     ]
    }
   ],
   "source": [
    "g_sp.printSchema()"
   ]
  },
  {
   "cell_type": "code",
   "execution_count": 64,
   "metadata": {
    "hidden": true,
    "slideshow": {
     "slide_type": "subslide"
    }
   },
   "outputs": [
    {
     "data": {
      "text/html": [
       "<div>\n",
       "<style scoped>\n",
       "    .dataframe tbody tr th:only-of-type {\n",
       "        vertical-align: middle;\n",
       "    }\n",
       "\n",
       "    .dataframe tbody tr th {\n",
       "        vertical-align: top;\n",
       "    }\n",
       "\n",
       "    .dataframe thead th {\n",
       "        text-align: right;\n",
       "    }\n",
       "</style>\n",
       "<table border=\"1\" class=\"dataframe\">\n",
       "  <thead>\n",
       "    <tr style=\"text-align: right;\">\n",
       "      <th></th>\n",
       "      <th>id</th>\n",
       "      <th>airport_code</th>\n",
       "      <th>airport_city</th>\n",
       "      <th>airport_name</th>\n",
       "      <th>distances</th>\n",
       "      <th>distance</th>\n",
       "    </tr>\n",
       "  </thead>\n",
       "  <tbody>\n",
       "    <tr>\n",
       "      <td>0</td>\n",
       "      <td>SPN</td>\n",
       "      <td>SPN</td>\n",
       "      <td>Saipan, TT</td>\n",
       "      <td>Francisco C. Ada Saipan International</td>\n",
       "      <td>{'PHL': 4}</td>\n",
       "      <td>4</td>\n",
       "    </tr>\n",
       "    <tr>\n",
       "      <td>1</td>\n",
       "      <td>PPG</td>\n",
       "      <td>PPG</td>\n",
       "      <td>Pago Pago, TT</td>\n",
       "      <td>Pago Pago International</td>\n",
       "      <td>{'PHL': 3}</td>\n",
       "      <td>3</td>\n",
       "    </tr>\n",
       "    <tr>\n",
       "      <td>2</td>\n",
       "      <td>OME</td>\n",
       "      <td>OME</td>\n",
       "      <td>Nome, AK</td>\n",
       "      <td>Nome Airport</td>\n",
       "      <td>{'PHL': 3}</td>\n",
       "      <td>3</td>\n",
       "    </tr>\n",
       "    <tr>\n",
       "      <td>3</td>\n",
       "      <td>BET</td>\n",
       "      <td>BET</td>\n",
       "      <td>Bethel, AK</td>\n",
       "      <td>Bethel Airport</td>\n",
       "      <td>{'PHL': 3}</td>\n",
       "      <td>3</td>\n",
       "    </tr>\n",
       "    <tr>\n",
       "      <td>4</td>\n",
       "      <td>YAK</td>\n",
       "      <td>YAK</td>\n",
       "      <td>Yakutat, AK</td>\n",
       "      <td>Yakutat Airport</td>\n",
       "      <td>{'PHL': 3}</td>\n",
       "      <td>3</td>\n",
       "    </tr>\n",
       "    <tr>\n",
       "      <td>5</td>\n",
       "      <td>CDV</td>\n",
       "      <td>CDV</td>\n",
       "      <td>Cordova, AK</td>\n",
       "      <td>Merle K Mudhole Smith</td>\n",
       "      <td>{'PHL': 3}</td>\n",
       "      <td>3</td>\n",
       "    </tr>\n",
       "    <tr>\n",
       "      <td>6</td>\n",
       "      <td>WRG</td>\n",
       "      <td>WRG</td>\n",
       "      <td>Wrangell, AK</td>\n",
       "      <td>Wrangell Airport</td>\n",
       "      <td>{'PHL': 3}</td>\n",
       "      <td>3</td>\n",
       "    </tr>\n",
       "    <tr>\n",
       "      <td>7</td>\n",
       "      <td>TKI</td>\n",
       "      <td>TKI</td>\n",
       "      <td>Tokeen, AK</td>\n",
       "      <td>Tokeen Airport</td>\n",
       "      <td>{'PHL': 3}</td>\n",
       "      <td>3</td>\n",
       "    </tr>\n",
       "    <tr>\n",
       "      <td>8</td>\n",
       "      <td>BRW</td>\n",
       "      <td>BRW</td>\n",
       "      <td>Barrow, AK</td>\n",
       "      <td>Wiley Post/Will Rogers Memorial</td>\n",
       "      <td>{'PHL': 3}</td>\n",
       "      <td>3</td>\n",
       "    </tr>\n",
       "    <tr>\n",
       "      <td>9</td>\n",
       "      <td>GUM</td>\n",
       "      <td>GUM</td>\n",
       "      <td>Guam, TT</td>\n",
       "      <td>Guam International</td>\n",
       "      <td>{'PHL': 3}</td>\n",
       "      <td>3</td>\n",
       "    </tr>\n",
       "    <tr>\n",
       "      <td>10</td>\n",
       "      <td>AKN</td>\n",
       "      <td>AKN</td>\n",
       "      <td>King Salmon, AK</td>\n",
       "      <td>King Salmon Airport</td>\n",
       "      <td>{'PHL': 3}</td>\n",
       "      <td>3</td>\n",
       "    </tr>\n",
       "    <tr>\n",
       "      <td>11</td>\n",
       "      <td>OTZ</td>\n",
       "      <td>OTZ</td>\n",
       "      <td>Kotzebue, AK</td>\n",
       "      <td>Ralph Wien Memorial</td>\n",
       "      <td>{'PHL': 3}</td>\n",
       "      <td>3</td>\n",
       "    </tr>\n",
       "    <tr>\n",
       "      <td>12</td>\n",
       "      <td>DLG</td>\n",
       "      <td>DLG</td>\n",
       "      <td>Dillingham, AK</td>\n",
       "      <td>Dillingham Airport</td>\n",
       "      <td>{'PHL': 3}</td>\n",
       "      <td>3</td>\n",
       "    </tr>\n",
       "    <tr>\n",
       "      <td>13</td>\n",
       "      <td>OWB</td>\n",
       "      <td>OWB</td>\n",
       "      <td>Owensboro, KY</td>\n",
       "      <td>Owensboro Daviess County Regional</td>\n",
       "      <td>{'PHL': 3}</td>\n",
       "      <td>3</td>\n",
       "    </tr>\n",
       "    <tr>\n",
       "      <td>14</td>\n",
       "      <td>GST</td>\n",
       "      <td>GST</td>\n",
       "      <td>Gustavus, AK</td>\n",
       "      <td>Gustavus Airport</td>\n",
       "      <td>{'PHL': 3}</td>\n",
       "      <td>3</td>\n",
       "    </tr>\n",
       "    <tr>\n",
       "      <td>15</td>\n",
       "      <td>PSG</td>\n",
       "      <td>PSG</td>\n",
       "      <td>Petersburg, AK</td>\n",
       "      <td>Petersburg James A Johnson</td>\n",
       "      <td>{'PHL': 3}</td>\n",
       "      <td>3</td>\n",
       "    </tr>\n",
       "    <tr>\n",
       "      <td>16</td>\n",
       "      <td>ADQ</td>\n",
       "      <td>ADQ</td>\n",
       "      <td>Kodiak, AK</td>\n",
       "      <td>Kodiak Airport</td>\n",
       "      <td>{'PHL': 3}</td>\n",
       "      <td>3</td>\n",
       "    </tr>\n",
       "    <tr>\n",
       "      <td>17</td>\n",
       "      <td>YNG</td>\n",
       "      <td>YNG</td>\n",
       "      <td>Youngstown/Warren, OH</td>\n",
       "      <td>Youngstown-Warren Regional</td>\n",
       "      <td>{'PHL': 3}</td>\n",
       "      <td>3</td>\n",
       "    </tr>\n",
       "    <tr>\n",
       "      <td>18</td>\n",
       "      <td>ENV</td>\n",
       "      <td>ENV</td>\n",
       "      <td>Wendover, UT</td>\n",
       "      <td>Wendover Airport</td>\n",
       "      <td>{'PHL': 3}</td>\n",
       "      <td>3</td>\n",
       "    </tr>\n",
       "    <tr>\n",
       "      <td>19</td>\n",
       "      <td>SCC</td>\n",
       "      <td>SCC</td>\n",
       "      <td>Deadhorse, AK</td>\n",
       "      <td>Deadhorse Airport</td>\n",
       "      <td>{'PHL': 3}</td>\n",
       "      <td>3</td>\n",
       "    </tr>\n",
       "  </tbody>\n",
       "</table>\n",
       "</div>"
      ],
      "text/plain": [
       "     id airport_code           airport_city  \\\n",
       "0   SPN          SPN             Saipan, TT   \n",
       "1   PPG          PPG          Pago Pago, TT   \n",
       "2   OME          OME               Nome, AK   \n",
       "3   BET          BET             Bethel, AK   \n",
       "4   YAK          YAK            Yakutat, AK   \n",
       "5   CDV          CDV            Cordova, AK   \n",
       "6   WRG          WRG           Wrangell, AK   \n",
       "7   TKI          TKI             Tokeen, AK   \n",
       "8   BRW          BRW             Barrow, AK   \n",
       "9   GUM          GUM               Guam, TT   \n",
       "10  AKN          AKN        King Salmon, AK   \n",
       "11  OTZ          OTZ           Kotzebue, AK   \n",
       "12  DLG          DLG         Dillingham, AK   \n",
       "13  OWB          OWB          Owensboro, KY   \n",
       "14  GST          GST           Gustavus, AK   \n",
       "15  PSG          PSG         Petersburg, AK   \n",
       "16  ADQ          ADQ             Kodiak, AK   \n",
       "17  YNG          YNG  Youngstown/Warren, OH   \n",
       "18  ENV          ENV           Wendover, UT   \n",
       "19  SCC          SCC          Deadhorse, AK   \n",
       "\n",
       "                             airport_name   distances  distance  \n",
       "0   Francisco C. Ada Saipan International  {'PHL': 4}         4  \n",
       "1                 Pago Pago International  {'PHL': 3}         3  \n",
       "2                            Nome Airport  {'PHL': 3}         3  \n",
       "3                          Bethel Airport  {'PHL': 3}         3  \n",
       "4                         Yakutat Airport  {'PHL': 3}         3  \n",
       "5                   Merle K Mudhole Smith  {'PHL': 3}         3  \n",
       "6                        Wrangell Airport  {'PHL': 3}         3  \n",
       "7                          Tokeen Airport  {'PHL': 3}         3  \n",
       "8         Wiley Post/Will Rogers Memorial  {'PHL': 3}         3  \n",
       "9                      Guam International  {'PHL': 3}         3  \n",
       "10                    King Salmon Airport  {'PHL': 3}         3  \n",
       "11                    Ralph Wien Memorial  {'PHL': 3}         3  \n",
       "12                     Dillingham Airport  {'PHL': 3}         3  \n",
       "13      Owensboro Daviess County Regional  {'PHL': 3}         3  \n",
       "14                       Gustavus Airport  {'PHL': 3}         3  \n",
       "15             Petersburg James A Johnson  {'PHL': 3}         3  \n",
       "16                         Kodiak Airport  {'PHL': 3}         3  \n",
       "17             Youngstown-Warren Regional  {'PHL': 3}         3  \n",
       "18                       Wendover Airport  {'PHL': 3}         3  \n",
       "19                      Deadhorse Airport  {'PHL': 3}         3  "
      ]
     },
     "execution_count": 64,
     "metadata": {},
     "output_type": "execute_result"
    }
   ],
   "source": [
    "g_sp.withColumn('distance', F.map_values(F.col('distances'))[0]) \\\n",
    "    .orderBy(F.desc('distance')).limit(20).toPandas()"
   ]
  },
  {
   "cell_type": "markdown",
   "metadata": {
    "heading_collapsed": true,
    "hidden": true,
    "slideshow": {
     "slide_type": "slide"
    }
   },
   "source": [
    "#### Triangle Count"
   ]
  },
  {
   "cell_type": "code",
   "execution_count": 65,
   "metadata": {
    "hidden": true,
    "slideshow": {
     "slide_type": "subslide"
    }
   },
   "outputs": [
    {
     "name": "stdout",
     "output_type": "stream",
     "text": [
      "CPU times: user 3.77 ms, sys: 388 µs, total: 4.15 ms\n",
      "Wall time: 17.5 s\n"
     ]
    }
   ],
   "source": [
    "%%time\n",
    "g_tr = g.triangleCount()\n",
    "g_tr = g_tr.checkpoint()"
   ]
  },
  {
   "cell_type": "code",
   "execution_count": 66,
   "metadata": {
    "hidden": true,
    "slideshow": {
     "slide_type": "subslide"
    }
   },
   "outputs": [
    {
     "data": {
      "text/html": [
       "<div>\n",
       "<style scoped>\n",
       "    .dataframe tbody tr th:only-of-type {\n",
       "        vertical-align: middle;\n",
       "    }\n",
       "\n",
       "    .dataframe tbody tr th {\n",
       "        vertical-align: top;\n",
       "    }\n",
       "\n",
       "    .dataframe thead th {\n",
       "        text-align: right;\n",
       "    }\n",
       "</style>\n",
       "<table border=\"1\" class=\"dataframe\">\n",
       "  <thead>\n",
       "    <tr style=\"text-align: right;\">\n",
       "      <th></th>\n",
       "      <th>count</th>\n",
       "      <th>airport_code</th>\n",
       "      <th>airport_city</th>\n",
       "      <th>airport_name</th>\n",
       "    </tr>\n",
       "  </thead>\n",
       "  <tbody>\n",
       "    <tr>\n",
       "      <td>0</td>\n",
       "      <td>2787</td>\n",
       "      <td>ATL</td>\n",
       "      <td>Atlanta, GA</td>\n",
       "      <td>Hartsfield-Jackson Atlanta International</td>\n",
       "    </tr>\n",
       "    <tr>\n",
       "      <td>1</td>\n",
       "      <td>2758</td>\n",
       "      <td>DEN</td>\n",
       "      <td>Denver, CO</td>\n",
       "      <td>Denver International</td>\n",
       "    </tr>\n",
       "    <tr>\n",
       "      <td>2</td>\n",
       "      <td>2712</td>\n",
       "      <td>ORD</td>\n",
       "      <td>Chicago, IL</td>\n",
       "      <td>Chicago O'Hare International</td>\n",
       "    </tr>\n",
       "    <tr>\n",
       "      <td>3</td>\n",
       "      <td>2465</td>\n",
       "      <td>DFW</td>\n",
       "      <td>Dallas/Fort Worth, TX</td>\n",
       "      <td>Dallas/Fort Worth International</td>\n",
       "    </tr>\n",
       "    <tr>\n",
       "      <td>4</td>\n",
       "      <td>2326</td>\n",
       "      <td>CLT</td>\n",
       "      <td>Charlotte, NC</td>\n",
       "      <td>Charlotte Douglas International</td>\n",
       "    </tr>\n",
       "  </tbody>\n",
       "</table>\n",
       "</div>"
      ],
      "text/plain": [
       "   count airport_code           airport_city  \\\n",
       "0   2787          ATL            Atlanta, GA   \n",
       "1   2758          DEN             Denver, CO   \n",
       "2   2712          ORD            Chicago, IL   \n",
       "3   2465          DFW  Dallas/Fort Worth, TX   \n",
       "4   2326          CLT          Charlotte, NC   \n",
       "\n",
       "                               airport_name  \n",
       "0  Hartsfield-Jackson Atlanta International  \n",
       "1                      Denver International  \n",
       "2              Chicago O'Hare International  \n",
       "3           Dallas/Fort Worth International  \n",
       "4           Charlotte Douglas International  "
      ]
     },
     "execution_count": 66,
     "metadata": {},
     "output_type": "execute_result"
    }
   ],
   "source": [
    "g_tr.orderBy(F.desc('count')) \\\n",
    "    .drop('id') \\\n",
    "    .limit(5).toPandas()"
   ]
  }
 ],
 "metadata": {
  "hide_input": false,
  "kernelspec": {
   "display_name": "Python 3",
   "language": "python",
   "name": "python3"
  },
  "language_info": {
   "codemirror_mode": {
    "name": "ipython",
    "version": 3
   },
   "file_extension": ".py",
   "mimetype": "text/x-python",
   "name": "python",
   "nbconvert_exporter": "python",
   "pygments_lexer": "ipython3",
   "version": "3.6.5"
  },
  "rise": {
   "auto_select": "none",
   "start_slideshow_at": "beginning",
   "theme": "night"
  },
  "toc": {
   "base_numbering": 1,
   "nav_menu": {},
   "number_sections": true,
   "sideBar": true,
   "skip_h1_title": false,
   "title_cell": "Table of Contents",
   "title_sidebar": "Contents",
   "toc_cell": false,
   "toc_position": {},
   "toc_section_display": "block",
   "toc_window_display": false
  }
 },
 "nbformat": 4,
 "nbformat_minor": 2
}
